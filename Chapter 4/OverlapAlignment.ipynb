{
 "cells": [
  {
   "cell_type": "code",
   "execution_count": 7,
   "id": "f44b763a",
   "metadata": {},
   "outputs": [],
   "source": [
    "def matrix_helper(x, y):\n",
    "    return [[0]*y for i in range(x)]\n",
    "\n",
    "def OverlapAlignment(match_reward, mismatch_penalty, indel_penalty, seq1, seq2):\n",
    "    n = len(seq1)\n",
    "    m = len(seq2)\n",
    "    score = [[0 for j in range(m)] for i in range(n)]\n",
    "    backtrack = [[0 for j in range(m)] for i in range(n)]\n",
    "    optimal = (0,0)\n",
    "    for i in range(1,n):\n",
    "        for j in range(1,m):\n",
    "            if seq1[i-1] == seq2[j-1]:\n",
    "                score[i][j] = max(score[i][j-1] - indel_penalty,\n",
    "                                  score[i-1][j] - indel_penalty, \n",
    "                                  score[i-1][j-1] + match_reward)\n",
    "            else:\n",
    "                score[i][j] = max(score[i][j-1] - indel_penalty,\n",
    "                                  score[i-1][j] - indel_penalty, \n",
    "                                  score[i-1][j-1] - mismatch_penalty)\n",
    "            #down\n",
    "            if score[i][j] == score[i-1][j] - indel_penalty:\n",
    "                backtrack[i][j] = 1\n",
    "            #right\n",
    "            elif score[i][j] == score[i][j-1] - indel_penalty:\n",
    "                backtrack[i][j] = 2\n",
    "            #diagonal\n",
    "            elif score[i][j] == score[i-1][j-1] - mismatch_penalty or score[i][j] == score[i-1][j-1] + match_reward:\n",
    "                backtrack[i][j] = 3\n",
    "                \n",
    "    x = n - 1\n",
    "    y = max(range(m), key=lambda x: score[i][x])\n",
    "    a1 = \"\"\n",
    "    a2 = \"\"\n",
    "    maxi = score[i][j]\n",
    "    working = backtrack[x][y]\n",
    "    while(working != 0):\n",
    "        if working == 3:\n",
    "            x -= 1\n",
    "            y -= 1\n",
    "            a1 = seq1[x] + a1\n",
    "            a2 = seq2[y] + a2\n",
    "        elif working == 2:\n",
    "            y -= 1\n",
    "            a1 = '-' + a1\n",
    "            a2 = seq2[y] + a2\n",
    "        elif working == 1:\n",
    "            x -= 1\n",
    "            a1 = seq1[x] + a1\n",
    "            a2 = '-' + a2\n",
    "        working = backtrack[x][y]\n",
    "    return maxi, a1, a2"
   ]
  }
 ],
 "metadata": {
  "kernelspec": {
   "display_name": "Python 3 (ipykernel)",
   "language": "python",
   "name": "python3"
  },
  "language_info": {
   "codemirror_mode": {
    "name": "ipython",
    "version": 3
   },
   "file_extension": ".py",
   "mimetype": "text/x-python",
   "name": "python",
   "nbconvert_exporter": "python",
   "pygments_lexer": "ipython3",
   "version": "3.9.12"
  }
 },
 "nbformat": 4,
 "nbformat_minor": 5
}
