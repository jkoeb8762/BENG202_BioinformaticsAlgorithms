{
 "cells": [
  {
   "cell_type": "code",
   "execution_count": 1,
   "id": "4f90f4b9",
   "metadata": {},
   "outputs": [],
   "source": [
    "def matrix_helper(x, y):\n",
    "    return [[0]*y for i in range(x)]\n",
    "\n",
    "def EditDistance(s, t):\n",
    "    n = len(s)\n",
    "    m = len(t)\n",
    "    score = matrix_helper(n+1, m+1)\n",
    "    for i in range(1,n+1):\n",
    "        score[i][0] = i\n",
    "    for j in range(1, m+1):\n",
    "        score[0][j] = j\n",
    "    for i in range(1, n+1):\n",
    "        for j in range(1, m+1):\n",
    "            if s[i-1] == t[j-1]:\n",
    "                score[i][j] = min(score[i][j-1] + 1,\n",
    "                                  score[i-1][j] + 1, \n",
    "                                  score[i-1][j-1])\n",
    "            else:\n",
    "                score[i][j] = min(score[i][j-1] + 1,\n",
    "                                  score[i-1][j] + 1, \n",
    "                                  score[i-1][j-1] + 1)\n",
    "    return score[n][m]\n",
    "    "
   ]
  },
  {
   "cell_type": "code",
   "execution_count": 2,
   "id": "a1b168ee",
   "metadata": {},
   "outputs": [
    {
     "data": {
      "text/plain": [
       "2"
      ]
     },
     "execution_count": 2,
     "metadata": {},
     "output_type": "execute_result"
    }
   ],
   "source": [
    "seq1 = \"GAGA\"\n",
    "seq2 = \"GAT\"\n",
    "EditDistance(seq1, seq2)"
   ]
  },
  {
   "cell_type": "code",
   "execution_count": 3,
   "id": "cfa05f1b",
   "metadata": {},
   "outputs": [
    {
     "name": "stdout",
     "output_type": "stream",
     "text": [
      "305\n"
     ]
    }
   ],
   "source": [
    "import io\n",
    "with io.open(\"dataset_865690_3.txt\") as f:\n",
    "    lines = f.read().splitlines()\n",
    "    seq1 = lines[0].strip()\n",
    "    seq2 = lines[1].strip()\n",
    "    print(EditDistance(seq1,seq2))"
   ]
  }
 ],
 "metadata": {
  "kernelspec": {
   "display_name": "Python 3 (ipykernel)",
   "language": "python",
   "name": "python3"
  },
  "language_info": {
   "codemirror_mode": {
    "name": "ipython",
    "version": 3
   },
   "file_extension": ".py",
   "mimetype": "text/x-python",
   "name": "python",
   "nbconvert_exporter": "python",
   "pygments_lexer": "ipython3",
   "version": "3.9.13"
  }
 },
 "nbformat": 4,
 "nbformat_minor": 5
}
