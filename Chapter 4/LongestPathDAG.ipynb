{
 "cells": [
  {
   "cell_type": "code",
   "execution_count": 1,
   "id": "a34485ed",
   "metadata": {},
   "outputs": [],
   "source": [
    "def LongestPathDAG(start, end, graph):\n",
    "    distance = [0 for _ in range(end+1)]\n",
    "    backtrack = [0 for _ in range(end+1)]\n",
    "    for i in range(1, end+1):\n",
    "        for (source, weight) in graph[i]:\n",
    "            working = distance[source] + weight\n",
    "            if working >= distance[i]:\n",
    "                distance[i] = working\n",
    "                backtrack[i] = source\n",
    "    path = []\n",
    "    current = end\n",
    "    while current != start:\n",
    "        path.append(current)\n",
    "        current = backtrack[current]\n",
    "    path.append(start)\n",
    "    path.reverse()\n",
    "    return path\n",
    "\n",
    "\n",
    "filepath = \"dataset_865687_7.txt\"\n",
    "with open(filepath) as f:\n",
    "        lines = f.read().splitlines()\n",
    "        start, end = [int(x) for x in lines[0].split()]\n",
    "        reverse = {k:[] for k in range(end+1)}\n",
    "        for line in lines[1:]:\n",
    "            source, target, weight = [int(x) for x in line.split()]\n",
    "            reverse[target].append((source, weight))"
   ]
  },
  {
   "cell_type": "code",
   "execution_count": 32,
   "id": "557bdf7b",
   "metadata": {},
   "outputs": [
    {
     "name": "stdout",
     "output_type": "stream",
     "text": [
      "0 1 2 3 4 6 7 9 10 11 14 19 22 23 31 34 38 40 45 46 47 48 49\n"
     ]
    }
   ],
   "source": [
    "print(*LongestPathDAG(start, end, reverse))"
   ]
  },
  {
   "cell_type": "code",
   "execution_count": 2,
   "id": "d7d278f3",
   "metadata": {},
   "outputs": [
    {
     "name": "stdout",
     "output_type": "stream",
     "text": [
      "{0: [], 1: [(0, 2)], 2: [(1, 7)], 3: [(2, 18)], 4: [(3, 9)], 5: [(0, 9)], 6: [(4, 4)], 7: [(6, 10)], 8: [(5, 10)], 9: [(7, 2)], 10: [(9, 15)], 11: [(10, 15)], 12: [(1, 7)], 13: [(5, 11)], 14: [(11, 1)], 15: [(3, 20), (8, 11)], 16: [(1, 10)], 17: [(16, 7)], 18: [(5, 14)], 19: [(14, 12)], 20: [(9, 14), (12, 5)], 21: [(4, 7)], 22: [(19, 15)], 23: [(22, 19), (19, 19), (21, 6)], 24: [(11, 7)], 25: [(3, 17)], 26: [(10, 7)], 27: [(19, 7)], 28: [(0, 17)], 29: [(1, 8)], 30: [(18, 6)], 31: [(7, 7), (23, 13)], 32: [(17, 1), (26, 8)], 33: [(24, 13), (26, 8), (22, 10), (2, 9), (10, 17)], 34: [(30, 20), (14, 4), (31, 16)], 35: [(26, 4), (31, 14), (27, 8)], 36: [(33, 11), (19, 19), (27, 7)], 37: [(4, 5), (13, 16), (2, 11)], 38: [(6, 10), (28, 7), (34, 5)], 39: [(32, 7), (3, 18), (2, 11)], 40: [(38, 18)], 41: [(7, 18), (40, 11), (39, 19), (18, 2), (35, 14)], 42: [(25, 19), (33, 4), (36, 6), (31, 12)], 43: [(17, 5), (10, 5), (4, 16), (13, 17), (34, 10)], 44: [(25, 1), (32, 5)], 45: [(42, 18), (12, 12), (36, 18), (9, 13), (44, 3), (7, 10), (28, 1), (40, 12)], 46: [(34, 7), (20, 11), (45, 18), (44, 15), (33, 3), (14, 6)], 47: [(45, 8), (39, 17), (46, 2)], 48: [(41, 8), (28, 7), (26, 4), (30, 8), (47, 10)], 49: [(35, 18), (45, 5), (48, 6), (46, 2), (30, 8)]}\n"
     ]
    }
   ],
   "source": [
    "print(reverse)"
   ]
  },
  {
   "cell_type": "code",
   "execution_count": null,
   "id": "cfb695a7",
   "metadata": {},
   "outputs": [],
   "source": []
  }
 ],
 "metadata": {
  "kernelspec": {
   "display_name": "Python 3 (ipykernel)",
   "language": "python",
   "name": "python3"
  },
  "language_info": {
   "codemirror_mode": {
    "name": "ipython",
    "version": 3
   },
   "file_extension": ".py",
   "mimetype": "text/x-python",
   "name": "python",
   "nbconvert_exporter": "python",
   "pygments_lexer": "ipython3",
   "version": "3.9.12"
  }
 },
 "nbformat": 4,
 "nbformat_minor": 5
}
