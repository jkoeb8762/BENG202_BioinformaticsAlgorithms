{
 "cells": [
  {
   "cell_type": "code",
   "execution_count": 1,
   "id": "a34485ed",
   "metadata": {},
   "outputs": [],
   "source": [
    "def LongestPathDAG(start, end, graph):\n",
    "    distance = [0 for _ in range(end+1)]\n",
    "    backtrack = [0 for _ in range(end+1)]\n",
    "    for i in range(1, end+1):\n",
    "        for (source, weight) in graph[i]:\n",
    "            working = distance[source] + weight\n",
    "            if working >= distance[i]:\n",
    "                distance[i] = working\n",
    "                backtrack[i] = source\n",
    "    path = []\n",
    "    current = end\n",
    "    while current != start:\n",
    "        path.append(current)\n",
    "        current = backtrack[current]\n",
    "    path.append(start)\n",
    "    path.reverse()\n",
    "    return path, distance[end]"
   ]
  },
  {
   "cell_type": "code",
   "execution_count": null,
   "id": "62f4116a",
   "metadata": {},
   "outputs": [],
   "source": [
    "filepath = \"test\\dataset_865687_7.txt\"\n",
    "with open(filepath) as f:\n",
    "    lines = f.read().splitlines()\n",
    "    start, end = [int(x) for x in lines[0].split()]\n",
    "    reverse = {k:[] for k in range(end+1)}\n",
    "    for line in lines[1:]:\n",
    "        source, target, weight = [int(x) for x in line.split()]\n",
    "        reverse[target].append((source, weight))\n",
    "\n",
    "# Call the function\n",
    "longest_path, longest_path_length = LongestPathDAG(start, end, reverse)\n",
    "print(\"Longest Path:\", longest_path)\n",
    "print(\"Longest Path Length:\", longest_path_length)"
   ]
  }
 ],
 "metadata": {
  "kernelspec": {
   "display_name": "Python 3 (ipykernel)",
   "language": "python",
   "name": "python3"
  },
  "language_info": {
   "codemirror_mode": {
    "name": "ipython",
    "version": 3
   },
   "file_extension": ".py",
   "mimetype": "text/x-python",
   "name": "python",
   "nbconvert_exporter": "python",
   "pygments_lexer": "ipython3",
   "version": "3.9.13"
  }
 },
 "nbformat": 4,
 "nbformat_minor": 5
}
