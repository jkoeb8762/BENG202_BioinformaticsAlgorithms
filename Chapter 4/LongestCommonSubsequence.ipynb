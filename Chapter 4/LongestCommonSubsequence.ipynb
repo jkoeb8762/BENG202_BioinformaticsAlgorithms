{
 "cells": [
  {
   "cell_type": "code",
   "execution_count": 64,
   "id": "12888ddc",
   "metadata": {},
   "outputs": [],
   "source": [
    "def MatrixHelper(n,m):\n",
    "    return [[0]*(m) for i in range(n)]\n",
    "def LongestCommonSubsequence(s,t):\n",
    "    n = len(s)\n",
    "    m = len(t)\n",
    "    score = MatrixHelper(n+1,m+1)\n",
    "    backtrack = MatrixHelper(n+1,m+1)\n",
    "    for i in range(1,n+1):\n",
    "        for j in range(1,m+1):\n",
    "            match = 0\n",
    "            if s[i-1] == t[j-1]:\n",
    "                match = 1\n",
    "            score[i][j] = max(score[i][j-1], score[i-1][j], score[i-1][j-1] + match)\n",
    "            #down\n",
    "            if score[i][j] == score[i-1][j]:\n",
    "                backtrack[i][j] = 1\n",
    "            #right\n",
    "            elif score[i][j] == score[i][j-1]:\n",
    "                backtrack[i][j] = 2\n",
    "            #diagonal\n",
    "            elif score[i][j] == score[i-1][j-1] + match:\n",
    "                backtrack[i][j] = 3\n",
    "    return backtrack"
   ]
  },
  {
   "cell_type": "code",
   "execution_count": 65,
   "id": "20905f53",
   "metadata": {},
   "outputs": [],
   "source": [
    "def OutputLCS(backtrack, v, i, j):\n",
    "    if i == 0 or j == 0:\n",
    "        return \"\"\n",
    "    working = backtrack[i][j]\n",
    "    if working == 1:\n",
    "        return OutputLCS(backtrack, v, i-1,j)\n",
    "    elif working == 2:\n",
    "        return OutputLCS(backtrack, v, i,j-1)\n",
    "    else:\n",
    "        return OutputLCS(backtrack, v, i-1,j-1) + v[i-1] "
   ]
  },
  {
   "cell_type": "code",
   "execution_count": 69,
   "id": "4ec9e1fd",
   "metadata": {
    "scrolled": true
   },
   "outputs": [
    {
     "name": "stdout",
     "output_type": "stream",
     "text": [
      "AACTTG\n"
     ]
    }
   ],
   "source": [
    "s1 = \"AACCTTGG\"\n",
    "s2 = \"ACACTGTGA\"\n",
    "backtrack = LongestCommonSubsequence(s1,s2)\n",
    "ans = OutputLCS(backtrack, s1, len(s1)-1, len(s2)-1)\n",
    "print(ans)"
   ]
  },
  {
   "cell_type": "code",
   "execution_count": 72,
   "id": "158738b5",
   "metadata": {},
   "outputs": [
    {
     "name": "stdout",
     "output_type": "stream",
     "text": [
      "AGCGTTAATGCCAGGCACACTGATTGAGGGACTGCTCCAATCGCATAAAATGCGGAAAGTTGTGTCCACTTTCCTAGTATAAACGTCAAACGCGATAATTTAAATGGCCTCATTCTCTTGTTAAAGCGAGGAGAGTGTCCATGCGTGTGACACCGTTACCAACGCTACCTCGTAACTAAGGCGAATTACGCGGGCGTAGTTACCATTTATACCTGGGCATTTACGTACCGGGCGCTAGGAGGGGTGCATCGGGGTTGACCACATTGCGTTAGTACTAGTGGTGAACACTAGATGCCAGAAGTTGAGAATTCCCAGAGTCACCCCGTTTCGCGGTCCTCTTTGACCGTATTTTACGCTTAGGTGCTTCCTTGGACAAGATTGACGAGTAAGGAGCCGTTCCAGCTGGATTAAAGGCTGTCCACCAATCTTTACCTTCTTCCTATCTGAATACCGTGTTCAGCACGCTGGGGCATACCCGTTGGGCCGGGGTTGAGCCTACCTACTTCATTGTGGAAAAAACACTGCTACGGCGAGGATGTAATTACCACCTTCTTCCTAAGTACCTAGCTCCCCACAGGTTCATCTC\n",
      "CT\n"
     ]
    }
   ],
   "source": [
    "import io\n",
    "#with io.open(\"LongestCommonSubsequence\\inputs\\input_7.txt\") as f:\n",
    "with io.open(\"dataset_865687_5.txt\") as f:\n",
    "    x= f.readline().strip()\n",
    "    y= f.readline().strip()\n",
    "backtrack = LongestCommonSubsequence(x,y)\n",
    "print(OutputLCS(backtrack, x, len(x), len(y)))\n",
    "\n",
    "with io.open(\"LongestCommonSubsequence\\outputs\\output_7.txt\") as f:\n",
    "    x = f.readline().strip()\n",
    "    print(x)"
   ]
  },
  {
   "cell_type": "code",
   "execution_count": null,
   "id": "6c2c5a24",
   "metadata": {},
   "outputs": [],
   "source": []
  }
 ],
 "metadata": {
  "kernelspec": {
   "display_name": "Python 3 (ipykernel)",
   "language": "python",
   "name": "python3"
  },
  "language_info": {
   "codemirror_mode": {
    "name": "ipython",
    "version": 3
   },
   "file_extension": ".py",
   "mimetype": "text/x-python",
   "name": "python",
   "nbconvert_exporter": "python",
   "pygments_lexer": "ipython3",
   "version": "3.9.12"
  }
 },
 "nbformat": 4,
 "nbformat_minor": 5
}
