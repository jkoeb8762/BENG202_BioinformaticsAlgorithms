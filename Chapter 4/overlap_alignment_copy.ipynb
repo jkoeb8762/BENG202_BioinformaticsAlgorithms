{
 "cells": [
  {
   "cell_type": "code",
   "execution_count": 17,
   "id": "8425222c",
   "metadata": {},
   "outputs": [],
   "source": [
    "def overlap_alignment(v, w):\n",
    "    '''Returns the overlap alignment of strings v and w.'''\n",
    "\n",
    "    # Initialize the arrays.\n",
    "    S = [[0 for repeat_j in range(len(w)+1)] for repeat_i in range(len(v)+1)]\n",
    "    backtrack = [[0 for repeat_j in range(len(w)+1)] for repeat_i in range(len(v)+1)]\n",
    "\n",
    "    # Initialize the max score.\n",
    "    max_score = -3*(len(v) + len(w))\n",
    "\n",
    "    # Fill in the Score and Backtrack arrays.\n",
    "    for i in range(1, len(v)+1):\n",
    "        for j in range(1, len(w)+1):\n",
    "            # Match score = 1, Mismatch and Indels = -2.\n",
    "            scores = [S[i-1][j-1] + [-1, 1][v[i-1] == w[j-1]], S[i-1][j] - 2, S[i][j-1] - 2]\n",
    "            S[i][j] = max(scores)\n",
    "            backtrack[i][j] = scores.index(S[i][j])\n",
    "\n",
    "            # Check if we have a new maximum along the last row or column and update accordingly.\n",
    "            if i == len(v) or j == len(w):\n",
    "                if S[i][j] > max_score:\n",
    "                    max_score = S[i][j]\n",
    "                    max_indices = (i, j)\n",
    "\n",
    "    # Initialize i and j as their corresponding index of the maximum score.\n",
    "    i, j = max_indices\n",
    "\n",
    "    # Initialize the aligned strings as the input strings, removing the unused tails.\n",
    "    v_aligned, w_aligned = v[:i], w[:j]\n",
    "\n",
    "    # Quick lambda function to insert indels.\n",
    "    insert_indel = lambda word, i: word[:i] + '-' + word[i:]\n",
    "\n",
    "    # Backtrack to the first row or column from the highest score in the last row or column.\n",
    "    while i*j != 0:\n",
    "        if backtrack[i][j] == 1:\n",
    "            i -= 1\n",
    "            w_aligned = insert_indel(w_aligned, j)\n",
    "        elif backtrack[i][j] == 2:\n",
    "            j -= 1\n",
    "            v_aligned = insert_indel(v_aligned, i)\n",
    "        else:\n",
    "            i -= 1\n",
    "            j -= 1\n",
    "\n",
    "    # Remove the unused head the aligned strings.\n",
    "    v_aligned, w_aligned = v_aligned[i:], w_aligned[j:]\n",
    "\n",
    "    #return #str(max_score), v_aligned, w_aligned\n",
    "    return str(max_score), v_aligned, w_aligned"
   ]
  },
  {
   "cell_type": "code",
   "execution_count": 4,
   "id": "b172c17e",
   "metadata": {},
   "outputs": [
    {
     "data": {
      "text/plain": [
       "('2', 'GA', 'GA')"
      ]
     },
     "execution_count": 4,
     "metadata": {},
     "output_type": "execute_result"
    }
   ],
   "source": [
    "overlap_alignment(\"GAGA\", \"GAT\")"
   ]
  },
  {
   "cell_type": "code",
   "execution_count": 19,
   "id": "2afccefa",
   "metadata": {},
   "outputs": [
    {
     "name": "stdout",
     "output_type": "stream",
     "text": [
      "('171', 'GTGGTCGGTAGCCGGTTAGAGGGGTTACAAATGGCATGGAAGCGTATAGTCTAGTTTTC-TGCGTCCTGGCA---CGTATGAAGCAATGCAACGTATCGCGTGTAGTGGTAATTAAGAAGTTCGATTGGCATGTTTGATCGCAGGTCGAACCTCTTTAAGAGTTAGGCAATAAGGAAGCGCTCGCCTATGTAGCATGACGTGTAAACTTAAGGTTATATGGAATGCTATCT---ATC-TGGATCACAGGAGGTCCTGGGTGCAACCCTGCTATTCGGTTAATCGCTACAAGGCCGTACA-AT-A-ACATGGATAGACCA-GTGCATCTCCTCTGGTAT-GAGGGGTCTTACGG-GAGGAGTGTCGCAGTAGAATCACG-CCTGACCGGCACG-GTAACCGGGGGGAAGCGGATGCGGGTCCAGTA---ACCCCGCGGGACCTAAGGTCCTGGGCGC-TTCGG-CCACTGGGTC-GGACATGCACTGAAGGTCATGTTCGGTGCTGT-CTGCGTCTACGTTGAGACCCTTGGTGTAAAAAAGC-TT-A-TGTTTAAGCGTCAT-T-T-GTGACACGGGAGTTTTTCA-GAGCCCTAAGACATC--AAACA--GCCGCAC-GTGCCTCGCGTCAGGTACATTAGAGAGCGTCTTCTGAAACGAAACACGTATGACGGCAGGCCGAGACTGTTCATATGCTATCAAAAGACTGCGATGGACGAAAACGGGGCATGCCGACGGCCCCGAACGTGGC-ACTTCTTGGCTACAAGTCTTTCACGGACCGGCC--A--A-TCT-C-TATCAAGCTAGAAGCTTCTGACTGAATTGATT--TGCA---G--C----C-GGG----TAGGCTGACTCCGCTACGAT-A-GAC-AA-TAGGTTTCGTGCGAGGATAGCATTAGCACCGACGCCTAGACGACCCGGACACTTGGCCCT-CATCCGGGCGCGATAG', 'GTGGTCGGTCGCCGGTTTGAGGGGTTGAGCAT-CTGTGGTA-TTCAAATTATTGTGTCCATGCATCCTGGCAGGTGGTATGAAGCAATGCAACGTATCGC--GT-GTGGTAA--AA-TCGATCGGTT--CATGTAGGA--GC-TGTCGGACTTCTTTAAGAATTAGGCAATAAGGAAGCGCT----TA-G--GC---AC-T-TGAACGTAATGTTACACGGGATGCTATCTGCGGGCGATGATCACAGCATCTACGGGGTGCAACCCTTCAATTCGG-T-CT-G--GCAATGCCGTACAGATCATATATGGCT--ACTATGT-TATACCAACCAGTATATCTACACCCCATGGTGCAGAGAGTCTCAACTGAGTAGTGTCTTTAGAATTACGTGGGA-AGCGGTTAAAC--CTGCGGGTCCAGTAGGCACCCCGCGTG-CCCGACTTCCTGTGGGCGTTCGGCCCATCAGGTCTGGACATGCACTGATTATTAGCGTATGTTCGGTGCT--GTCTGCG-TGCGACCCTTGGTGTAACATTTCGTTCAGAACATAAACATCATATGTAATGTCACTAG-GTTTTTCATTAATTC-AAGACATCTTGAACAGTGCCTCGCAATG-GTCAC-ACTGCTATATTAGAGAGCG---GC--AAA--ACTCTCG--TGATAG-TGGCCGAGACTGTTTATAGGCTATC-AAA-A----GA--GACG--AA-----CACGCCGAGGGCCCCGAACGACCCGGCTTCTTGGCTACAAGTCTTTCACGGACCGGCCAAATGATTTTGCTTATCACGCTAGAAGCTTCAGACTGAAGGGATTAAGGCAGCCGATCTGTGCAGGGCATTTAGGCTGACTCCGCTACGATAATCACAAAGCAGGTTTCGTGCGAGGATAGC-TTTG-A-TGAAAACT-CA-TACCCGGAC-CTTGTACGTGTCTCTGCTCGTGATAT')\n"
     ]
    }
   ],
   "source": [
    "import io\n",
    "with io.open(\"dataset_865690_7.txt\") as f:\n",
    "    lines = f.read().splitlines()\n",
    "    match_reward, mismatch_penalty, indel_penalty = [int(x) for x in lines[0].split()]\n",
    "    #print(match_reward, mismatch_penalty, indel_penalty )\n",
    "    seq1 = lines[1].strip()\n",
    "    seq2 = lines[2].strip()\n",
    "    print(overlap_alignment(seq1, seq2))"
   ]
  },
  {
   "cell_type": "code",
   "execution_count": null,
   "id": "15787c53",
   "metadata": {},
   "outputs": [],
   "source": []
  }
 ],
 "metadata": {
  "kernelspec": {
   "display_name": "Python 3 (ipykernel)",
   "language": "python",
   "name": "python3"
  },
  "language_info": {
   "codemirror_mode": {
    "name": "ipython",
    "version": 3
   },
   "file_extension": ".py",
   "mimetype": "text/x-python",
   "name": "python",
   "nbconvert_exporter": "python",
   "pygments_lexer": "ipython3",
   "version": "3.9.12"
  }
 },
 "nbformat": 4,
 "nbformat_minor": 5
}
