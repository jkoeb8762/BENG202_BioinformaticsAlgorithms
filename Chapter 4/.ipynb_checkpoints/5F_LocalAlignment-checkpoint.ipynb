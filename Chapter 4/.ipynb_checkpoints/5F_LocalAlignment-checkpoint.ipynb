{
 "cells": [
  {
   "cell_type": "code",
   "execution_count": 3,
   "id": "626295b7",
   "metadata": {},
   "outputs": [],
   "source": [
    "PAM250 = {'A': {'A': 2, 'C': -2, 'D': 0, 'E': 0, 'F': -3, 'G': 1, 'H': -1, 'I': -1, 'K': -1, 'L': -2, 'M': -1, 'N': 0,\n",
    "                'P': 1, 'Q': 0, 'R': -2, 'S': 1, 'T': 1, 'V': 0, 'W': -6, 'Y': -3},\n",
    "          'C': {'A': -2, 'C': 12, 'D': -5, 'E': -5, 'F': -4, 'G': -3, 'H': -3, 'I': -2, 'K': -5, 'L': -6, 'M': -5,\n",
    "                'N': -4, 'P': -3, 'Q': -5, 'R': -4, 'S': 0, 'T': -2, 'V': -2, 'W': -8, 'Y': 0},\n",
    "          'D': {'A': 0, 'C': -5, 'D': 4, 'E': 3, 'F': -6, 'G': 1, 'H': 1, 'I': -2, 'K': 0, 'L': -4, 'M': -3, 'N': 2,\n",
    "                'P': -1, 'Q': 2, 'R': -1, 'S': 0, 'T': 0, 'V': -2, 'W': -7, 'Y': -4},\n",
    "          'E': {'A': 0, 'C': -5, 'D': 3, 'E': 4, 'F': -5, 'G': 0, 'H': 1, 'I': -2, 'K': 0, 'L': -3, 'M': -2, 'N': 1,\n",
    "                'P': -1, 'Q': 2, 'R': -1, 'S': 0, 'T': 0, 'V': -2, 'W': -7, 'Y': -4},\n",
    "          'F': {'A': -3, 'C': -4, 'D': -6, 'E': -5, 'F': 9, 'G': -5, 'H': -2, 'I': 1, 'K': -5, 'L': 2, 'M': 0, 'N': -3,\n",
    "                'P': -5, 'Q': -5, 'R': -4, 'S': -3, 'T': -3, 'V': -1, 'W': 0, 'Y': 7},\n",
    "          'G': {'A': 1, 'C': -3, 'D': 1, 'E': 0, 'F': -5, 'G': 5, 'H': -2, 'I': -3, 'K': -2, 'L': -4, 'M': -3, 'N': 0,\n",
    "                'P': 0, 'Q': -1, 'R': -3, 'S': 1, 'T': 0, 'V': -1, 'W': -7, 'Y': -5},\n",
    "          'H': {'A': -1, 'C': -3, 'D': 1, 'E': 1, 'F': -2, 'G': -2, 'H': 6, 'I': -2, 'K': 0, 'L': -2, 'M': -2, 'N': 2,\n",
    "                'P': 0, 'Q': 3, 'R': 2, 'S': -1, 'T': -1, 'V': -2, 'W': -3, 'Y': 0},\n",
    "          'I': {'A': -1, 'C': -2, 'D': -2, 'E': -2, 'F': 1, 'G': -3, 'H': -2, 'I': 5, 'K': -2, 'L': 2, 'M': 2, 'N': -2,\n",
    "                'P': -2, 'Q': -2, 'R': -2, 'S': -1, 'T': 0, 'V': 4, 'W': -5, 'Y': -1},\n",
    "          'K': {'A': -1, 'C': -5, 'D': 0, 'E': 0, 'F': -5, 'G': -2, 'H': 0, 'I': -2, 'K': 5, 'L': -3, 'M': 0, 'N': 1,\n",
    "                'P': -1, 'Q': 1, 'R': 3, 'S': 0, 'T': 0, 'V': -2, 'W': -3, 'Y': -4},\n",
    "          'L': {'A': -2, 'C': -6, 'D': -4, 'E': -3, 'F': 2, 'G': -4, 'H': -2, 'I': 2, 'K': -3, 'L': 6, 'M': 4, 'N': -3,\n",
    "                'P': -3, 'Q': -2, 'R': -3, 'S': -3, 'T': -2, 'V': 2, 'W': -2, 'Y': -1},\n",
    "          'M': {'A': -1, 'C': -5, 'D': -3, 'E': -2, 'F': 0, 'G': -3, 'H': -2, 'I': 2, 'K': 0, 'L': 4, 'M': 6, 'N': -2,\n",
    "                'P': -2, 'Q': -1, 'R': 0, 'S': -2, 'T': -1, 'V': 2, 'W': -4, 'Y': -2},\n",
    "          'N': {'A': 0, 'C': -4, 'D': 2, 'E': 1, 'F': -3, 'G': 0, 'H': 2, 'I': -2, 'K': 1, 'L': -3, 'M': -2, 'N': 2,\n",
    "                'P': 0, 'Q': 1, 'R': 0, 'S': 1, 'T': 0, 'V': -2, 'W': -4, 'Y': -2},\n",
    "          'P': {'A': 1, 'C': -3, 'D': -1, 'E': -1, 'F': -5, 'G': 0, 'H': 0, 'I': -2, 'K': -1, 'L': -3, 'M': -2, 'N': 0,\n",
    "                'P': 6, 'Q': 0, 'R': 0, 'S': 1, 'T': 0, 'V': -1, 'W': -6, 'Y': -5},\n",
    "          'Q': {'A': 0, 'C': -5, 'D': 2, 'E': 2, 'F': -5, 'G': -1, 'H': 3, 'I': -2, 'K': 1, 'L': -2, 'M': -1, 'N': 1,\n",
    "                'P': 0, 'Q': 4, 'R': 1, 'S': -1, 'T': -1, 'V': -2, 'W': -5, 'Y': -4},\n",
    "          'R': {'A': -2, 'C': -4, 'D': -1, 'E': -1, 'F': -4, 'G': -3, 'H': 2, 'I': -2, 'K': 3, 'L': -3, 'M': 0, 'N': 0,\n",
    "                'P': 0, 'Q': 1, 'R': 6, 'S': 0, 'T': -1, 'V': -2, 'W': 2, 'Y': -4},\n",
    "          'S': {'A': 1, 'C': 0, 'D': 0, 'E': 0, 'F': -3, 'G': 1, 'H': -1, 'I': -1, 'K': 0, 'L': -3, 'M': -2, 'N': 1,\n",
    "                'P': 1, 'Q': -1, 'R': 0, 'S': 2, 'T': 1, 'V': -1, 'W': -2, 'Y': -3},\n",
    "          'T': {'A': 1, 'C': -2, 'D': 0, 'E': 0, 'F': -3, 'G': 0, 'H': -1, 'I': 0, 'K': 0, 'L': -2, 'M': -1, 'N': 0,\n",
    "                'P': 0, 'Q': -1, 'R': -1, 'S': 1, 'T': 3, 'V': 0, 'W': -5, 'Y': -3},\n",
    "          'V': {'A': 0, 'C': -2, 'D': -2, 'E': -2, 'F': -1, 'G': -1, 'H': -2, 'I': 4, 'K': -2, 'L': 2, 'M': 2, 'N': -2,\n",
    "                'P': -1, 'Q': -2, 'R': -2, 'S': -1, 'T': 0, 'V': 4, 'W': -6, 'Y': -2},\n",
    "          'W': {'A': -6, 'C': -8, 'D': -7, 'E': -7, 'F': 0, 'G': -7, 'H': -3, 'I': -5, 'K': -3, 'L': -2, 'M': -4,\n",
    "                'N': -4, 'P': -6, 'Q': -5, 'R': 2, 'S': -2, 'T': -5, 'V': -6, 'W': 17, 'Y': 0},\n",
    "          'Y': {'A': -3, 'C': 0, 'D': -4, 'E': -4, 'F': 7, 'G': -5, 'H': 0, 'I': -1, 'K': -4, 'L': -1, 'M': -2, 'N': -2,\n",
    "                'P': -5, 'Q': -4, 'R': -4, 'S': -3, 'T': -3, 'V': -2, 'W': 0, 'Y': 10}}\n"
   ]
  },
  {
   "cell_type": "code",
   "execution_count": 4,
   "id": "14075231",
   "metadata": {},
   "outputs": [],
   "source": [
    "def matrix_helper(x, y):\n",
    "    return [[0]*y for i in range(x)]\n",
    "def LocalAlignment(seq1, seq2, indel_penalty = 5):\n",
    "    n = len(seq1)\n",
    "    m = len(seq2)\n",
    "    score = matrix_helper(n+1, m+1)\n",
    "    backtrack = matrix_helper(n+1, m+1)\n",
    "    best = 0\n",
    "    optimal = (0,0)\n",
    "    for i in range(1,n+1):\n",
    "        for j in range(1,m+1):\n",
    "            down = score[i-1][j] - indel_penalty\n",
    "            right = score[i][j-1] - indel_penalty\n",
    "            diag = score[i-1][j-1] + PAM250[seq1[i-1]][seq2[j-1]]\n",
    "            score[i][j] = max(down,\n",
    "                              right,\n",
    "                              diag,\n",
    "                              0)\n",
    "            if score[i][j] >= best:\n",
    "                best = score[i][j]\n",
    "                optimal = (i,j)\n",
    "            #down\n",
    "            if score[i][j] == down:\n",
    "                if score[i-1][j] < 0 and score[i][j-1] < 0 and score[i-1][j-1] < 0:\n",
    "                    backtrack[i][j] = 0 \n",
    "                else:\n",
    "                    backtrack[i][j] = 1\n",
    "            #right\n",
    "            elif score[i][j] == right:\n",
    "                if score[i-1][j] < 0 and score[i][j-1] < 0 and score[i-1][j-1] < 0:\n",
    "                    backtrack[i][j] = 0 \n",
    "                else:\n",
    "                    backtrack[i][j] = 2\n",
    "            #diagonal\n",
    "            elif score[i][j] == diag:\n",
    "                backtrack[i][j] = 3\n",
    "    x = optimal[0]\n",
    "    y = optimal[1]\n",
    "    a1 = ''\n",
    "    a2 = ''\n",
    "    working = backtrack[x][y]\n",
    "    while(working > 0):\n",
    "        if working == 3:\n",
    "            x -= 1\n",
    "            y -= 1\n",
    "            a1 = seq1[x] + a1\n",
    "            a2 = seq2[y] + a2\n",
    "        elif working == 2:\n",
    "            y -= 1\n",
    "            a1 = '-' + a1\n",
    "            a2 = seq2[y] + a2\n",
    "        elif working == 1:\n",
    "            x -= 1\n",
    "            a1 = seq1[x] + a1\n",
    "            a2 = '-' + a2\n",
    "        working = backtrack[x][y]\n",
    "    print (\"Alignment sequence 1: \" + a1)\n",
    "    print (\"Alignment sequence 2: \" + a2)\n",
    "    return best, a1, a2"
   ]
  },
  {
   "cell_type": "code",
   "execution_count": 6,
   "id": "be069302",
   "metadata": {},
   "outputs": [
    {
     "name": "stdout",
     "output_type": "stream",
     "text": [
      "Alignment sequence 1: YQSPPDGGP-N-Y-EHWECVWDKKVVTDQGIWISLFEH-KKFLAMLR-LIAEHQGS-PICMGGQQK-TIVNLHNAHWVATTEDSQMPRSQ-YMDGCHMQSTSSTWTVKPMVRTRFRFGFWKAGPLHK-H-VDPHW-KHMQVRFGIV--GIGDYQRGVHAFMWKPDTEQTIHGGWDV-G-FAH-CKIWYIKQWYCWCSLCARDN-WSHCID-C--L-RP-KENTM--GWPF-DGAIAGNGLFW-YCSPGIKPTVVEFRDCNHSSIERIVTTVHHLPGLYM-TYLAMTAPAKPFSIIWGSNNHDAYTMHL--ME-KYQNISQMRP-EIWQKYMEHHPNRSPQKYKRHF---YEF--W-E--MASQSEVYGYRGPNMYADVAL-MAKISH-E--T--NDDNMFSPHDLHFACPW-E-TIDPAYGLFQPYKRYKFGKDTADDSDQLTPSPLMLICENAWKVMYIA--CT-GCC---C-HHCYIHKTCYCISNAMAVPFCTRKMRVKNYNCMWDKLQCSGFQSYHETLIDPVFIVAQNYSWSP---RWDFNIHHTDPVLE---KLA--WAHKPTV---GATVRAQRNDYMK---R-V-VC-HQIGPAWHISYTHYADRPTFREGEDERPATQIVAVWWEHVTNWHSSQLITDYVRAYDW-YESFEMPWQYHHRKKSN-SCIW--WEPNAPRQWTIRVKPVEAPLGSVREC-CGFWIGSGNDYRPYTKYASGHCA-EPTTNMMYMKNKHQF-LTYMFKLIP-Y-QSNCHIIYITNG-GIKHCL-YK-WVC-YNRWYNIMNSEVW-MLLKL-TVQFSLGNFLWEWKEQCNNHQFYPRTKYPWQEFGDNMTLCARMTSQHNVH-KDWFVHYHVP-IR-PKHDNL-H--WLL---EYLNC-KYPI-I-WLND-MCLFWRYQIERENLMMFPPCYGQ-MQYLC-I-YWFKAG-RPLRYRRLRQIGCHLTNLQL\n",
      "Alignment sequence 2: YTTPPNASICDTYPEHQAGSSDHKFHKRGSLLMRHHGTGPKCKCRYRRQCTGHFGCQPT-MSYHISWMLIQKEMEYWPYWII-S-IRWGHGYL--CWVVAGNLD-IISGFAGIHMWHLYWETGQ-RKSNGITLWWVKALWV-YGFITEDMVTYQ-TYTS-GWIHNLTTGMKPDMGIFENFSPICDEW-EKILMRWSNPAHPNTGIPHCLEECPSLAPPIKSEYMVCAW-YCRECIFHMHRKWAFC-PSWKP-I--WSIC-L--I-WMCVAL--VCAMCRCPYLLMTAPAKPESIIWGSN-LSRF-VQVDCMEVKYQH--QYASFNISQ--MRVSGSESPQKYKRHFTLKCEFTPKKETEMASQSEVYGTRGPNMYADVRYPMAKISHRKLWPIKNDDNMFSSHDLHFACPWIENTTDPAYGLFQPYKRSKFGKDTVGD-D----S-----CENAWKVMYIARPSERPYVWMQCPRQNYVHYTCY---Q-Y-VPFCTRKMRVKNY---WDQL--ID-PVFIVGWNCPGGHCSP-FNWSVMCYRWDFNIHHRDPVAEAAGDIQQCW--KPTVFRCGATVRAQRPDYMQPIFHPIRVCCHQIGPANHISATHYADRPTFSTNPKSWHSSQLITDYW-HFIKF-IEHSVAHY-ESFEMQYHHNKRDWE-PNIEMSLLKIVYKEWH-HV---WDAFFEKIGTE-TRLRQCYC-FRLSP--Q-K---KFTL-QCALIPTTQRKY-PDKGDFKMPCG-DVTATYDHVDSAV-FTCKEWEMSFIIQFQNRSCVCSR--HLCSNRLFCVAAKLETINYQ-SPFMR-WK-Q-P-H--YQPTKLS--GFDNSI-VCSH-CPHEDTECMD-NVCAKLAAIDLQRLDTLVQELWILCATQSVDIADFNLYTKWQDDQRADF--YSVGP-SMMMLDQENGICNAYITLITMWLIGTCGPWKNDHMTPRTC--SEMPL\n"
     ]
    },
    {
     "data": {
      "text/plain": [
       "(1010,\n",
       " 'YQSPPDGGP-N-Y-EHWECVWDKKVVTDQGIWISLFEH-KKFLAMLR-LIAEHQGS-PICMGGQQK-TIVNLHNAHWVATTEDSQMPRSQ-YMDGCHMQSTSSTWTVKPMVRTRFRFGFWKAGPLHK-H-VDPHW-KHMQVRFGIV--GIGDYQRGVHAFMWKPDTEQTIHGGWDV-G-FAH-CKIWYIKQWYCWCSLCARDN-WSHCID-C--L-RP-KENTM--GWPF-DGAIAGNGLFW-YCSPGIKPTVVEFRDCNHSSIERIVTTVHHLPGLYM-TYLAMTAPAKPFSIIWGSNNHDAYTMHL--ME-KYQNISQMRP-EIWQKYMEHHPNRSPQKYKRHF---YEF--W-E--MASQSEVYGYRGPNMYADVAL-MAKISH-E--T--NDDNMFSPHDLHFACPW-E-TIDPAYGLFQPYKRYKFGKDTADDSDQLTPSPLMLICENAWKVMYIA--CT-GCC---C-HHCYIHKTCYCISNAMAVPFCTRKMRVKNYNCMWDKLQCSGFQSYHETLIDPVFIVAQNYSWSP---RWDFNIHHTDPVLE---KLA--WAHKPTV---GATVRAQRNDYMK---R-V-VC-HQIGPAWHISYTHYADRPTFREGEDERPATQIVAVWWEHVTNWHSSQLITDYVRAYDW-YESFEMPWQYHHRKKSN-SCIW--WEPNAPRQWTIRVKPVEAPLGSVREC-CGFWIGSGNDYRPYTKYASGHCA-EPTTNMMYMKNKHQF-LTYMFKLIP-Y-QSNCHIIYITNG-GIKHCL-YK-WVC-YNRWYNIMNSEVW-MLLKL-TVQFSLGNFLWEWKEQCNNHQFYPRTKYPWQEFGDNMTLCARMTSQHNVH-KDWFVHYHVP-IR-PKHDNL-H--WLL---EYLNC-KYPI-I-WLND-MCLFWRYQIERENLMMFPPCYGQ-MQYLC-I-YWFKAG-RPLRYRRLRQIGCHLTNLQL',\n",
       " 'YTTPPNASICDTYPEHQAGSSDHKFHKRGSLLMRHHGTGPKCKCRYRRQCTGHFGCQPT-MSYHISWMLIQKEMEYWPYWII-S-IRWGHGYL--CWVVAGNLD-IISGFAGIHMWHLYWETGQ-RKSNGITLWWVKALWV-YGFITEDMVTYQ-TYTS-GWIHNLTTGMKPDMGIFENFSPICDEW-EKILMRWSNPAHPNTGIPHCLEECPSLAPPIKSEYMVCAW-YCRECIFHMHRKWAFC-PSWKP-I--WSIC-L--I-WMCVAL--VCAMCRCPYLLMTAPAKPESIIWGSN-LSRF-VQVDCMEVKYQH--QYASFNISQ--MRVSGSESPQKYKRHFTLKCEFTPKKETEMASQSEVYGTRGPNMYADVRYPMAKISHRKLWPIKNDDNMFSSHDLHFACPWIENTTDPAYGLFQPYKRSKFGKDTVGD-D----S-----CENAWKVMYIARPSERPYVWMQCPRQNYVHYTCY---Q-Y-VPFCTRKMRVKNY---WDQL--ID-PVFIVGWNCPGGHCSP-FNWSVMCYRWDFNIHHRDPVAEAAGDIQQCW--KPTVFRCGATVRAQRPDYMQPIFHPIRVCCHQIGPANHISATHYADRPTFSTNPKSWHSSQLITDYW-HFIKF-IEHSVAHY-ESFEMQYHHNKRDWE-PNIEMSLLKIVYKEWH-HV---WDAFFEKIGTE-TRLRQCYC-FRLSP--Q-K---KFTL-QCALIPTTQRKY-PDKGDFKMPCG-DVTATYDHVDSAV-FTCKEWEMSFIIQFQNRSCVCSR--HLCSNRLFCVAAKLETINYQ-SPFMR-WK-Q-P-H--YQPTKLS--GFDNSI-VCSH-CPHEDTECMD-NVCAKLAAIDLQRLDTLVQELWILCATQSVDIADFNLYTKWQDDQRADF--YSVGP-SMMMLDQENGICNAYITLITMWLIGTCGPWKNDHMTPRTC--SEMPL')"
      ]
     },
     "execution_count": 6,
     "metadata": {},
     "output_type": "execute_result"
    }
   ],
   "source": [
    "seq1 = \"HWLKIDWSTPRLWWQKVGINPERCIVKCGCSCFVYQSPPDGGPNYEHWECVWDKKVVTDQGIWISLFEHKKFLAMLRLIAEHQGSPICMGGQQKTIVNLHNAHWVATTEDSQMPRSQYMDGCHMQSTSSTWTVKPMVRTRFRFGFWKAGPLHKHVDPHWKHMQVRFGIVGIGDYQRGVHAFMWKPDTEQTIHGGWDVGFAHCKIWYIKQWYCWCSLCARDNWSHCIDCLRPKENTMGWPFDGAIAGNGLFWYCSPGIKPTVVEFRDCNHSSIERIVTTVHHLPGLYMTYLAMTAPAKPFSIIWGSNNHDAYTMHLMEKYQNISQMRPEIWQKYMEHHPNRSPQKYKRHFYEFWEMASQSEVYGYRGPNMYADVALMAKISHETNDDNMFSPHDLHFACPWETIDPAYGLFQPYKRYKFGKDTADDSDQLTPSPLMLICENAWKVMYIACTGCCCHHCYIHKTCYCISNAMAVPFCTRKMRVKNYNCMWDKLQCSGFQSYHETLIDPVFIVAQNYSWSPRWDFNIHHTDPVLEKLAWAHKPTVGATVRAQRNDYMKRVVCHQIGPAWHISYTHYADRPTFREGEDERPATQIVAVWWEHVTNWHSSQLITDYVRAYDWYESFEMPWQYHHRKKSNSCIWWEPNAPRQWTIRVKPVEAPLGSVRECCGFWIGSGNDYRPYTKYASGHCAEPTTNMMYMKNKHQFLTYMFKLIPYQSNCHIIYITNGGIKHCLYKWVCYNRWYNIMNSEVWMLLKLTVQFSLGNFLWEWKEQCNNHQFYPRTKYPWQEFGDNMTLCARMTSQHNVHKDWFVHYHVPIRPKHDNLHWLLEYLNCKYPIIWLNDMCLFWRYQIERENLMMFPPCYGQMQYLCIYWFKAGRPLRYRRLRQIGCHLTNLQLQGQDKH\"\n",
    "seq2 = \"LMEHFKAIYLNSDAQGESQYTTPPNASICDTYPEHQAGSSDHKFHKRGSLLMRHHGTGPKCKCRYRRQCTGHFGCQPTMSYHISWMLIQKEMEYWPYWIISIRWGHGYLCWVVAGNLDIISGFAGIHMWHLYWETGQRKSNGITLWWVKALWVYGFITEDMVTYQTYTSGWIHNLTTGMKPDMGIFENFSPICDEWEKILMRWSNPAHPNTGIPHCLEECPSLAPPIKSEYMVCAWYCRECIFHMHRKWAFCPSWKPIWSICLIWMCVALVCAMCRCPYLLMTAPAKPESIIWGSNLSRFVQVDCMEVKYQHQYASFNISQMRVSGSESPQKYKRHFTLKCEFTPKKETEMASQSEVYGTRGPNMYADVRYPMAKISHRKLWPIKNDDNMFSSHDLHFACPWIENTTDPAYGLFQPYKRSKFGKDTVGDDSCENAWKVMYIARPSERPYVWMQCPRQNYVHYTCYQYVPFCTRKMRVKNYWDQLIDPVFIVGWNCPGGHCSPFNWSVMCYRWDFNIHHRDPVAEAAGDIQQCWKPTVFRCGATVRAQRPDYMQPIFHPIRVCCHQIGPANHISATHYADRPTFSTNPKSWHSSQLITDYWHFIKFIEHSVAHYESFEMQYHHNKRDWEPNIEMSLLKIVYKEWHHVWDAFFEKIGTETRLRQCYCFRLSPQKKFTLQCALIPTTQRKYPDKGDFKMPCGDVTATYDHVDSAVFTCKEWEMSFIIQFQNRSCVCSRHLCSNRLFCVAAKLETINYQSPFMRWKQPHYQPTKLSGFDNSIVCSHCPHEDTECMDNVCAKLAAIDLQRLDTLVQELWILCATQSVDIADFNLYTKWQDDQRADFYSVGPSMMMLDQENGICNAYITLITMWLIGTCGPWKNDHMTPRTCSEMPLFDYVERG\"\n",
    "\n",
    "LocalAlignment(seq1, seq2)"
   ]
  }
 ],
 "metadata": {
  "kernelspec": {
   "display_name": "Python 3 (ipykernel)",
   "language": "python",
   "name": "python3"
  },
  "language_info": {
   "codemirror_mode": {
    "name": "ipython",
    "version": 3
   },
   "file_extension": ".py",
   "mimetype": "text/x-python",
   "name": "python",
   "nbconvert_exporter": "python",
   "pygments_lexer": "ipython3",
   "version": "3.9.13"
  }
 },
 "nbformat": 4,
 "nbformat_minor": 5
}
