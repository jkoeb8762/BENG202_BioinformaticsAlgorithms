{
 "cells": [
  {
   "cell_type": "code",
   "execution_count": 1,
   "id": "af8d1687",
   "metadata": {},
   "outputs": [],
   "source": [
    "def matrix_helper(x, y):\n",
    "    return [[0]*y for i in range(x)]\n",
    "\n",
    "def GlobalAlignment(match_reward, mismatch_penalty, indel_penalty, seq1, seq2):\n",
    "    n = len(seq1)\n",
    "    m = len(seq2)\n",
    "    score = matrix_helper(n+1, m+1)\n",
    "    backtrack = matrix_helper(n+1, m+1)\n",
    "    for i in range(1,n+1):\n",
    "        score[i][0] = -i * indel_penalty\n",
    "        backtrack[i][0] = 1\n",
    "    for j in range(1, m+1):\n",
    "        score[0][j] = -j * indel_penalty\n",
    "        backtrack[0][j] = 2\n",
    "    for i in range(1,n+1):\n",
    "        for j in range(1,m+1):\n",
    "            if seq1[i-1] == seq2[j-1]:\n",
    "                score[i][j] = max(score[i][j-1] - indel_penalty,\n",
    "                                  score[i-1][j] - indel_penalty, \n",
    "                                  score[i-1][j-1] + match_reward)\n",
    "            else:\n",
    "                score[i][j] = max(score[i][j-1] - indel_penalty,\n",
    "                                  score[i-1][j] - indel_penalty, \n",
    "                                  score[i-1][j-1] - mismatch_penalty)\n",
    "            #down\n",
    "            if score[i][j] == score[i-1][j] - indel_penalty:\n",
    "                backtrack[i][j] = 1\n",
    "            #right\n",
    "            elif score[i][j] == score[i][j-1] - indel_penalty:\n",
    "                backtrack[i][j] = 2\n",
    "            #diagonal\n",
    "            elif score[i][j] == score[i-1][j-1] - mismatch_penalty or score[i][j] == score[i-1][j-1] + match_reward:\n",
    "                backtrack[i][j] = 3\n",
    "    best = score[n][m]\n",
    "    a1 = ''\n",
    "    a2 = ''\n",
    "    x = n\n",
    "    y = m\n",
    "    working = backtrack[x][y]\n",
    "    while(working != 0):\n",
    "        if working == 3:\n",
    "            x -= 1\n",
    "            y -= 1\n",
    "            a1 = seq1[x] + a1\n",
    "            a2 = seq2[y] + a2\n",
    "        elif working == 2:\n",
    "            y -= 1\n",
    "            a1 = '-' + a1\n",
    "            a2 = seq2[y] + a2\n",
    "        elif working == 1:\n",
    "            x -= 1\n",
    "            a1 = seq1[x] + a1\n",
    "            a2 = '-' + a2\n",
    "        working = backtrack[x][y]\n",
    "    print(best)\n",
    "    print(a1)\n",
    "    print(a2)\n",
    "    #print (\"Alignment sequence 1: \" + a1)\n",
    "    #print (\"Alignment sequence 2: \" + a2)\n",
    "\n",
    "    return best, a1, a2"
   ]
  },
  {
   "cell_type": "code",
   "execution_count": 2,
   "id": "7f5a2eb4",
   "metadata": {},
   "outputs": [
    {
     "name": "stdout",
     "output_type": "stream",
     "text": [
      "-87\n",
      "CCAAGATAGGGCGTAGGGGGTCAAGCCTGGAGTTCCTCCTTTTCGATATATACGGCGGTTCCT-GTAAAGCAATACCTGATTAGGGTTTGATTGAACGGGTA-GGCAACTCAAATGGGTTAGAGACCTACTAATCCCTTAACTCGTATCATCAATGCATTCCACACTGT-TGGATCTAATATGATAACTTTGATACAACCCGCGCCCGCGAGTG-CTTCAAATTTATAGCTCAAGAAGCTTACGTCC--CTAATCATGTGCCG-TTC-TACTGG-AGGGTTGAGAAGGCTTATACCATCA-ATGAGGAA-G-GGTC-AGCCAGCTCAGACGTAGACCGCT-CTTTATCAGGGCATCAGAAACATATG-T-T-----GAGTTTCTT-TGAGATACGGCCATGCCTAATGCGA-CCTCGTGTGTGA-ACCGTGCA-CTAAGTGGTGCTA--CGTATTATCATTTCTAATAGCGCTTATGATATGGAGCCAAGAGGGCTGGCGCGCGGCT-G-C---GAGGCTCCTCG-----CGA--CTCTAATAGAGCTACTCCATGCAGCTA-G-ACTGC-T-T-GACGGCTTGGA--CGCT--TGCCTT-CT-T-C--TTCG-CGGGC-GTGTCGCCGCCTCGGTGGAATCTT-TGGGACGATAATCTAACGGCTAGTTTGACCATAGGGGCCTTGCGCGAACT-GAAC-TGCGTCGAGTAT-CAAA-ACATAT-TCTATAAA-ATGTAGAAGGAAACGAGTGGCT-TGACTACTA-AAATTAG-CTACGGGTCCTTGTGC----GATTTGGCTAGCTACAAGAATCCCTCCAGAGACGACTTACCAGGACGTGGTACTCGACTAATTCACTAAGAATTAAGGCTTAGCACATGTTATGGGGACTCTACTGTAAGCTAAGTCCATAGCCCTGCTACATAACTACCACGGATCCTGGCTACAGAGTGAGGGAACTAGTC\n",
      "CCAAGAACGGGCTAATCTTGGAGTACCTCGTTTTCGATTTGTATATACGGCCCGCCGCTTCCCCGTAAATCCCTGATAGGGTCGCCTTAT-TTGACCGTGAACGGCTAGGCAACTGAAATGG-GTTAGATCATCCCTGTAGCCTTAAGCATCAATGCATTCCAGGCAAACTCCTTATGATAATTTATTTCTTTTTCAAGGTAT-CCCGCGAGTGTCGTTGCGTTTATAGCTCTAGAAGCTTACGGCTTTCTATTTCTGAACCGATTAGTAATTCTAATCTTACGAGGACCGAACCGCGCTTATAAGGAATGTGGTGTAGCCAGCTCAGAAGTAGACCGGTACGTTATCAGGGC-TCAGAAACATATAATCTTCTTCGAGAGCCTTCTGACCTATTGCGAGAGCGTGTGTGAACCGTGCGTATGAGATTGATTATCGCCCTGCTACTGTTCGTCCTATCGTTTCTAATAGCGCTTGTGATATGGAGCCAAGAGGGCTGGCGCGCGGCTTGACACAGAGGCTCCTCTTTTAACGCTGCTCTAATAGAGCTACTCGATGCATCCCTGCACGGCCTCTTGACTGTTTTCAGTCGCCCCTGCCTTTCCATGCGATTCTTCGCGATGGGTGGCCCGTTCCGCACAGTCTAATCGGTGGAATCTTGGACGACAATCTCACGGGTATTGACCATAGGGGCCGTTGATCCTGCGCGAACTGTACTGCGACGTGTATCAAAACATATTTACTATAAAAGGTCTGGAAATTACGACTACAAAATGGGCTACGGATCCTTGTGCACTCGATTTGGCTAGGATCTACAAGTCCAGTCGAGACGAAATAACAGGACGTGGTACGCCACTAATCCACTAAGAATATATCATAAGCACATTTTACGGGGACTCTACTGTAAGCTAAGTCCATTGCCCTGCTACCTAACTACCACTGATCC-GGCTA--G--TG-G--AACTAGTC\n"
     ]
    },
    {
     "data": {
      "text/plain": [
       "(-87,\n",
       " 'CCAAGATAGGGCGTAGGGGGTCAAGCCTGGAGTTCCTCCTTTTCGATATATACGGCGGTTCCT-GTAAAGCAATACCTGATTAGGGTTTGATTGAACGGGTA-GGCAACTCAAATGGGTTAGAGACCTACTAATCCCTTAACTCGTATCATCAATGCATTCCACACTGT-TGGATCTAATATGATAACTTTGATACAACCCGCGCCCGCGAGTG-CTTCAAATTTATAGCTCAAGAAGCTTACGTCC--CTAATCATGTGCCG-TTC-TACTGG-AGGGTTGAGAAGGCTTATACCATCA-ATGAGGAA-G-GGTC-AGCCAGCTCAGACGTAGACCGCT-CTTTATCAGGGCATCAGAAACATATG-T-T-----GAGTTTCTT-TGAGATACGGCCATGCCTAATGCGA-CCTCGTGTGTGA-ACCGTGCA-CTAAGTGGTGCTA--CGTATTATCATTTCTAATAGCGCTTATGATATGGAGCCAAGAGGGCTGGCGCGCGGCT-G-C---GAGGCTCCTCG-----CGA--CTCTAATAGAGCTACTCCATGCAGCTA-G-ACTGC-T-T-GACGGCTTGGA--CGCT--TGCCTT-CT-T-C--TTCG-CGGGC-GTGTCGCCGCCTCGGTGGAATCTT-TGGGACGATAATCTAACGGCTAGTTTGACCATAGGGGCCTTGCGCGAACT-GAAC-TGCGTCGAGTAT-CAAA-ACATAT-TCTATAAA-ATGTAGAAGGAAACGAGTGGCT-TGACTACTA-AAATTAG-CTACGGGTCCTTGTGC----GATTTGGCTAGCTACAAGAATCCCTCCAGAGACGACTTACCAGGACGTGGTACTCGACTAATTCACTAAGAATTAAGGCTTAGCACATGTTATGGGGACTCTACTGTAAGCTAAGTCCATAGCCCTGCTACATAACTACCACGGATCCTGGCTACAGAGTGAGGGAACTAGTC',\n",
       " 'CCAAGAACGGGCTAATCTTGGAGTACCTCGTTTTCGATTTGTATATACGGCCCGCCGCTTCCCCGTAAATCCCTGATAGGGTCGCCTTAT-TTGACCGTGAACGGCTAGGCAACTGAAATGG-GTTAGATCATCCCTGTAGCCTTAAGCATCAATGCATTCCAGGCAAACTCCTTATGATAATTTATTTCTTTTTCAAGGTAT-CCCGCGAGTGTCGTTGCGTTTATAGCTCTAGAAGCTTACGGCTTTCTATTTCTGAACCGATTAGTAATTCTAATCTTACGAGGACCGAACCGCGCTTATAAGGAATGTGGTGTAGCCAGCTCAGAAGTAGACCGGTACGTTATCAGGGC-TCAGAAACATATAATCTTCTTCGAGAGCCTTCTGACCTATTGCGAGAGCGTGTGTGAACCGTGCGTATGAGATTGATTATCGCCCTGCTACTGTTCGTCCTATCGTTTCTAATAGCGCTTGTGATATGGAGCCAAGAGGGCTGGCGCGCGGCTTGACACAGAGGCTCCTCTTTTAACGCTGCTCTAATAGAGCTACTCGATGCATCCCTGCACGGCCTCTTGACTGTTTTCAGTCGCCCCTGCCTTTCCATGCGATTCTTCGCGATGGGTGGCCCGTTCCGCACAGTCTAATCGGTGGAATCTTGGACGACAATCTCACGGGTATTGACCATAGGGGCCGTTGATCCTGCGCGAACTGTACTGCGACGTGTATCAAAACATATTTACTATAAAAGGTCTGGAAATTACGACTACAAAATGGGCTACGGATCCTTGTGCACTCGATTTGGCTAGGATCTACAAGTCCAGTCGAGACGAAATAACAGGACGTGGTACGCCACTAATCCACTAAGAATATATCATAAGCACATTTTACGGGGACTCTACTGTAAGCTAAGTCCATTGCCCTGCTACCTAACTACCACTGATCC-GGCTA--G--TG-G--AACTAGTC')"
      ]
     },
     "execution_count": 2,
     "metadata": {},
     "output_type": "execute_result"
    }
   ],
   "source": [
    "import io\n",
    "#with io.open(\"GlobalAlignment\\inputs\\input_8.txt\") as f:\n",
    "with io.open(\"dataset_865689_3.txt\") as f:\n",
    "    lines = f.read().splitlines()\n",
    "    match_reward, mismatch_penalty, indel_penalty = [int(x) for x in lines[0].split()]\n",
    "    #print(match_reward, mismatch_penalty, indel_penalty )\n",
    "    seq1 = lines[1].strip()\n",
    "    seq2 = lines[2].strip()\n",
    "GlobalAlignment(match_reward, mismatch_penalty, indel_penalty, seq1, seq2)\n",
    "#print(OutputLCS(backtrack, seq1, len(seq1), len(seq2)))\n",
    "\n",
    "#with io.open(\"GlobalAlignment\\outputs\\output_8.txt\") as f:\n",
    "#    lines = f.read().splitlines()\n",
    "#    seq1 = lines[1].strip()\n",
    "#    seq2 = lines[2].strip()\n",
    "    #print(seq1)\n",
    "    #print(seq2)"
   ]
  },
  {
   "cell_type": "code",
   "execution_count": 3,
   "id": "e72853ad",
   "metadata": {},
   "outputs": [
    {
     "ename": "FileNotFoundError",
     "evalue": "[Errno 2] No such file or directory: 'dataset_865692_14.txt'",
     "output_type": "error",
     "traceback": [
      "\u001b[1;31m---------------------------------------------------------------------------\u001b[0m",
      "\u001b[1;31mFileNotFoundError\u001b[0m                         Traceback (most recent call last)",
      "Input \u001b[1;32mIn [3]\u001b[0m, in \u001b[0;36m<cell line: 3>\u001b[1;34m()\u001b[0m\n\u001b[0;32m      1\u001b[0m \u001b[38;5;28;01mimport\u001b[39;00m \u001b[38;5;21;01mio\u001b[39;00m\n\u001b[0;32m      2\u001b[0m \u001b[38;5;66;03m#with io.open(\"GlobalAlignment\\inputs\\input_8.txt\") as f:\u001b[39;00m\n\u001b[1;32m----> 3\u001b[0m \u001b[38;5;28;01mwith\u001b[39;00m \u001b[43mio\u001b[49m\u001b[38;5;241;43m.\u001b[39;49m\u001b[43mopen\u001b[49m\u001b[43m(\u001b[49m\u001b[38;5;124;43m\"\u001b[39;49m\u001b[38;5;124;43mdataset_865692_14.txt\u001b[39;49m\u001b[38;5;124;43m\"\u001b[39;49m\u001b[43m)\u001b[49m \u001b[38;5;28;01mas\u001b[39;00m f:\n\u001b[0;32m      4\u001b[0m     lines \u001b[38;5;241m=\u001b[39m f\u001b[38;5;241m.\u001b[39mread()\u001b[38;5;241m.\u001b[39msplitlines()\n\u001b[0;32m      5\u001b[0m     match_reward, mismatch_penalty, indel_penalty \u001b[38;5;241m=\u001b[39m [\u001b[38;5;28mint\u001b[39m(x) \u001b[38;5;28;01mfor\u001b[39;00m x \u001b[38;5;129;01min\u001b[39;00m lines[\u001b[38;5;241m0\u001b[39m]\u001b[38;5;241m.\u001b[39msplit()]\n",
      "\u001b[1;31mFileNotFoundError\u001b[0m: [Errno 2] No such file or directory: 'dataset_865692_14.txt'"
     ]
    }
   ],
   "source": []
  },
  {
   "cell_type": "code",
   "execution_count": null,
   "id": "79876a54",
   "metadata": {},
   "outputs": [],
   "source": []
  }
 ],
 "metadata": {
  "kernelspec": {
   "display_name": "Python 3 (ipykernel)",
   "language": "python",
   "name": "python3"
  },
  "language_info": {
   "codemirror_mode": {
    "name": "ipython",
    "version": 3
   },
   "file_extension": ".py",
   "mimetype": "text/x-python",
   "name": "python",
   "nbconvert_exporter": "python",
   "pygments_lexer": "ipython3",
   "version": "3.9.13"
  }
 },
 "nbformat": 4,
 "nbformat_minor": 5
}
