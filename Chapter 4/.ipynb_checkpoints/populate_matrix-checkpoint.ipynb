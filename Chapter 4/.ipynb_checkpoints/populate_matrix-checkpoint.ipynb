{
 "cells": [
  {
   "cell_type": "code",
   "execution_count": null,
   "id": "0e52a302",
   "metadata": {},
   "outputs": [],
   "source": [
    "def populate_matrix(matrixFile):\n",
    "\n",
    "#reads in blosum matrix txt file and sets key: value pair as tuple(i, j) = score\n",
    "\n",
    "    lines = matrixFile.readlines()\n",
    "    matrixFile.close()\n",
    "    dictaa = {}\n",
    "    aminoacidstring = lines[0]\n",
    "    aminoacidstring = aminoacidstring.split()\n",
    "\n",
    "    i = 1\n",
    "    while i <= (len(lines)-1):\n",
    "        row = lines[i]\n",
    "        row = row.split()\n",
    "\n",
    "        j = 1\n",
    "        for character in row[1:25]:\n",
    "            dictaa[aminoacidstring[i-1],aminoacidstring[j-1]] = character\n",
    "            j+=1\n",
    "        i+=1\n",
    "\n",
    "    return(dictaa)\n",
    "\n",
    "with open(\"BLOSUM62.txt\") as matrixFile:\n",
    "    blosum_dict = populate_matrix(matrixFile)"
   ]
  }
 ],
 "metadata": {
  "kernelspec": {
   "display_name": "Python 3 (ipykernel)",
   "language": "python",
   "name": "python3"
  },
  "language_info": {
   "codemirror_mode": {
    "name": "ipython",
    "version": 3
   },
   "file_extension": ".py",
   "mimetype": "text/x-python",
   "name": "python",
   "nbconvert_exporter": "python",
   "pygments_lexer": "ipython3",
   "version": "3.9.12"
  }
 },
 "nbformat": 4,
 "nbformat_minor": 5
}
