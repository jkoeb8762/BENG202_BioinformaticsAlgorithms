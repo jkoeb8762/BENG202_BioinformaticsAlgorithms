{
 "cells": [
  {
   "cell_type": "code",
   "execution_count": 71,
   "id": "80e0f292",
   "metadata": {},
   "outputs": [],
   "source": [
    "def MatrixHelper(n,m):\n",
    "    return [[0]*(m+1) for i in range(n+1)]\n",
    "\n",
    "def LongestPathLength(n, m, down, right):\n",
    "    score = MatrixHelper(n, m)\n",
    "    for i in range(1, n+1):\n",
    "        score[i][0] = score[i-1][0] + down[i-1][0]\n",
    "    for j in range(1, m+1):\n",
    "        score[0][j] = score[0][j-1] + right[0][j-1]\n",
    "    for i in range(1, n+1):\n",
    "        for j in range(1, m+1):\n",
    "            score[i][j] = max(score[i-1][j] + down[i-1][j],\n",
    "                              score[i][j-1] + right[i][j-1])\n",
    "    return score[n][m]\n"
   ]
  },
  {
   "cell_type": "code",
   "execution_count": 73,
   "id": "b571bdec",
   "metadata": {},
   "outputs": [
    {
     "name": "stdout",
     "output_type": "stream",
     "text": [
      "[[2, 3, 4, 3, 2, 1, 0, 0, 0, 4], [1, 0, 0, 0, 0, 2, 1, 0, 3, 4], [3, 4, 1, 1, 1, 4, 1, 2, 2, 4], [1, 0, 1, 3, 0, 3, 0, 1, 2, 4], [0, 1, 0, 1, 4, 4, 2, 4, 4, 0], [2, 2, 4, 1, 1, 4, 3, 2, 4, 1], [0, 1, 0, 4, 1, 4, 1, 4, 3, 0], [2, 2, 3, 2, 1, 3, 0, 3, 3, 4], [0, 1, 3, 3, 1, 0, 4, 1, 0, 1], [4, 1, 1, 0, 3, 4, 3, 4, 2, 0], [3, 1, 2, 0, 4, 4, 3, 2, 4, 0], [2, 0, 1, 1, 2, 2, 3, 0, 4, 1], [0, 1, 3, 2, 1, 2, 4, 0, 3, 4], [0, 1, 0, 0, 3, 4, 3, 4, 2, 0], [1, 0, 4, 1, 1, 2, 3, 4, 1, 2]]\n",
      "68\n"
     ]
    }
   ],
   "source": [
    "import io\n",
    "#with io.open(\"LongestPathLength\\inputs\\input_5.txt\") as f:\n",
    "with io.open(\"dataset_865685_10.txt\") as f:\n",
    "    lines = f.read().splitlines()\n",
    "    n, m = [int(x) for x in lines[0].split()]\n",
    "    #print (n)\n",
    "    #print(m)\n",
    "    down = []\n",
    "    right = []\n",
    "    for i in range(1,n+1):\n",
    "        down.append([int(x) for x in lines[i].split()])\n",
    "    #print(down)\n",
    "    for j in range(n+2, len(lines)):\n",
    "        right.append([int(x) for x in lines[j].split()])\n",
    "    #print(right)\n",
    "    print(LongestPathLength(n,m,down,right))"
   ]
  },
  {
   "cell_type": "code",
   "execution_count": null,
   "id": "a851d248",
   "metadata": {},
   "outputs": [],
   "source": []
  }
 ],
 "metadata": {
  "kernelspec": {
   "display_name": "Python 3 (ipykernel)",
   "language": "python",
   "name": "python3"
  },
  "language_info": {
   "codemirror_mode": {
    "name": "ipython",
    "version": 3
   },
   "file_extension": ".py",
   "mimetype": "text/x-python",
   "name": "python",
   "nbconvert_exporter": "python",
   "pygments_lexer": "ipython3",
   "version": "3.9.12"
  }
 },
 "nbformat": 4,
 "nbformat_minor": 5
}
