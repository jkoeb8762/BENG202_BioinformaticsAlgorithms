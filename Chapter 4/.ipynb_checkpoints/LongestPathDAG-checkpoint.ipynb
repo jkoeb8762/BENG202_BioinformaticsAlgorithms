{
 "cells": [
  {
   "cell_type": "code",
   "execution_count": 31,
   "id": "a34485ed",
   "metadata": {},
   "outputs": [],
   "source": [
    "def LongestPathDAG(start, end, graph):\n",
    "    distance = [0 for _ in range(end+1)]\n",
    "    backtrack = [0 for _ in range(end+1)]\n",
    "    for i in range(1, end+1):\n",
    "        for (source, weight) in graph[i]:\n",
    "            working = distance[source] + weight\n",
    "            if working >= distance[i]:\n",
    "                distance[i] = working\n",
    "                backtrack[i] = source\n",
    "    path = []\n",
    "    current = end\n",
    "    while current != start:\n",
    "        path.append(current)\n",
    "        current = backtrack[current]\n",
    "    path.append(start)\n",
    "    path.reverse()\n",
    "    return path\n",
    "\n",
    "\n",
    "filepath = \"dataset_865687_7.txt\"\n",
    "with open(filepath) as f:\n",
    "        lines = f.read().splitlines()\n",
    "        start, end = [int(x) for x in lines[0].split()]\n",
    "        reverse = {k:[] for k in range(end+1)}\n",
    "        for line in lines[1:]:\n",
    "            source, target, weight = [int(x) for x in line.split()]\n",
    "            reverse[target].append((source, weight))"
   ]
  },
  {
   "cell_type": "code",
   "execution_count": 32,
   "id": "557bdf7b",
   "metadata": {},
   "outputs": [
    {
     "name": "stdout",
     "output_type": "stream",
     "text": [
      "0 1 2 3 4 6 7 9 10 11 14 19 22 23 31 34 38 40 45 46 47 48 49\n"
     ]
    }
   ],
   "source": [
    "print(*LongestPathDAG(start, end, reverse))"
   ]
  },
  {
   "cell_type": "code",
   "execution_count": null,
   "id": "d7d278f3",
   "metadata": {},
   "outputs": [],
   "source": []
  }
 ],
 "metadata": {
  "kernelspec": {
   "display_name": "Python 3 (ipykernel)",
   "language": "python",
   "name": "python3"
  },
  "language_info": {
   "codemirror_mode": {
    "name": "ipython",
    "version": 3
   },
   "file_extension": ".py",
   "mimetype": "text/x-python",
   "name": "python",
   "nbconvert_exporter": "python",
   "pygments_lexer": "ipython3",
   "version": "3.9.12"
  }
 },
 "nbformat": 4,
 "nbformat_minor": 5
}
