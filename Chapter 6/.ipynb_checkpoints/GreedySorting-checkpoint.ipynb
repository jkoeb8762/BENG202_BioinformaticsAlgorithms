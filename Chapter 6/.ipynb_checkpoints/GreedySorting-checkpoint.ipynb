{
 "cells": [
  {
   "cell_type": "code",
   "execution_count": 4,
   "id": "07fa4602",
   "metadata": {},
   "outputs": [],
   "source": [
    "def KSortingReversal(P,k):\n",
    "    i = k\n",
    "    while P[i] != k + 1 and P[i] != -(k + 1):\n",
    "        i += 1\n",
    "    working = []\n",
    "    temp = P[k:i+1][::-1]\n",
    "    for j in range(k, i+1):\n",
    "        working.append(-temp[j-k])\n",
    "    for x in range(len(working)):\n",
    "        P[k+x] = working[x]\n",
    "    return P \n",
    "        \n",
    "def GreedySorting(P):\n",
    "    reversals = []\n",
    "    limit = 0\n",
    "    for k in range(len(P)):\n",
    "        while P[k] != k + 1 and limit < 10:\n",
    "            P = KSortingReversal(P, k)\n",
    "            reversals.append(list(P))\n",
    "            limit += 1\n",
    "    return reversals    "
   ]
  },
  {
   "cell_type": "code",
   "execution_count": 31,
   "id": "72c59501",
   "metadata": {},
   "outputs": [
    {
     "name": "stdout",
     "output_type": "stream",
     "text": [
      "[[-1, -4, 3, 5, -2], [1, -4, 3, 5, -2], [1, 2, -5, -3, 4], [1, 2, 3, 5, 4], [1, 2, 3, -4, -5], [1, 2, 3, 4, -5], [1, 2, 3, 4, 5]]\n"
     ]
    }
   ],
   "source": [
    "x = [-3,+4,+1,+5,-2]\n",
    "y = GreedySorting(x)\n",
    "print(y)"
   ]
  },
  {
   "cell_type": "code",
   "execution_count": 33,
   "id": "9ee7ff29",
   "metadata": {},
   "outputs": [
    {
     "name": "stdout",
     "output_type": "stream",
     "text": [
      "[-72, -36, 100, 121, 31, 122, 5, 13, 17, -4, -112, -128, -1, 65, 136, 140, -27, -25, 109, 92, 141, -9, -43, -3, -46, -30, 130, -81, -88, -102, 73, 7, -41, 69, -80, -120, 98, 79, -115, -105, -60, -123, -44, 90, 96, 18, -58, 119, -35, 127, -97, 64, -86, 84, 62, 55, 139, -104, 87, 53, -126, 106, 45, 24, -116, 99, -113, 125, -57, -10, -95, -124, 8, -47, 77, -59, -38, 114, 15, 23, 67, 85, -29, -129, -40, 28, 26, -19, -66, 20, 82, 37, -74, -11, -91, -71, 63, -14, 103, 94, -12, 50, 70, 78, -93, -131, 51, 111, -89, -118, 16, -107, 61, 32, 34, -54, 48, -42, 68, -135, 101, 33, -138, 110, 52, -39, 132, 76, -108, -2, -134, -75, -117, 133, -49, 22, 6, 56, 83, -137, 21]\n"
     ]
    }
   ],
   "source": [
    "with open(\"dataset_865704_4.txt\") as f: \n",
    "    line = f.readline()\n",
    "    P = [int(x) for x in line.split(\" \")]\n",
    "    print(P)\n",
    "    ans = GreedySorting(P)\n",
    "    with open(\"output_1.txt\", \"w\") as d:\n",
    "        for res in ans:\n",
    "            d.write(\" \".join([\"+\" + str(x) if x > 0 else str(x) for x in res]))\n",
    "            d.write(\"\\n\")"
   ]
  },
  {
   "cell_type": "code",
   "execution_count": null,
   "id": "8a8bb4f8",
   "metadata": {},
   "outputs": [],
   "source": []
  }
 ],
 "metadata": {
  "kernelspec": {
   "display_name": "Python 3 (ipykernel)",
   "language": "python",
   "name": "python3"
  },
  "language_info": {
   "codemirror_mode": {
    "name": "ipython",
    "version": 3
   },
   "file_extension": ".py",
   "mimetype": "text/x-python",
   "name": "python",
   "nbconvert_exporter": "python",
   "pygments_lexer": "ipython3",
   "version": "3.9.12"
  }
 },
 "nbformat": 4,
 "nbformat_minor": 5
}
