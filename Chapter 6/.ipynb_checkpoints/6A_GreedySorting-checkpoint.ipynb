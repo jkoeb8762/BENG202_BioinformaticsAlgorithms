{
 "cells": [
  {
   "cell_type": "code",
   "execution_count": 1,
   "id": "1c5f5b51",
   "metadata": {},
   "outputs": [],
   "source": [
    "def kSortingReversal(P, k):\n",
    "    j = k\n",
    "    while P[j] != k + 1 and P[j] != -(k + 1):\n",
    "        j += 1\n",
    "    P[k:j+1] = list(map(lambda x: -x, P[k:j+1][::-1]))\n",
    "    return P\n",
    "\n",
    "\n",
    "def GreedySorting(P):\n",
    "    reversals = []\n",
    "    for k in range(len(P)):\n",
    "        while P[k] != k + 1:\n",
    "            P = kSortingReversal(P, k)\n",
    "            reversals.append(list(P))\n",
    "    return reversals"
   ]
  },
  {
   "cell_type": "code",
   "execution_count": 3,
   "id": "80d88a1a",
   "metadata": {},
   "outputs": [],
   "source": [
    "with open(\"dataset_865704_4.txt\") as f: \n",
    "    line = f.readline()\n",
    "    P = [int(x) for x in line.split(\" \")]\n",
    "    ans = GreedySorting(P)\n",
    "    with open(\"output_1.txt\", \"w\") as d:\n",
    "        for res in ans:\n",
    "            d.write(\" \".join([\"+\" + str(x) if x > 0 else str(x) for x in res]))\n",
    "            d.write(\"\\n\")"
   ]
  }
 ],
 "metadata": {
  "kernelspec": {
   "display_name": "Python 3 (ipykernel)",
   "language": "python",
   "name": "python3"
  },
  "language_info": {
   "codemirror_mode": {
    "name": "ipython",
    "version": 3
   },
   "file_extension": ".py",
   "mimetype": "text/x-python",
   "name": "python",
   "nbconvert_exporter": "python",
   "pygments_lexer": "ipython3",
   "version": "3.9.13"
  }
 },
 "nbformat": 4,
 "nbformat_minor": 5
}
