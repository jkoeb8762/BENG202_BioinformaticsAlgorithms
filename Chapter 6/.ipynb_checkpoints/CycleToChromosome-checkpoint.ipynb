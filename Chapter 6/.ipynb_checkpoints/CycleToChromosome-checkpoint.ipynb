{
 "cells": [
  {
   "cell_type": "code",
   "execution_count": 13,
   "id": "06223cc6",
   "metadata": {},
   "outputs": [],
   "source": [
    "def CycleToChromosome(Nodes): \n",
    "    n = len(Nodes)//2\n",
    "    Chromosome = [0]*n\n",
    "    for j in range(n):\n",
    "        if Nodes[2*j] < Nodes[2*j+1]:\n",
    "            Chromosome[j] = Nodes[2*j+1]//2\n",
    "        else: \n",
    "            Chromosome[j] = -Nodes[2*j] // 2\n",
    "    return Chromosome\n"
   ]
  },
  {
   "cell_type": "code",
   "execution_count": 14,
   "id": "9724b359",
   "metadata": {},
   "outputs": [
    {
     "data": {
      "text/plain": [
       "[1, -2, -3, 4]"
      ]
     },
     "execution_count": 14,
     "metadata": {},
     "output_type": "execute_result"
    }
   ],
   "source": [
    "x = [1,2,4,3,6,5,7,8]\n",
    "CycleToChromosome(x)"
   ]
  },
  {
   "cell_type": "code",
   "execution_count": null,
   "id": "d166b02b",
   "metadata": {},
   "outputs": [],
   "source": []
  }
 ],
 "metadata": {
  "kernelspec": {
   "display_name": "Python 3 (ipykernel)",
   "language": "python",
   "name": "python3"
  },
  "language_info": {
   "codemirror_mode": {
    "name": "ipython",
    "version": 3
   },
   "file_extension": ".py",
   "mimetype": "text/x-python",
   "name": "python",
   "nbconvert_exporter": "python",
   "pygments_lexer": "ipython3",
   "version": "3.9.12"
  }
 },
 "nbformat": 4,
 "nbformat_minor": 5
}
