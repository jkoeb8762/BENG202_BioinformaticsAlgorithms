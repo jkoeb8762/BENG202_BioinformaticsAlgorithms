{
 "cells": [
  {
   "cell_type": "code",
   "execution_count": 32,
   "id": "beb19c49",
   "metadata": {},
   "outputs": [],
   "source": [
    "def ChromosomeToCycle(Chromosome):\n",
    "    Nodes = [0]*(2*len(Chromosome))\n",
    "    for j in range(len(Chromosome)):\n",
    "        i = Chromosome[j]\n",
    "        if i > 0:\n",
    "            Nodes[2*j] = 2*i-1\n",
    "            Nodes[2*j+1] = 2*i\n",
    "        else:\n",
    "            Nodes[2*j] = -2*i\n",
    "            Nodes[2*j+1] = -2*i-1\n",
    "    return Nodes"
   ]
  },
  {
   "cell_type": "code",
   "execution_count": 21,
   "id": "eb270380",
   "metadata": {},
   "outputs": [
    {
     "data": {
      "text/plain": [
       "[1, 2, 4, 3, 6, 5, 7, 8]"
      ]
     },
     "execution_count": 21,
     "metadata": {},
     "output_type": "execute_result"
    }
   ],
   "source": [
    "Chromosome = [+1, -2, -3, +4]\n",
    "ChromosomeToCycle(Chromosome)"
   ]
  },
  {
   "cell_type": "code",
   "execution_count": 34,
   "id": "faafeb76",
   "metadata": {},
   "outputs": [],
   "source": [
    "with open(\"dataset_865712_4.txt\") as f: \n",
    "    line = f.readline()\n",
    "    line = line.replace('(','').replace(')','')\n",
    "    Chromosome = [int(x) for x in line.split(\" \")]\n",
    "with open(\"ChromosomeToCycle_ans.txt\", \"w\") as d:\n",
    "    ans = ChromosomeToCycle(Chromosome)\n",
    "    for number in ans:\n",
    "        d.write(str((number)) + \" \")"
   ]
  },
  {
   "cell_type": "code",
   "execution_count": null,
   "id": "defa00d4",
   "metadata": {},
   "outputs": [],
   "source": []
  }
 ],
 "metadata": {
  "kernelspec": {
   "display_name": "Python 3 (ipykernel)",
   "language": "python",
   "name": "python3"
  },
  "language_info": {
   "codemirror_mode": {
    "name": "ipython",
    "version": 3
   },
   "file_extension": ".py",
   "mimetype": "text/x-python",
   "name": "python",
   "nbconvert_exporter": "python",
   "pygments_lexer": "ipython3",
   "version": "3.9.12"
  }
 },
 "nbformat": 4,
 "nbformat_minor": 5
}
