{
 "cells": [
  {
   "cell_type": "code",
   "execution_count": 1,
   "id": "01bb0840",
   "metadata": {},
   "outputs": [],
   "source": [
    "def BreakpointCount(P):\n",
    "    P = [0] + P\n",
    "    P.append(max(P) + 1)\n",
    "    count = 0\n",
    "    n = len(P)\n",
    "    for i in range(1, n):\n",
    "        if P[i] != P[i - 1] + 1:\n",
    "            count += 1\n",
    "    return count"
   ]
  },
  {
   "cell_type": "code",
   "execution_count": 2,
   "id": "13bbee53",
   "metadata": {},
   "outputs": [
    {
     "data": {
      "text/plain": [
       "8"
      ]
     },
     "execution_count": 2,
     "metadata": {},
     "output_type": "execute_result"
    }
   ],
   "source": [
    "x = [+3, +4, +5, -12, -8, -7, -6, +1, +2, +10, +9, -11, +13, +14]\n",
    "BreakpointCount(x)"
   ]
  },
  {
   "cell_type": "code",
   "execution_count": 3,
   "id": "6d5a38b4",
   "metadata": {},
   "outputs": [
    {
     "name": "stdout",
     "output_type": "stream",
     "text": [
      "187\n"
     ]
    }
   ],
   "source": [
    "with open(\"dataset_865705_6.txt\") as f: \n",
    "    line = f.readline()\n",
    "    P = [int(x) for x in line.split(\" \")]\n",
    "    ans = BreakpointCount(P)\n",
    "    print(ans)\n",
    "    "
   ]
  }
 ],
 "metadata": {
  "kernelspec": {
   "display_name": "Python 3 (ipykernel)",
   "language": "python",
   "name": "python3"
  },
  "language_info": {
   "codemirror_mode": {
    "name": "ipython",
    "version": 3
   },
   "file_extension": ".py",
   "mimetype": "text/x-python",
   "name": "python",
   "nbconvert_exporter": "python",
   "pygments_lexer": "ipython3",
   "version": "3.9.13"
  }
 },
 "nbformat": 4,
 "nbformat_minor": 5
}
