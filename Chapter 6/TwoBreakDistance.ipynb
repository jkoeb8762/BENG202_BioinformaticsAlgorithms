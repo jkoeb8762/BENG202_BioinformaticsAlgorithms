{
 "cells": [
  {
   "cell_type": "code",
   "execution_count": null,
   "id": "92ccf666",
   "metadata": {},
   "outputs": [],
   "source": [
    "def ChromosomeToCycle(Chromosome):\n",
    "    Nodes = [0]*(2*len(Chromosome))\n",
    "    for j in range(len(Chromosome)):\n",
    "        i = Chromosome[j]\n",
    "        if i > 0:\n",
    "            Nodes[2*j] = 2*i-1\n",
    "            Nodes[2*j+1] = 2*i\n",
    "        else:\n",
    "            Nodes[2*j] = -2*i\n",
    "            Nodes[2*j+1] = -2*i-1\n",
    "    return Nodes\n",
    "\n",
    "def ColoredEdges(P):\n",
    "    Edges = list()\n",
    "    for chromosome in P:\n",
    "        Nodes = ChromosomeToCycle(chromosome)\n",
    "        n = len(Nodes)\n",
    "        for j in range(1,n,2):\n",
    "            if j != n-1:\n",
    "                Edges.append([Nodes[j], Nodes[j+1]])\n",
    "            else:\n",
    "                Edges.append([Nodes[j], Nodes[0]])\n",
    "    return Edges"
   ]
  },
  {
   "cell_type": "code",
   "execution_count": null,
   "id": "948e493c",
   "metadata": {},
   "outputs": [],
   "source": [
    "def TwoBreakDistance(P, Q):\n",
    "    "
   ]
  }
 ],
 "metadata": {
  "kernelspec": {
   "display_name": "Python 3 (ipykernel)",
   "language": "python",
   "name": "python3"
  },
  "language_info": {
   "codemirror_mode": {
    "name": "ipython",
    "version": 3
   },
   "file_extension": ".py",
   "mimetype": "text/x-python",
   "name": "python",
   "nbconvert_exporter": "python",
   "pygments_lexer": "ipython3",
   "version": "3.9.12"
  }
 },
 "nbformat": 4,
 "nbformat_minor": 5
}
