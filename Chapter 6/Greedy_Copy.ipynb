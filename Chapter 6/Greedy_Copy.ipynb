{
 "cells": [
  {
   "cell_type": "code",
   "execution_count": 5,
   "id": "1c5f5b51",
   "metadata": {},
   "outputs": [],
   "source": [
    "def kSortingReversal(P, k):\n",
    "    j = k\n",
    "    while P[j] != k + 1 and P[j] != -(k + 1):\n",
    "        j += 1\n",
    "    P[k:j+1] = list(map(lambda x: -x, P[k:j+1][::-1]))\n",
    "    return P\n",
    "\n",
    "\n",
    "def GreedySorting(P):\n",
    "    reversals = []\n",
    "    for k in range(len(P)):\n",
    "        while P[k] != k + 1:\n",
    "            P = kSortingReversal(P, k)\n",
    "            reversals.append(list(P))\n",
    "    return reversals"
   ]
  },
  {
   "cell_type": "code",
   "execution_count": 7,
   "id": "80d88a1a",
   "metadata": {},
   "outputs": [
    {
     "name": "stdout",
     "output_type": "stream",
     "text": [
      "[-30, -38, -73, 4, 23, 62, -101, -10, 103, 76, -78, -123, 63, -80, 86, -1, 64, -105, 90, 41, 68, 14, -26, -15, -99, 113, 54, 91, -67, 33, 29, -58, -88, 109, -5, -119, 89, 24, 107, 97, 17, -9, 116, -69, 22, 25, 82, -21, -95, 120, -108, -3, 125, -128, -111, -6, 70, -79, 31, 96, -34, -47, -60, -122, 52, 55, -45, -27, -59, -8, -114, -46, -2, -71, 53, -49, -102, 81, 20, 87, -121, -77, -13, -94, 124, 72, 110, 16, -56, -32, 126, -118, 50, 112, 37, -98, -11, 36, -66, 19, -92, 127, 44, 100, -106, 48, 61, 35, 51, -83, -7, -28, 117, -57, -75, 115, 84, 43, 104, 40, 85, 42, -93, 12, -18, -39, -74, -65]\n"
     ]
    }
   ],
   "source": [
    "with open(\"dataset_865704_4.txt\") as f: \n",
    "    line = f.readline()\n",
    "    P = [int(x) for x in line.split(\" \")]\n",
    "    print(P)\n",
    "    ans = GreedySorting(P)\n",
    "    with open(\"output_1.txt\", \"w\") as d:\n",
    "        for res in ans:\n",
    "            d.write(\" \".join([\"+\" + str(x) if x > 0 else str(x) for x in res]))\n",
    "            d.write(\"\\n\")"
   ]
  },
  {
   "cell_type": "code",
   "execution_count": null,
   "id": "77813eb4",
   "metadata": {},
   "outputs": [],
   "source": []
  }
 ],
 "metadata": {
  "kernelspec": {
   "display_name": "Python 3 (ipykernel)",
   "language": "python",
   "name": "python3"
  },
  "language_info": {
   "codemirror_mode": {
    "name": "ipython",
    "version": 3
   },
   "file_extension": ".py",
   "mimetype": "text/x-python",
   "name": "python",
   "nbconvert_exporter": "python",
   "pygments_lexer": "ipython3",
   "version": "3.9.12"
  }
 },
 "nbformat": 4,
 "nbformat_minor": 5
}
