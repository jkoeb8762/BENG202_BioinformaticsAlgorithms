{
 "cells": [
  {
   "cell_type": "code",
   "execution_count": 4,
   "id": "be9a72d7",
   "metadata": {},
   "outputs": [],
   "source": [
    "#Implement MotifEnumeration\n",
    "def HammingDistance(x, y):\n",
    "    dist = 0\n",
    "    for i in range(len(x)):\n",
    "        if x[i] != y[i]:\n",
    "            dist += 1\n",
    "    return dist\n",
    "def Neighbors(pattern,d):\n",
    "    if d == 0:\n",
    "        return {pattern}\n",
    "    if len(pattern) == 1:\n",
    "        return {\"A\",\"C\",\"G\",\"T\"}\n",
    "    neighborhood = set()\n",
    "    suffix = pattern[1:]\n",
    "    suffixNeighbors = Neighbors(suffix,d)\n",
    "    nucleotides = [\"A\", \"T\", \"G\", \"C\"]\n",
    "    for text in suffixNeighbors:\n",
    "        if HammingDistance(suffix, text) < d:\n",
    "            for i in range(len(nucleotides)):\n",
    "                neighborhood.add(nucleotides[i]+text)\n",
    "        else:\n",
    "            neighborhood.add(pattern[0]+text)\n",
    "    return neighborhood\n"
   ]
  },
  {
   "cell_type": "code",
   "execution_count": 5,
   "id": "74b31ac7",
   "metadata": {},
   "outputs": [],
   "source": [
    "#Modified approximate pattern count to boolean output\n",
    "def ApproximatePattern(text, pattern, d):\n",
    "    n = len(pattern)\n",
    "    for i in range(len(text)-len(pattern)+1):\n",
    "        working = text[i:i+n]\n",
    "        dist = HammingDistance(pattern, working)\n",
    "        if dist <= d:\n",
    "            return True\n",
    "    return False\n",
    "\n",
    "#loop through multiple strand\n",
    "def IsMotif(dna, pattern, d):\n",
    "    for strand in dna:\n",
    "        if ApproximatePattern(strand, pattern, d) == False:\n",
    "            return False\n",
    "    return True\n",
    "\n",
    "def MotifEnumeration(dna, k, d):\n",
    "    #Patterns ← an empty set\n",
    "    patterns = set()\n",
    "    #for each k-mer Pattern in Dna\n",
    "    for strand in dna:\n",
    "        #generate neighborhood of k-mer pattern differing by at most d mistmatches\n",
    "        for i in range(len(strand)-k+1):\n",
    "            window = strand[i:i+k]\n",
    "            neighborhood = Neighbors(window, d)\n",
    "            #if Pattern' appears in each string from Dna with at most d mismatches\n",
    "            for word in neighborhood:\n",
    "                if IsMotif(dna, word, d):\n",
    "                    #add Pattern' to Patterns\n",
    "                    patterns.add(word)\n",
    "    return patterns"
   ]
  },
  {
   "cell_type": "code",
   "execution_count": 6,
   "id": "e675e37f",
   "metadata": {},
   "outputs": [
    {
     "name": "stdout",
     "output_type": "stream",
     "text": [
      "AAGAC CCGAA AGTCT TACAT CAATG TTTGA TTGAA AGAGT TAAAA ATGCG ACGCT TAACT GAAAA ACGGT AAATC ATGTC ATAGG GAATC GGTCA GGGCT GACGG ACGAT TAGGG GCCGA TGAAC ATATG AACTG CGCCA TCGAA TACTC TCATC ATCTG GGGAA GTGCA CGCGA ATTAC TATAA AGTAC TAATT CTAAT ATCAT GGCCG CTTCC AGCTT ACTCT GATCC GTCAA GAAAT AGTGA TATGT AGGTC GGATT CGTTA TATAT TTGGC AGTAG ACGTT GTCTA GCAAG GGTCT CGACA TCGCA AGATT AAACT GTCAT TGACT CTCGT GGAAA TAATA ATAAT ATATC CGGCT TCACA GGCGG CCTAA AACAT GCTTA AAGGC GGAAG GCCAG ACTAA CGCTG GGCGC AGTCG TTATC CAAAC GCTAC CAAGT GTCTG AAAAG GGTAA GGTTG TGCTT GCGTT CTAAC TCAAG ATAGT GATTG GCTAA AGTAA TGAGT GACAG GACTG GTATG TTCTT GCGGG GCGGA CAAAA ATAAG TTTAC TAGAC AGTGT TCGCT ACTGC GCTGG CGATT TGGTC ACTTC GAATG ACCGG GTAAG GCCGG CTAGG AGAAT ACATC CCCAG CAGTA GCATG ACCTG GCGCC TTGAC TTAGG CAGGA CTGAG CCGGG TTATA CTCGA TCTGA GAGAG CTATA GTTAT TACGA GGAAT AACTA TTACG CGACG TGAAT TGTGC AAACG CTGTG ATGCT ATGCA AGGAT GATCA TTGCA TTGGA ATTAG ATGAA AAGTA GCGTC TTAAT GTCCA CTCAG CCGGA TAGGT CAGTC CGTGA AGGGT TCGTC CTGGC TTAAG AACGG GTTTG CCGAC GATGC AAATT AGCCT GGTCG AATGC ACGAA GCCAT AAGAG CGGGC AAAGA ACTTT CCACG ATGTA CAAAT GAGCA CTCGG CGAGG CTAAG AGTTA CGATC TCAGA GTTAG GTCCT GACGT TTCGA GTCGC TGCAA CCAAC ACCTA CAGAC ATTCT GTGAA CTAGT AGACC GATGT CAGAG ACGGC TCACG TTACA TGGAA ACGGA GCCAC GAGTA AATAT TTCCT TTACC TACGG CAACG AAGTT TGGGA GACGC CGGAG TGAAA AGACT AGTTT GAAGA TCAAT TCTTG GCGCT CCAGG AGCAT ATATT CGAAA ATAAA ATAGA CTCAC CTACG AGAGC TGCGT ACGGG ATCAA GGCCT CTGAC TGAGC TTCAA TGGCA TCGGT CCAAG ATACA AGTAT GGTTA CGGGA ACCGT GGGTC TACAG GAGCC CCAGA GTGCC ACTAT GGGAT TACTG GCTCG ACAGC GGCCA TCAGG AGCTA AACGT GGTGA ATGGC TATCA CTTGC GCATA GGATG TGTTT GAACG GCCTA GACTC GGTCC TCTAA TAGTC TCGGC GCTTC AATCT TGGCC TATGG TAGCT AATCA CAACA CAACT AAGTG AGGTG GGACA CACGG GCCGC TCATG TTCTC TTCAG AGGTA CGTCG TAGTT TGCAG AAGTC CTCAT GTAAT TGGCG GCAGC GTGAG TGTGA AGAGG TGTTC GTGCG GCTGC AGGTT GAGGA CAGGT GTTAC TACGT TGTCC CATGG CGGCG CGGAA TTAAA CACAA TCCAA TGCCG GATCT GGCGT CGAGT TCTGT CTGCG TGACG CTTGA GATAC GACAA AGATG CTGCT CCGAG GCTTG CTACC ATGTG CTTGT CTGTA ATCGT CTGGT CAAGC AGATC TGAAG AGTGC GAGGT GGCTT CTGCA TAGGC GTTCT GTCAC CGTCT ACGCG TAGAG AATAA CTGGA AGCAA CATCG TTAGC TCCGG CGTAA GCTCA CTAGA ACATA AAGGT CTCGC ATTTC TTGTC TCTCG TACCG GACCT GACCG TTTCT CCACA CGTGG TAAAT GTTCA CAGAT ACGAC AGATA CTTAC GTCAG CACTG ACTAC GGCTC TGCGC GGTAC GTAAC CATAG CACGA ACTTA CGAAG TTGGT GCAGA TCTGC TACAA CGAGC ATGAG CGTCA CATGT CTTCT GCAAC GCAGG GGTTC TATTC TTCGC GCGAA GGTAT ATCAC TAAGG CCGCG ATTCA CTTGG CTAAA TTGCT GAGAA CGAGA TCGAC AGACG AGAAG ACTGG AACCT ATACC GATAG CTGTC AAGGA GTGTC GCGTA TGTAA TAACG CCGTC TTATG ACGTC ACTGA GAGTC GCGTG GTCTT TTCGG CGTTG GGCAG GCTAT GCTGT ACAAT TGTTA ACTTG CAAGG TACTT TTTGC GCTGA CCTTG TCCGA AAAAA ATACG AGCGT CGGCA ACAAG GTTAA CTGGG TGGTT TAGTA GCTAG TTTCG CGAAC TGCGG TAAGC GTCGG TGAGA GGCTA AGGCA CGCTA TCGTG TCGGG CGGTC GTGAC GGCAT ACTGT TACCA ACAGT CAAGA CTGTT ACGTA TTGAG AGCTG GACTA AACGA GTACG TTAGT GATAA TGATT GCGAC CCAGC TAACA ATCGC GTGGC TGCTA AACGC TATTT TGGCT TGGGT TCAAC ACGTG GATTC GGGAG TAAGT ATCTT TTCTA TGACC CGGAT AACTT TGTCA GCAAA GGTGC TATGA TTGCG CCGGT AACTC ATCGG GTCGA GTAGG ACTAG TTACT CAGAA TAGCC TCCTC GAGAT GTAAA TGTCT TAGGA AACAA TAGAA GTACC GTTGC CATGA CTTAT CTTTC CGCGT AAAAT GGATC ATGTT TTCCG GGAGA GCCTG CATAA ACACG CTATT CTGAA TCCAG AGGAG CTAGC CTGCC ATAAC AGTTC AGCAC CCTGC TGCCT GAAAG TGAGG GTTGG ATTCG TAAGA CAGTG AGACA ACAAA TCGCG ACGCC GAAGT CAAAG AAGAT GTGGG AGTCA TGCTC TCACT AGGCT TCTGG GTGTG GGACG GGCTG CCTGA AAGAA CAATA GCCGT ATTGC GCGAG GCGGC GTGAT AGGAA GTGCT TGCTG TCATT CCTAG TATCG AGGAC AAAGT CGAAT CATTA GGCAA CTACA TTCTG GGGTG ACCGC ATCTA TAGCA CATCA TCTAG ATTAT CGGTA AATGT TCATA GTCGT GGTAG TGTCG CAGCG GACGA TCTAC ATCCG CAACC TAGAT TGGAT CTCTG GTAGA GAGAC ACAAC\n"
     ]
    }
   ],
   "source": [
    "k = 5\n",
    "d = 2\n",
    "Dna = ['GAGTCGGCTAAGGTTAGCTTCAATA', 'CATTTAGTGTAGAACGGGCTTCAGG', 'AGATTGTCTGTTGCGAGATAACGTT', 'AAATACTGGCGACAAAGGGTGATGA', 'TGAAACAGCAAGGTTATCTGGCGAA', 'GCCTGCCTCTCCCCTACGTCAGAAT']\n",
    "print(*MotifEnumeration(Dna, k ,d))"
   ]
  },
  {
   "cell_type": "code",
   "execution_count": 7,
   "id": "49d25191",
   "metadata": {},
   "outputs": [
    {
     "name": "stdout",
     "output_type": "stream",
     "text": [
      "ATT GTT TTT ATA\n"
     ]
    }
   ],
   "source": [
    "print(*MotifEnumeration(['ATTTGGC', 'TGCCTTA', 'CGGTATC', 'GAAAATT'], 3 , 1))"
   ]
  },
  {
   "cell_type": "code",
   "execution_count": null,
   "id": "be939a52",
   "metadata": {},
   "outputs": [],
   "source": []
  }
 ],
 "metadata": {
  "kernelspec": {
   "display_name": "Python 3 (ipykernel)",
   "language": "python",
   "name": "python3"
  },
  "language_info": {
   "codemirror_mode": {
    "name": "ipython",
    "version": 3
   },
   "file_extension": ".py",
   "mimetype": "text/x-python",
   "name": "python",
   "nbconvert_exporter": "python",
   "pygments_lexer": "ipython3",
   "version": "3.9.13"
  }
 },
 "nbformat": 4,
 "nbformat_minor": 5
}
