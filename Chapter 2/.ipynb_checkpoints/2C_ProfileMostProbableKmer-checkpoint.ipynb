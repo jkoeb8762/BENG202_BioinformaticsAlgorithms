{
 "cells": [
  {
   "cell_type": "code",
   "execution_count": 1,
   "id": "f67c71f4",
   "metadata": {},
   "outputs": [],
   "source": [
    "#Find a Profile-most Probable k-mer in a String\n",
    "def Probability(pattern, profile):\n",
    "    prob = 1\n",
    "    for i in range(len(pattern)):\n",
    "        prob *= profile[pattern[i]][i]\n",
    "    return prob\n",
    "\n",
    "\n",
    "def ProfileMostProbableKmer(text, k, profile):\n",
    "    bestScore = 0\n",
    "    mostProbable = ''\n",
    "    for i in range(len(text)-k+1):\n",
    "        working = text[i:i+k]\n",
    "        score = Probability(working, profile)\n",
    "        if score > bestScore:\n",
    "            bestScore = score\n",
    "            mostProbable = working\n",
    "    return mostProbable"
   ]
  },
  {
   "cell_type": "code",
   "execution_count": 2,
   "id": "9d780e7a",
   "metadata": {},
   "outputs": [],
   "source": [
    "dna = \"ATATTGATGTGCGGACGACTGGGGGCGGCGCACGGTTAAGTTCTACAGCATAAGACCAACAGACCACGCTTGATCGCATGCCATAAACACACGTAAATCGGGTTTAATGAGTCCTGCAGCCTCACGAACGCATCTGAGATTAATCAACATGTTCACTTTTGTAATGGGCGCCAGGTAGAGTGGACGCACCACTATTCGTGTTTTGCACGTAGGCTCGGTAATGTAAGAAGTCTGAATAGAGAACGCGATGCGATAGAGCTGTGCTTAACTCACGCCCTCATGAAACGCTGAGTGAGCTCTAACCCTACAGGCGGTGAGCAGTCATGTCAGGAAGTGTGGCTTTGCTAATCACTCGAGACAGGGGAATATGTATCGAGCCGTTATTGTACGTTCTGGCCGGACCCTTTGCTACCTAGCAATCCTCAACGCTGATTTACTACTTAGGAGCCACGTTCTTCGTGTCCGCCAAGTACTGCCAGCCTACGTAGTTTCCTTTTGTTCCTCAACTAAAACCCATCTGTACCCCCGACGCATAATTTATCAGTCTTAGATTCCGCATCGGACGTGCTAATCTTGCTGCTCAGATACAGTCTATAGTGCAGCGGTGTGTCAGGTAAACTAGGTTTCGCGCCCCGGTGAGCCATCAATCACGGGGCTGATTCGTTAATAGCATTCTGTGTTACAAATATCTCATCAGCAGTGATGAAATGTGGATTATGTGGCCTTGACCAATAAGATCCCTTCTGGCTCACCTAATATTAACGGGAGAGAAGTCGAAATCAGTCAAACCGGCCGAATACACCATTCGATCGTACGAAAGCGAGAAACATTCGGCCATCCCTGAGCATCCCTTTAGGTGTTCCGGCACCTTACCTCGCACTGATGGGCAGCGCGGTTCCGGGGAGTGAAAAATAGTAGTCATTGAAGACTAGGTGGAATTTCCCGACCCGACCAAGTGACGAGCAGGGATATGCTCGGTTGGGTTTAACCTGCGTCGGAC\"\n",
    "m1 = {'A': [0.268, 0.282, 0.366, 0.197, 0.211, 0.211, 0.239, 0.197, 0.31, 0.254, 0.282, 0.239, 0.197, 0.296], \n",
    "      'C': [0.225, 0.268, 0.183, 0.254, 0.31, 0.352, 0.296, 0.324, 0.296, 0.225, 0.169, 0.225, 0.211, 0.155], \n",
    "      'G': [0.197, 0.254, 0.225, 0.239, 0.254, 0.282, 0.211, 0.268, 0.127, 0.197, 0.225, 0.268, 0.268, 0.296], \n",
    "      'T': [0.31, 0.197, 0.225, 0.31, 0.225, 0.155, 0.254, 0.211, 0.268, 0.324, 0.324, 0.268, 0.324, 0.254]}"
   ]
  },
  {
   "cell_type": "code",
   "execution_count": 3,
   "id": "ba048589",
   "metadata": {},
   "outputs": [
    {
     "data": {
      "text/plain": [
       "'TCACGCCCTCATGA'"
      ]
     },
     "execution_count": 3,
     "metadata": {},
     "output_type": "execute_result"
    }
   ],
   "source": [
    "ProfileMostProbableKmer(dna, 14, m1)"
   ]
  }
 ],
 "metadata": {
  "kernelspec": {
   "display_name": "Python 3 (ipykernel)",
   "language": "python",
   "name": "python3"
  },
  "language_info": {
   "codemirror_mode": {
    "name": "ipython",
    "version": 3
   },
   "file_extension": ".py",
   "mimetype": "text/x-python",
   "name": "python",
   "nbconvert_exporter": "python",
   "pygments_lexer": "ipython3",
   "version": "3.9.13"
  }
 },
 "nbformat": 4,
 "nbformat_minor": 5
}
