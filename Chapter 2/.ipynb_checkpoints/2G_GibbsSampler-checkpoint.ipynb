{
 "cells": [
  {
   "cell_type": "code",
   "execution_count": 1,
   "id": "d569c6a2",
   "metadata": {},
   "outputs": [],
   "source": [
    "import random\n",
    "def CountPsuedocounts(motifs):\n",
    "    counts = {}\n",
    "    nucleotides = ['A', 'C', 'G', 'T']\n",
    "    for nucleotide in nucleotides:\n",
    "        counts[nucleotide] = []\n",
    "        for i in range(len(motifs[0])):\n",
    "            counts[nucleotide].append(1)\n",
    "    for j in range(len(motifs)):\n",
    "        for x in  range(len(motifs[0])):\n",
    "            nucleotide = motifs[j][x]\n",
    "            counts[nucleotide][x] +=1\n",
    "    return counts\n",
    "\n",
    "def ProfilePsuedocounts(motifs):\n",
    "    t = len(motifs)\n",
    "    profile = {}\n",
    "    counts = CountPsuedocounts(motifs)\n",
    "    for nucleotide, motifList in sorted(counts.items()):\n",
    "        profile[nucleotide] = motifList\n",
    "        for motif, count in enumerate(motifList):\n",
    "            motifList[motif] = count/(float(t+4))\n",
    "    return profile"
   ]
  },
  {
   "cell_type": "code",
   "execution_count": 2,
   "id": "70a50d07",
   "metadata": {},
   "outputs": [],
   "source": [
    "def Probability(pattern, profile):\n",
    "    prob = 1\n",
    "    for i in range(len(pattern)):\n",
    "        prob *= profile[pattern[i]][i]\n",
    "    return prob\n",
    "\n",
    "def ProfileRandomlyGeneratedKmer(text, k, profile):\n",
    "    probabilities = []\n",
    "    for i in range(len(text) - k + 1):\n",
    "        probabilities.append(Probability(text[i:i+k], profile))\n",
    "    total = sum(probabilities)\n",
    "    probabilities = [p/total for p in probabilities]\n",
    "    i = random.choices(range(len(text) - k + 1), probabilities)[0]\n",
    "    return text[i:i+k]"
   ]
  },
  {
   "cell_type": "code",
   "execution_count": 3,
   "id": "a1ea0488",
   "metadata": {},
   "outputs": [],
   "source": [
    "def Consensus(motifs):\n",
    "    score = 0\n",
    "    profile = ProfilePsuedocounts(motifs)\n",
    "    consensus = \"\"\n",
    "    nucleotides = ['A','C','G','T']\n",
    "    for i in range(len(motifs[0])):\n",
    "        maxScore = 0\n",
    "        char = \"\"\n",
    "        for nucleotide in nucleotides:\n",
    "            if profile[nucleotide][i] > maxScore:\n",
    "                maxScore = profile[nucleotide][i]\n",
    "                char = nucleotide\n",
    "        consensus += char\n",
    "    return consensus\n",
    "def Score(motifs):\n",
    "    score = 0 \n",
    "    consensus = Consensus(motifs)\n",
    "    for motif in motifs:\n",
    "        for i, char in enumerate(motif):\n",
    "            if char != consensus[i]:\n",
    "                score += 1\n",
    "    return score"
   ]
  },
  {
   "cell_type": "code",
   "execution_count": 4,
   "id": "ff2febeb",
   "metadata": {},
   "outputs": [],
   "source": [
    "def GibbsSampler(Dna, k, t, N):\n",
    "    motifs = []\n",
    "    for string in Dna:\n",
    "        i = random.randint(0, len(string)-k)\n",
    "        motifs.append(string[i:i+k])\n",
    "    bestMotifs = motifs.copy()\n",
    "    for j in range(N):\n",
    "        i = random.randint(0, t-1)\n",
    "        tempMotifs = [motifs[x] for x in range(t) if x != i]\n",
    "        profile = ProfilePsuedocounts(tempMotifs)\n",
    "        motif_i = ProfileRandomlyGeneratedKmer(Dna[i], k, profile)\n",
    "        motifs[i] = motif_i\n",
    "        if Score(motifs) < Score(bestMotifs):\n",
    "            bestMotifs = motifs.copy()\n",
    "    return bestMotifs"
   ]
  },
  {
   "cell_type": "code",
   "execution_count": 5,
   "id": "53fb3f68",
   "metadata": {},
   "outputs": [],
   "source": [
    "def loop(Dna, k, t, N):\n",
    "    best_score = float('inf')\n",
    "    best_motifs = []\n",
    "    for _ in range(100):\n",
    "        motifs = GibbsSampler(Dna, k, t, N)\n",
    "        current_score = Score(motifs)\n",
    "        if current_score < best_score:\n",
    "            best_score = current_score\n",
    "            best_motifs = motifs\n",
    "    return best_motifs"
   ]
  },
  {
   "cell_type": "code",
   "execution_count": 6,
   "id": "28b7d52f",
   "metadata": {},
   "outputs": [
    {
     "name": "stdout",
     "output_type": "stream",
     "text": [
      "['TTCAGTAA', 'CCAAGGTG', 'TACAGGCG', 'TTCAGGTG', 'TCCACGTG']\n"
     ]
    }
   ],
   "source": [
    "# Test the code with sample data\n",
    "Dna = [\"CGCCCCTCTCGGGGGTGTTCAGTAACCGGCCA\",\n",
    "       \"GGGCGAGGTATGTGTAAGTGCCAAGGTGCCAG\",\n",
    "       \"TAGTACCGAGACCGAAAGAAGTATACAGGCGT\",\n",
    "       \"TAGATCAAGTTTCAGGTGCACGTCGGTGAACC\",\n",
    "       \"AATCCACCAGCTCCACGTGCAATGTTGGCCTA\"]\n",
    "\n",
    "k = 8\n",
    "t = 5\n",
    "N = 100\n",
    "\n",
    "print(loop(Dna, k, t, N))"
   ]
  },
  {
   "cell_type": "code",
   "execution_count": null,
   "id": "97e148c2",
   "metadata": {},
   "outputs": [],
   "source": []
  }
 ],
 "metadata": {
  "kernelspec": {
   "display_name": "Python 3 (ipykernel)",
   "language": "python",
   "name": "python3"
  },
  "language_info": {
   "codemirror_mode": {
    "name": "ipython",
    "version": 3
   },
   "file_extension": ".py",
   "mimetype": "text/x-python",
   "name": "python",
   "nbconvert_exporter": "python",
   "pygments_lexer": "ipython3",
   "version": "3.9.13"
  }
 },
 "nbformat": 4,
 "nbformat_minor": 5
}
