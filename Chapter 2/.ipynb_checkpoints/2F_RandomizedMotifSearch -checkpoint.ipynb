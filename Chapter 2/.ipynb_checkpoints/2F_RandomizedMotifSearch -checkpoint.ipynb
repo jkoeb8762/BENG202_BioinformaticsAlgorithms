{
 "cells": [
  {
   "cell_type": "code",
   "execution_count": 1,
   "id": "bd74b425",
   "metadata": {},
   "outputs": [],
   "source": [
    "def Probability(pattern, profile):\n",
    "    prob = 1\n",
    "    for i in range(len(pattern)):\n",
    "        prob *= profile[pattern[i]][i]\n",
    "    return prob\n",
    "\n",
    "\n",
    "def ProfileMostProbableKmer(text, k, profile):\n",
    "    bestScore = 0\n",
    "    mostProbable = ''\n",
    "    for i in range(len(text)-k+1):\n",
    "        working = text[i:i+k]\n",
    "        score = Probability(working, profile)\n",
    "        if score > bestScore:\n",
    "            bestScore = score\n",
    "            mostProbable = working\n",
    "    return mostProbable"
   ]
  },
  {
   "cell_type": "code",
   "execution_count": 9,
   "id": "813d3155",
   "metadata": {},
   "outputs": [],
   "source": [
    "def CountPsuedocounts(motifs):\n",
    "    counts = {}\n",
    "    nucleotides = ['A', 'C', 'G', 'T']\n",
    "    for nucleotide in nucleotides:\n",
    "        counts[nucleotide] = []\n",
    "        for i in range(len(motifs[0])):\n",
    "            counts[nucleotide].append(1)\n",
    "    for j in range(len(motifs)):\n",
    "        for x in  range(len(motifs[0])):\n",
    "            nucleotide = motifs[j][x]\n",
    "            counts[nucleotide][x] +=1\n",
    "    return counts\n",
    "\n",
    "def ProfilePsuedocounts(motifs):\n",
    "    t = len(motifs)\n",
    "    profile = {}\n",
    "    counts = CountPsuedocounts(motifs)\n",
    "    for nucleotide, motifList in sorted(counts.items()):\n",
    "        profile[nucleotide] = motifList\n",
    "        for motif, count in enumerate(motifList):\n",
    "            motifList[motif] = count/(float(t+4))\n",
    "    return profile"
   ]
  },
  {
   "cell_type": "code",
   "execution_count": 3,
   "id": "e37ce96f",
   "metadata": {},
   "outputs": [],
   "source": [
    "def Consensus(motifs):\n",
    "    score = 0\n",
    "    profile = ProfilePsuedocounts(motifs)\n",
    "    consensus = \"\"\n",
    "    nucleotides = ['A','C','G','T']\n",
    "    for i in range(len(motifs[0])):\n",
    "        maxScore = 0\n",
    "        char = \"\"\n",
    "        for nucleotide in nucleotides:\n",
    "            if profile[nucleotide][i] > maxScore:\n",
    "                maxScore = profile[nucleotide][i]\n",
    "                char = nucleotide\n",
    "        consensus += char\n",
    "    return consensus\n",
    "def Score(motifs):\n",
    "    score = 0 \n",
    "    consensus = Consensus(motifs)\n",
    "    for motif in motifs:\n",
    "        for i, char in enumerate(motif):\n",
    "            if char != consensus[i]:\n",
    "                score += 1\n",
    "    return score\n",
    "\n",
    "def Motifs(Dna, k, profile):\n",
    "    motifs = []\n",
    "    for string in Dna:\n",
    "        motifs.append(ProfileMostProbableKmer(string, k, profile))\n",
    "    return motifs"
   ]
  },
  {
   "cell_type": "code",
   "execution_count": 15,
   "id": "654d7aa0",
   "metadata": {},
   "outputs": [],
   "source": [
    "import random\n",
    "def RandomizedMotifSearch(dna, k ,t):\n",
    "    motifs = []\n",
    "    for string in dna:\n",
    "        index = random.randint(0, len(string)-k)\n",
    "        motifs.append(string[index:index+k])\n",
    "        \n",
    "    bestMotifs = motifs.copy()\n",
    "    while(True):\n",
    "        profile = ProfilePsuedocounts(motifs)\n",
    "        working = Motifs(dna, k, profile)\n",
    "        if Score(working) < Score(bestMotifs):\n",
    "            bestMotifs = working\n",
    "        else:\n",
    "            return bestMotifs"
   ]
  },
  {
   "cell_type": "code",
   "execution_count": 16,
   "id": "2f9324e2",
   "metadata": {},
   "outputs": [],
   "source": [
    "def loop(Dna, k, t):\n",
    "    best_score = float('inf')\n",
    "    best_motifs = []\n",
    "    for _ in range(1000):\n",
    "        motifs = RandomizedMotifSearch(Dna, k, t)\n",
    "        current_score = Score(motifs)\n",
    "        if current_score < best_score:\n",
    "            best_score = current_score\n",
    "            best_motifs = motifs\n",
    "    return best_motifs"
   ]
  },
  {
   "cell_type": "code",
   "execution_count": 17,
   "id": "56c2b5ba",
   "metadata": {},
   "outputs": [
    {
     "name": "stdout",
     "output_type": "stream",
     "text": [
      "['TTCAGTAA', 'CCAAGGTG', 'TACAGGCG', 'TTCAGGTG', 'TCCACGTG']\n"
     ]
    }
   ],
   "source": [
    "Dna = [\"CGCCCCTCTCGGGGGTGTTCAGTAAACGGCCA\",\n",
    "       \"GGGCGAGGTATGTGTAAGTGCCAAGGTGCCAG\",\n",
    "       \"TAGTACCGAGACCGAAAGAAGTATACAGGCGT\",\n",
    "       \"TAGATCAAGTTTCAGGTGCACGTCGGTGAACC\",\n",
    "       \"AATCCACCAGCTCCACGTGCAATGTTGGCCTA\"]\n",
    "k = 8\n",
    "t = 5\n",
    "print(loop(Dna, k, t))"
   ]
  }
 ],
 "metadata": {
  "kernelspec": {
   "display_name": "Python 3 (ipykernel)",
   "language": "python",
   "name": "python3"
  },
  "language_info": {
   "codemirror_mode": {
    "name": "ipython",
    "version": 3
   },
   "file_extension": ".py",
   "mimetype": "text/x-python",
   "name": "python",
   "nbconvert_exporter": "python",
   "pygments_lexer": "ipython3",
   "version": "3.9.13"
  }
 },
 "nbformat": 4,
 "nbformat_minor": 5
}
