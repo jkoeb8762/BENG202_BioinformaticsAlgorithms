{
 "cells": [
  {
   "cell_type": "code",
   "execution_count": 1,
   "id": "418e62ac",
   "metadata": {},
   "outputs": [],
   "source": [
    "#Find a Median String\n",
    "def HammingDistance(x, y):\n",
    "    dist = 0\n",
    "    for i in range(len(x)):\n",
    "        if x[i] != y[i]:\n",
    "            dist += 1\n",
    "    return dist\n",
    "\n",
    "def DistanceBetweenPatternAndStrings(pattern, dna):\n",
    "    k = len(pattern)\n",
    "    distance = 0\n",
    "    for string in dna:\n",
    "        hammingdistance = float(\"inf\")\n",
    "        for i in range(len(string)-k+1):\n",
    "            window = string[i:i+k]\n",
    "            dist = HammingDistance(pattern, window)\n",
    "            if hammingdistance > dist:\n",
    "                hammingdistance = dist\n",
    "        distance += hammingdistance\n",
    "    return distance\n",
    "\n",
    "def GenerateKmers(k):\n",
    "    nucleotides = ['A', 'C', 'G', 'T']\n",
    "    kmers = []\n",
    "    if k == 1:\n",
    "        return nucleotides\n",
    "    for i in GenerateKmers(k-1):\n",
    "        for nucleotide in nucleotides:\n",
    "            kmers.append(i + nucleotide)\n",
    "    return kmers\n",
    "        \n",
    "def MedianString(dna, k):\n",
    "    distance = float(\"inf\")\n",
    "    for kmer in GenerateKmers(k):\n",
    "        dist = (DistanceBetweenPatternAndStrings(kmer, dna))\n",
    "        if distance > dist:\n",
    "            distance = dist\n",
    "            median = kmer\n",
    "    return median"
   ]
  },
  {
   "cell_type": "code",
   "execution_count": 2,
   "id": "4666a4bd",
   "metadata": {},
   "outputs": [
    {
     "data": {
      "text/plain": [
       "'CCTGAG'"
      ]
     },
     "execution_count": 2,
     "metadata": {},
     "output_type": "execute_result"
    }
   ],
   "source": [
    "dna3 = ['TCATTTTGGCTCCGACGCCCTGAGGAGGCGCTTAACGGCGGA',\n",
    "'CCTGATCATGTCGGAACAATTGAATCTATGTAGGCGTAGGAC',\n",
    "'TCTCGGTGGTGTAGTCAGTGACTAAACCATCCTGACTCATCC',\n",
    "'ACCCAAACTGGAGCTCTAACCCGAAATCACCCTCGTCCTGAA',\n",
    "'GTACCTCCTGAGGGGTTTGGAGACAATCGCTCATGTCGACGT',\n",
    "'GCGCTCTCATCAATCTCTGGTCGGATAGGAATAAACCCTGAG',\n",
    "'CGTCTGCCTGAGCGATACCGCAGAGTACTCCCGCTCCACTTA',\n",
    "'CCCAGGTCAATTACCATTCCTGACTAGGGGCTGACCTTCGCA',\n",
    "'TGCAATCGTAAACTCCAACCTGAGAATACGGCAGCCATGTAA',\n",
    "'CCTGACGTCGAGAGCCGCAACCCGATATGACTTTGCCGTAGC']\n",
    "\n",
    "MedianString(dna3, 6)"
   ]
  }
 ],
 "metadata": {
  "kernelspec": {
   "display_name": "Python 3 (ipykernel)",
   "language": "python",
   "name": "python3"
  },
  "language_info": {
   "codemirror_mode": {
    "name": "ipython",
    "version": 3
   },
   "file_extension": ".py",
   "mimetype": "text/x-python",
   "name": "python",
   "nbconvert_exporter": "python",
   "pygments_lexer": "ipython3",
   "version": "3.9.13"
  }
 },
 "nbformat": 4,
 "nbformat_minor": 5
}
