{
 "cells": [
  {
   "cell_type": "code",
   "execution_count": 1,
   "id": "80e53116",
   "metadata": {},
   "outputs": [],
   "source": [
    "#Implement DistanceBetweenPatternAndStrings\n",
    "def HammingDistance(x, y):\n",
    "    dist = 0\n",
    "    for i in range(len(x)):\n",
    "        if x[i] != y[i]:\n",
    "            dist += 1\n",
    "    return dist\n",
    "\n",
    "def DistanceBetweenPatternAndStrings(pattern, dna):\n",
    "    k = len(pattern)\n",
    "    distance = 0\n",
    "    for string in dna:\n",
    "        hammingdistance = float(\"inf\")\n",
    "        for i in range(len(string)-k+1):\n",
    "            window = string[i:i+k]\n",
    "            dist = HammingDistance(pattern, window)\n",
    "            if hammingdistance > dist:\n",
    "                hammingdistance = dist\n",
    "        distance += hammingdistance\n",
    "    return distance"
   ]
  }
 ],
 "metadata": {
  "kernelspec": {
   "display_name": "Python 3 (ipykernel)",
   "language": "python",
   "name": "python3"
  },
  "language_info": {
   "codemirror_mode": {
    "name": "ipython",
    "version": 3
   },
   "file_extension": ".py",
   "mimetype": "text/x-python",
   "name": "python",
   "nbconvert_exporter": "python",
   "pygments_lexer": "ipython3",
   "version": "3.9.13"
  }
 },
 "nbformat": 4,
 "nbformat_minor": 5
}
