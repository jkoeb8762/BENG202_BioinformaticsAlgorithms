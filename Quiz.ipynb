{
 "cells": [
  {
   "cell_type": "code",
   "execution_count": 175,
   "id": "804e73cd",
   "metadata": {},
   "outputs": [],
   "source": [
    "def ScatteredPatternCount(text, pattern, overlap):\n",
    "    patternCount = 0\n",
    "    index = []\n",
    "    for i in range(len(text)-len(pattern)+1):\n",
    "        if text[i:i+len(pattern)] == pattern:\n",
    "            patternCount +=1\n",
    "            index.append(i)\n",
    "    scatterCount = 1\n",
    "    last = 0\n",
    "    #print(index)\n",
    "    for i in range(1,len(index)):\n",
    "        if(index[i]-index[last]) >= len(pattern)-overlap:\n",
    "            last = i\n",
    "            scatterCount +=1\n",
    "    return scatterCount"
   ]
  },
  {
   "cell_type": "code",
   "execution_count": 176,
   "id": "be6c45bd",
   "metadata": {},
   "outputs": [
    {
     "data": {
      "text/plain": [
       "45"
      ]
     },
     "execution_count": 176,
     "metadata": {},
     "output_type": "execute_result"
    }
   ],
   "source": [
    "ScatteredPatternCount('ACTCACATCACATCACATCACATCACATCACATCACATCACATCACATCACATCACATCACATCACATCACATATCACATCACATCACATCACATCACATCACATCACATCACATCACATCACATCACATCACATCACAAGGTCACATCACATCACATCACATCACATCACATCACATCACAGCCCTCACATCACATCACATCACATCACATCACATCACACGTCACATCACATCACATCACATCACATCACATCACATCACATCACATCACATCACATCACATCACATCACATCACATCACATCACAATCTCACATCACATCACATCACATCACATCACATCACATCACACTCACATCACATCACATCACATCACATCACATCACATCACATCACATCACATCACACTTTCACATCACATCACATCACATCACATCACATCACATCACATCACATCACATCACATCACATCACATCACATCACATCACATCACATCACATCACATCACATCACATCACATCACATCACATCACATCACATCACATCACATCACACCCCTCACATCACATCACATCACACGCGTCACATCACATCACATCACAGTCACATCACATCACATCACATCACATCACATCACATCACATCACATCACATCACATCACATCACATCACATCACATCACATCACATCACATCACATCACATCACAGTCACATCACATCACATCACATCACATCACATCACATCACATCACATCACATCACATCACATCACATCACATCACATCACATCACATCACATCACAATCACATCACATCACATCACATCACATCACATCACATCACATCACATCACATCACATCACATCACATCACATCACATCTTTCACATCACATCACATCACATCACATCACATCACATCACATCACATCACATCACATCACATCACATCACATCACATCACAATCACATCACATCACATCACATCACATCACATCACATCACATCACATCACATCACAATCACATCACATCACATCACA', 'TCACATCACATCACATCACA', 1)"
   ]
  },
  {
   "cell_type": "code",
   "execution_count": 180,
   "id": "f371b84d",
   "metadata": {},
   "outputs": [
    {
     "data": {
      "text/plain": [
       "3"
      ]
     },
     "execution_count": 180,
     "metadata": {},
     "output_type": "execute_result"
    }
   ],
   "source": [
    "ScatteredPatternCount(\"GATATATATCATATATATATATG\",\"ATATAT\",3)"
   ]
  },
  {
   "cell_type": "code",
   "execution_count": 178,
   "id": "aaef5a0b",
   "metadata": {},
   "outputs": [],
   "source": [
    "text = 'GGTCGGTCGGTCGGTCGGTCGGTCGGTCGGTCGGTCGGTCGGTCGGTCGGTCGGTCGGTCGGTCGGTCGGTCGGTCGGTCGGTCGGTCGGTCGGTCGGTCGGTCGGTCGGTCGGTCGGTCGGTCGGTCGGTCGGTCCTGGTCGGTCGGTCGGTCGGTCGGTCGGTCGGTCCTGCTGGTCGGTCGGTCGGTCGGTCGGTCGGTCGGTCGGTCGGTCGGTCGGTCGTGGTCGGTCGGTCGGTCGGCTGCAGGTCGGTCGGTCGGTCTGGTCGGTCGGTCGGTCGGTCGGTCGGTCGGTCTGGGTCGGTCGGTCGGTCACGGTCGGTCGGTCGGTCGGTCGGTCGGTCGGTCGGTCGGTCGGTCGGTCTGGTCGGTCGGTCGGTCGGTCGGTCGGTCGGTCGGTCGGTCGGTCGGTCGGGTCGGTCGGTCGGTCGGTCGGTCGGTCGGTCGGTCGGTCTGGGTCGGTCGGTCGGTCGGTCGGTCGGTCTGGTCGGTCGGTCGGTCGGTCGGTCGGTCGGTCGGTCGGTCGGTCGGTCGGTCGGTCGGTCGGTCGGTCGGTCCGGGTCGGTCGGTCGGTCGGGTCGGTCGGTCGGTCGGTCGGTCGGTCGGTCGGTCGGTCGGTCGGTCGGTCGGTCGGTCGGTCGGTCGGTCGGTCGGTCGGTCGGTCGGTCAGGTCGGTCGGTCGGTCCGGGTCGGTCGGTCGGTCCATGGTCGGTCGGTCGGTCGGTCGGTCGGTCGGTCGGTCGGTCGGTCGGTCGGGTCGGTCGGTCGGTCGGTCGGTCCGGTCGGTCGGTCGGTCGGTCGGTCGGTCGGTCGGTCGGTCGGTCGGTCGGTCGGTCGGTCCGGTCGGTCGGTCGGTCGGTCGGTCGGTCGGTCGGTCGGTCAGGTCGGTCGGTCGGTCGGTCGGTCGGTCGGTCGGTCAGGTCGGTCGGTCGGTCGGTCGGTCGGTCGGTCGGTCGGTCGGTCGGTCGGTCATTCGGTCGGTCGGTCGGTCGGTCGGTCGGTCGGTCGGTCGGTCGGTCGGTCAGGTCGGTCGGTCGGTCACGGTCGGTCGGTCGGTC'"
   ]
  },
  {
   "cell_type": "code",
   "execution_count": 181,
   "id": "d15a99ed",
   "metadata": {},
   "outputs": [
    {
     "data": {
      "text/plain": [
       "58"
      ]
     },
     "execution_count": 181,
     "metadata": {},
     "output_type": "execute_result"
    }
   ],
   "source": [
    "Pattern = 'GGTCGGTCGGTCGGTC'\n",
    "ScatteredPatternCount(text, Pattern, 3)"
   ]
  },
  {
   "cell_type": "code",
   "execution_count": null,
   "id": "2257ee47",
   "metadata": {},
   "outputs": [],
   "source": []
  }
 ],
 "metadata": {
  "kernelspec": {
   "display_name": "Python 3 (ipykernel)",
   "language": "python",
   "name": "python3"
  },
  "language_info": {
   "codemirror_mode": {
    "name": "ipython",
    "version": 3
   },
   "file_extension": ".py",
   "mimetype": "text/x-python",
   "name": "python",
   "nbconvert_exporter": "python",
   "pygments_lexer": "ipython3",
   "version": "3.9.12"
  }
 },
 "nbformat": 4,
 "nbformat_minor": 5
}
