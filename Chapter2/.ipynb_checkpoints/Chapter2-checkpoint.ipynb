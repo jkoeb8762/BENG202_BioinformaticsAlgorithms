{
 "cells": [
  {
   "cell_type": "code",
   "execution_count": 1,
   "id": "6cb273ce",
   "metadata": {},
   "outputs": [],
   "source": [
    "def HammingDistance(x, y):\n",
    "    dist = 0\n",
    "    for i in range(len(x)):\n",
    "        if x[i] != y[i]:\n",
    "            dist += 1\n",
    "    return dist\n",
    "def Neighbors(pattern,d):\n",
    "    if d == 0:\n",
    "        return {pattern}\n",
    "    if len(pattern) == 1:\n",
    "        return {\"A\",\"C\",\"G\",\"T\"}\n",
    "    neighborhood = set()\n",
    "    suffix = pattern[1:]\n",
    "    suffixNeighbors = Neighbors(suffix,d)\n",
    "    nucleotides = [\"A\", \"T\", \"G\", \"C\"]\n",
    "    for text in suffixNeighbors:\n",
    "        if HammingDistance(suffix, text) < d:\n",
    "            for i in range(len(nucleotides)):\n",
    "                neighborhood.add(nucleotides[i]+text)\n",
    "        else:\n",
    "            neighborhood.add(pattern[0]+text)\n",
    "    return neighborhood\n",
    "\n",
    "def DistanceBetweenPatternAndStrings(pattern, dna):\n",
    "    k = len(pattern)\n",
    "    distance = 0\n",
    "    for string in dna:\n",
    "        hammingdistance = float(\"inf\")\n",
    "        for i in range(len(string)-k+1):\n",
    "            window = string[i:i+k]\n",
    "            dist = HammingDistance(pattern, window)\n",
    "            if hammingdistance > dist:\n",
    "                hammingdistance = dist\n",
    "        distance += hammingdistance\n",
    "    return distance"
   ]
  },
  {
   "cell_type": "code",
   "execution_count": 2,
   "id": "e8d1e8ad",
   "metadata": {},
   "outputs": [
    {
     "data": {
      "text/plain": [
       "5"
      ]
     },
     "execution_count": 2,
     "metadata": {},
     "output_type": "execute_result"
    }
   ],
   "source": [
    "DistanceBetweenPatternAndStrings(\"AAA\", ['TTACCTTAAC', 'GATATCTGTC', 'ACGGCGTTCG', 'CCCTAAAGAG', 'CGTCAGAGGT'])"
   ]
  },
  {
   "cell_type": "code",
   "execution_count": 3,
   "id": "1b53278b",
   "metadata": {},
   "outputs": [],
   "source": [
    "#Modified approximate pattern count to boolean output\n",
    "def ApproximatePattern(text, pattern, d):\n",
    "    n = len(pattern)\n",
    "    for i in range(len(text)-len(pattern)+1):\n",
    "        working = text[i:i+n]\n",
    "        dist = HammingDistance(pattern, working)\n",
    "        if dist <= d:\n",
    "            return True\n",
    "    return False\n",
    "\n",
    "#loop through multiple strand\n",
    "def IsMotif(dna, pattern, d):\n",
    "    for strand in dna:\n",
    "        if ApproximatePattern(strand, pattern, d) == False:\n",
    "            return False\n",
    "    return True\n",
    "\n",
    "def MotifEnumeration(dna, k, d):\n",
    "    #Patterns ← an empty set\n",
    "    patterns = set()\n",
    "    #for each k-mer Pattern in Dna\n",
    "    for strand in dna:\n",
    "        #generate neighborhood of k-mer pattern differing by at most d mistmatches\n",
    "        for i in range(len(strand)-k+1):\n",
    "            window = strand[i:i+k]\n",
    "            neighborhood = Neighbors(window, d)\n",
    "            #if Pattern' appears in each string from Dna with at most d mismatches\n",
    "            for word in neighborhood:\n",
    "                if IsMotif(dna, word, d):\n",
    "                    #add Pattern' to Patterns\n",
    "                    patterns.add(word)\n",
    "    return patterns"
   ]
  },
  {
   "cell_type": "code",
   "execution_count": 4,
   "id": "94ea256e",
   "metadata": {},
   "outputs": [],
   "source": [
    "k = 5\n",
    "d = 2\n",
    "#Dna = ['GAGTCGGCTAAGGTTAGCTTCAATA', 'CATTTAGTGTAGAACGGGCTTCAGG', 'AGATTGTCTGTTGCGAGATAACGTT', 'AAATACTGGCGACAAAGGGTGATGA', 'TGAAACAGCAAGGTTATCTGGCGAA', 'GCCTGCCTCTCCCCTACGTCAGAAT']\n",
    "#print(*MotifEnumeration(Dna, k ,d))"
   ]
  },
  {
   "cell_type": "code",
   "execution_count": 15,
   "id": "cf3c81db",
   "metadata": {},
   "outputs": [],
   "source": [
    "def DistanceBetweenPatternAndStrings(pattern, dna):\n",
    "    k = len(pattern)\n",
    "    distance = 0\n",
    "    for string in dna:\n",
    "        hammingdistance = float(\"inf\")\n",
    "        for i in range(len(string)-k+1):\n",
    "            window = string[i:i+k]\n",
    "            dist = HammingDistance(pattern, window)\n",
    "            if hammingdistance > dist:\n",
    "                hammingdistance = dist\n",
    "        distance += hammingdistance\n",
    "    return distance\n",
    "\n",
    "def GenerateKmers(k):\n",
    "    nucleotides = ['A', 'C', 'G', 'T']\n",
    "    kmers = nucleotides\n",
    "    if k == 1:\n",
    "        return nucleotides\n",
    "    for i in GenerateKmers(k-1):\n",
    "        for nucleotide in nucleotides:\n",
    "            kmers.append(i + nucleotide)\n",
    "    return kmers\n",
    "        \n",
    "def MedianString(dna, k):\n",
    "    distance = float(\"inf\")\n",
    "    for kmer in GenerateArray(k):\n",
    "        dist = (DistanceBetweenPatternAndStrings(kmer, dna))\n",
    "        if distance > dist:\n",
    "            distance = dist\n",
    "            median = kmer\n",
    "    return median\n",
    "            "
   ]
  },
  {
   "cell_type": "code",
   "execution_count": 6,
   "id": "da9d3f52",
   "metadata": {},
   "outputs": [
    {
     "ename": "NameError",
     "evalue": "name 'GenerateArray' is not defined",
     "output_type": "error",
     "traceback": [
      "\u001b[1;31m---------------------------------------------------------------------------\u001b[0m",
      "\u001b[1;31mNameError\u001b[0m                                 Traceback (most recent call last)",
      "Input \u001b[1;32mIn [6]\u001b[0m, in \u001b[0;36m<cell line: 2>\u001b[1;34m()\u001b[0m\n\u001b[0;32m      1\u001b[0m dna2 \u001b[38;5;241m=\u001b[39m [\u001b[38;5;124m'\u001b[39m\u001b[38;5;124mAGCCCGTGTAAACTCGACGTGGGAGAATAGTCTTGTTCAACC\u001b[39m\u001b[38;5;124m'\u001b[39m,\u001b[38;5;124m'\u001b[39m\u001b[38;5;124mGGGATCTTAACCCGCCGCCAGACGAAAGGATAGGATTTCAGT\u001b[39m\u001b[38;5;124m'\u001b[39m,\u001b[38;5;124m'\u001b[39m\u001b[38;5;124mTAAAAATAACCGTCAACCGGCCCTGCGTTACCAGGACGTCAC\u001b[39m\u001b[38;5;124m'\u001b[39m,\u001b[38;5;124m'\u001b[39m\u001b[38;5;124mAGAGAGTCCGAGTGAACCTCTTTCGGGCCGAGGCGGCGGCAG\u001b[39m\u001b[38;5;124m'\u001b[39m,\u001b[38;5;124m'\u001b[39m\u001b[38;5;124mTTAACCGGTTTCGAAGTCGGTCAAATCACGGACCATCTCGTG\u001b[39m\u001b[38;5;124m'\u001b[39m,\u001b[38;5;124m'\u001b[39m\u001b[38;5;124mAAGGGTGACGAGTTAACCTCCTGAATTGACACAAGATCTTAA\u001b[39m\u001b[38;5;124m'\u001b[39m,\u001b[38;5;124m'\u001b[39m\u001b[38;5;124mAATAAGTCAACCTGTCAAAATTCCGCACGTATAATCCTCACT\u001b[39m\u001b[38;5;124m'\u001b[39m,\u001b[38;5;124m'\u001b[39m\u001b[38;5;124mTAAACCTAGTCCGTGAAACATGTCGAATACCGCGTGCAAGGA\u001b[39m\u001b[38;5;124m'\u001b[39m,\u001b[38;5;124m'\u001b[39m\u001b[38;5;124mCCATAGGTGTGACGTCAGAGTCGATGAACCGTCAATACGCCG\u001b[39m\u001b[38;5;124m'\u001b[39m,\u001b[38;5;124m'\u001b[39m\u001b[38;5;124mAGAGGCCAACGGTGTAGATAAACCCGAATCAAGCCAACCCAG\u001b[39m\u001b[38;5;124m'\u001b[39m]\n\u001b[1;32m----> 2\u001b[0m \u001b[43mMedianString\u001b[49m\u001b[43m(\u001b[49m\u001b[43mdna2\u001b[49m\u001b[43m,\u001b[49m\u001b[43m \u001b[49m\u001b[38;5;241;43m6\u001b[39;49m\u001b[43m)\u001b[49m\n",
      "Input \u001b[1;32mIn [5]\u001b[0m, in \u001b[0;36mMedianString\u001b[1;34m(dna, k)\u001b[0m\n\u001b[0;32m     23\u001b[0m \u001b[38;5;28;01mdef\u001b[39;00m \u001b[38;5;21mMedianString\u001b[39m(dna, k):\n\u001b[0;32m     24\u001b[0m     distance \u001b[38;5;241m=\u001b[39m \u001b[38;5;28mfloat\u001b[39m(\u001b[38;5;124m\"\u001b[39m\u001b[38;5;124minf\u001b[39m\u001b[38;5;124m\"\u001b[39m)\n\u001b[1;32m---> 25\u001b[0m     \u001b[38;5;28;01mfor\u001b[39;00m kmer \u001b[38;5;129;01min\u001b[39;00m \u001b[43mGenerateArray\u001b[49m(k):\n\u001b[0;32m     26\u001b[0m         dist \u001b[38;5;241m=\u001b[39m (DistanceBetweenPatternAndStrings(kmer, dna))\n\u001b[0;32m     27\u001b[0m         \u001b[38;5;28;01mif\u001b[39;00m distance \u001b[38;5;241m>\u001b[39m dist:\n",
      "\u001b[1;31mNameError\u001b[0m: name 'GenerateArray' is not defined"
     ]
    }
   ],
   "source": [
    "dna2 = ['AGCCCGTGTAAACTCGACGTGGGAGAATAGTCTTGTTCAACC','GGGATCTTAACCCGCCGCCAGACGAAAGGATAGGATTTCAGT','TAAAAATAACCGTCAACCGGCCCTGCGTTACCAGGACGTCAC','AGAGAGTCCGAGTGAACCTCTTTCGGGCCGAGGCGGCGGCAG','TTAACCGGTTTCGAAGTCGGTCAAATCACGGACCATCTCGTG','AAGGGTGACGAGTTAACCTCCTGAATTGACACAAGATCTTAA','AATAAGTCAACCTGTCAAAATTCCGCACGTATAATCCTCACT','TAAACCTAGTCCGTGAAACATGTCGAATACCGCGTGCAAGGA','CCATAGGTGTGACGTCAGAGTCGATGAACCGTCAATACGCCG','AGAGGCCAACGGTGTAGATAAACCCGAATCAAGCCAACCCAG']\n",
    "MedianString(dna2, 6)"
   ]
  },
  {
   "cell_type": "code",
   "execution_count": null,
   "id": "7fcb95fb",
   "metadata": {},
   "outputs": [],
   "source": [
    "dna = ['AAATTGACGCAT', 'GACGACCACGTT', 'CGTCAGCGCCTG', 'GCTGAGCACCGG', 'AGTTCGGGACAG']\n",
    "dna1 = ['AGCCCGTGTAAACTCGACGTGGGAGAATAGTCTTGTTCAACC','GGGATCTTAACCCGCCGCCAGACGAAAGGATAGGATTTCAGT','TAAAAATAACCGTCAACCGGCCCTGCGTTACCAGGACGTCAC','AGAGAGTCCGAGTGAACCTCTTTCGGGCCGAGGCGGCGGCAG','TTAACCGGTTTCGAAGTCGGTCAAATCACGGACCATCTCGTG','AAGGGTGACGAGTTAACCTCCTGAATTGACACAAGATCTTAA','AATAAGTCAACCTGTCAAAATTCCGCACGTATAATCCTCACT','TAAACCTAGTCCGTGAAACATGTCGAATACCGCGTGCAAGGA','CCATAGGTGTGACGTCAGAGTCGATGAACCGTCAATACGCCG','AGAGGCCAACGGTGTAGATAAACCCGAATCAAGCCAACCCAG']\n",
    "MedianString(dna, 3)"
   ]
  },
  {
   "cell_type": "code",
   "execution_count": null,
   "id": "aa8b10c6",
   "metadata": {},
   "outputs": [],
   "source": [
    "GenerateKmers(2)"
   ]
  },
  {
   "cell_type": "code",
   "execution_count": null,
   "id": "b27ef603",
   "metadata": {},
   "outputs": [],
   "source": []
  }
 ],
 "metadata": {
  "kernelspec": {
   "display_name": "Python 3 (ipykernel)",
   "language": "python",
   "name": "python3"
  },
  "language_info": {
   "codemirror_mode": {
    "name": "ipython",
    "version": 3
   },
   "file_extension": ".py",
   "mimetype": "text/x-python",
   "name": "python",
   "nbconvert_exporter": "python",
   "pygments_lexer": "ipython3",
   "version": "3.9.12"
  }
 },
 "nbformat": 4,
 "nbformat_minor": 5
}
