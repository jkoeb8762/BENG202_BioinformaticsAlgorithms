{
 "cells": [
  {
   "cell_type": "code",
   "execution_count": 7,
   "id": "566be7ac",
   "metadata": {},
   "outputs": [],
   "source": [
    "def HammingDistance(x, y):\n",
    "    dist = 0\n",
    "    for i in range(len(x)):\n",
    "        if x[i] != y[i]:\n",
    "            dist += 1\n",
    "    return dist\n",
    "\n",
    "def Neighbors(pattern,d):\n",
    "    if d == 0:\n",
    "        return {pattern}\n",
    "    if len(pattern) == 1:\n",
    "        return {\"A\",\"C\",\"G\",\"T\"}\n",
    "    neighborhood = []\n",
    "    suffix = pattern[1:]\n",
    "    suffixNeighbors = Neighbors(suffix,d)\n",
    "    nucleotides = [\"A\", \"T\", \"G\", \"C\"]\n",
    "    for text in suffixNeighbors:\n",
    "        if HammingDistance(suffix, text) < d:\n",
    "            for i in range(len(nucleotides)):\n",
    "                neighborhood.append(nucleotides[i]+text)\n",
    "        else:\n",
    "            neighborhood.append(pattern[0]+text)\n",
    "    return neighborhood\n"
   ]
  }
 ],
 "metadata": {
  "kernelspec": {
   "display_name": "Python 3 (ipykernel)",
   "language": "python",
   "name": "python3"
  },
  "language_info": {
   "codemirror_mode": {
    "name": "ipython",
    "version": 3
   },
   "file_extension": ".py",
   "mimetype": "text/x-python",
   "name": "python",
   "nbconvert_exporter": "python",
   "pygments_lexer": "ipython3",
   "version": "3.9.12"
  }
 },
 "nbformat": 4,
 "nbformat_minor": 5
}
