{
 "cells": [
  {
   "cell_type": "code",
   "execution_count": 175,
   "id": "239da246",
   "metadata": {},
   "outputs": [],
   "source": [
    "def ScatteredPatternCount(text, pattern, overlap):\n",
    "    patternCount = 0\n",
    "    index = []\n",
    "    for i in range(len(text)-len(pattern)+1):\n",
    "        if text[i:i+len(pattern)] == pattern:\n",
    "            patternCount +=1\n",
    "            index.append(i)\n",
    "    scatterCount = 1\n",
    "    last = 0\n",
    "    #print(index)\n",
    "    for i in range(1,len(index)):\n",
    "        if(index[i]-index[last]) >= len(pattern)-overlap:\n",
    "            last = i\n",
    "            scatterCount +=1\n",
    "    return scatterCount"
   ]
  },
  {
   "cell_type": "code",
   "execution_count": 176,
   "id": "329b1de2",
   "metadata": {},
   "outputs": [
    {
     "data": {
      "text/plain": [
       "45"
      ]
     },
     "execution_count": 176,
     "metadata": {},
     "output_type": "execute_result"
    }
   ],
   "source": [
    "ScatteredPatternCount('ACTCACATCACATCACATCACATCACATCACATCACATCACATCACATCACATCACATCACATCACATCACATATCACATCACATCACATCACATCACATCACATCACATCACATCACATCACATCACATCACATCACAAGGTCACATCACATCACATCACATCACATCACATCACATCACAGCCCTCACATCACATCACATCACATCACATCACATCACACGTCACATCACATCACATCACATCACATCACATCACATCACATCACATCACATCACATCACATCACATCACATCACATCACATCACAATCTCACATCACATCACATCACATCACATCACATCACATCACACTCACATCACATCACATCACATCACATCACATCACATCACATCACATCACATCACACTTTCACATCACATCACATCACATCACATCACATCACATCACATCACATCACATCACATCACATCACATCACATCACATCACATCACATCACATCACATCACATCACATCACATCACATCACATCACATCACATCACATCACATCACACCCCTCACATCACATCACATCACACGCGTCACATCACATCACATCACAGTCACATCACATCACATCACATCACATCACATCACATCACATCACATCACATCACATCACATCACATCACATCACATCACATCACATCACATCACATCACATCACAGTCACATCACATCACATCACATCACATCACATCACATCACATCACATCACATCACATCACATCACATCACATCACATCACATCACATCACATCACAATCACATCACATCACATCACATCACATCACATCACATCACATCACATCACATCACATCACATCACATCACATCACATCTTTCACATCACATCACATCACATCACATCACATCACATCACATCACATCACATCACATCACATCACATCACATCACATCACAATCACATCACATCACATCACATCACATCACATCACATCACATCACATCACATCACAATCACATCACATCACATCACA', 'TCACATCACATCACATCACA', 1)"
   ]
  },
  {
   "cell_type": "code",
   "execution_count": 169,
   "id": "a55de3fd",
   "metadata": {},
   "outputs": [
    {
     "name": "stdout",
     "output_type": "stream",
     "text": [
      "[1, 3, 10, 12, 14, 16]\n"
     ]
    },
    {
     "data": {
      "text/plain": [
       "3"
      ]
     },
     "execution_count": 169,
     "metadata": {},
     "output_type": "execute_result"
    }
   ],
   "source": [
    "ScatteredPatternCount(\"GATATATATCATATATATATATG\",\"ATATAT\",3)"
   ]
  },
  {
   "cell_type": "code",
   "execution_count": 178,
   "id": "0aab6593",
   "metadata": {},
   "outputs": [],
   "source": [
    "text = 'GGTCGGTCGGTCGGTCGGTCGGTCGGTCGGTCGGTCGGTCGGTCGGTCGGTCGGTCGGTCGGTCGGTCGGTCGGTCGGTCGGTCGGTCGGTCGGTCGGTCGGTCGGTCGGTCGGTCGGTCGGTCGGTCGGTCGGTCCTGGTCGGTCGGTCGGTCGGTCGGTCGGTCGGTCCTGCTGGTCGGTCGGTCGGTCGGTCGGTCGGTCGGTCGGTCGGTCGGTCGGTCGTGGTCGGTCGGTCGGTCGGCTGCAGGTCGGTCGGTCGGTCTGGTCGGTCGGTCGGTCGGTCGGTCGGTCGGTCTGGGTCGGTCGGTCGGTCACGGTCGGTCGGTCGGTCGGTCGGTCGGTCGGTCGGTCGGTCGGTCGGTCTGGTCGGTCGGTCGGTCGGTCGGTCGGTCGGTCGGTCGGTCGGTCGGTCGGGTCGGTCGGTCGGTCGGTCGGTCGGTCGGTCGGTCGGTCTGGGTCGGTCGGTCGGTCGGTCGGTCGGTCTGGTCGGTCGGTCGGTCGGTCGGTCGGTCGGTCGGTCGGTCGGTCGGTCGGTCGGTCGGTCGGTCGGTCGGTCCGGGTCGGTCGGTCGGTCGGGTCGGTCGGTCGGTCGGTCGGTCGGTCGGTCGGTCGGTCGGTCGGTCGGTCGGTCGGTCGGTCGGTCGGTCGGTCGGTCGGTCGGTCGGTCAGGTCGGTCGGTCGGTCCGGGTCGGTCGGTCGGTCCATGGTCGGTCGGTCGGTCGGTCGGTCGGTCGGTCGGTCGGTCGGTCGGTCGGGTCGGTCGGTCGGTCGGTCGGTCCGGTCGGTCGGTCGGTCGGTCGGTCGGTCGGTCGGTCGGTCGGTCGGTCGGTCGGTCGGTCCGGTCGGTCGGTCGGTCGGTCGGTCGGTCGGTCGGTCGGTCAGGTCGGTCGGTCGGTCGGTCGGTCGGTCGGTCGGTCAGGTCGGTCGGTCGGTCGGTCGGTCGGTCGGTCGGTCGGTCGGTCGGTCGGTCATTCGGTCGGTCGGTCGGTCGGTCGGTCGGTCGGTCGGTCGGTCGGTCGGTCAGGTCGGTCGGTCGGTCACGGTCGGTCGGTCGGTC'"
   ]
  },
  {
   "cell_type": "code",
   "execution_count": 179,
   "id": "8f497048",
   "metadata": {},
   "outputs": [
    {
     "data": {
      "text/plain": [
       "58"
      ]
     },
     "execution_count": 179,
     "metadata": {},
     "output_type": "execute_result"
    }
   ],
   "source": [
    "Pattern = 'GGTCGGTCGGTCGGTC'\n",
    "ScatteredPatternCount(text, Pattern, 3)"
   ]
  },
  {
   "cell_type": "code",
   "execution_count": null,
   "id": "d18885c5",
   "metadata": {},
   "outputs": [],
   "source": []
  }
 ],
 "metadata": {
  "kernelspec": {
   "display_name": "Python 3 (ipykernel)",
   "language": "python",
   "name": "python3"
  },
  "language_info": {
   "codemirror_mode": {
    "name": "ipython",
    "version": 3
   },
   "file_extension": ".py",
   "mimetype": "text/x-python",
   "name": "python",
   "nbconvert_exporter": "python",
   "pygments_lexer": "ipython3",
   "version": "3.9.12"
  }
 },
 "nbformat": 4,
 "nbformat_minor": 5
}
