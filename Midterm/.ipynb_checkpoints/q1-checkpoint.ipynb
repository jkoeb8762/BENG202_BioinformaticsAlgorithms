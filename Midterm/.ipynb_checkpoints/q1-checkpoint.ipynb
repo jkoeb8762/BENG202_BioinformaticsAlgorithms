{
 "cells": [
  {
   "cell_type": "code",
   "execution_count": 32,
   "id": "bfe2c2cd",
   "metadata": {},
   "outputs": [],
   "source": [
    "def Probability(pattern, profile):\n",
    "    prob = 1\n",
    "    for i in range(len(pattern)):\n",
    "        working = float(profile[pattern[i]][i])\n",
    "        prob *= working\n",
    "    return prob\n",
    "\n",
    "def ProfileMostProbableKmer(text, k, profile):\n",
    "    bestScore = 0\n",
    "    mostProbable = ''\n",
    "    for i in range(len(text)-k+1):\n",
    "        working = text[i:i+k]\n",
    "        score = Probability(working, profile)\n",
    "        if score > bestScore:\n",
    "            bestScore = score\n",
    "            mostProbable = working\n",
    "    return mostProbable\n",
    "\n",
    "\n",
    "def ScatteredPatternCount(text, pattern, overlap):\n",
    "    patternCount = 0\n",
    "    index = []\n",
    "    for i in range(len(text)-len(pattern)+1):\n",
    "        if text[i:i+len(pattern)] == pattern:\n",
    "            patternCount +=1\n",
    "            index.append(i)\n",
    "    scatterCount = 1\n",
    "    last = 0\n",
    "    #print(index)\n",
    "    for i in range(1,len(index)):\n",
    "        if(index[i]-index[last]) >= len(pattern)-overlap:\n",
    "            last = i\n",
    "            scatterCount +=1\n",
    "    return scatterCount\n"
   ]
  },
  {
   "cell_type": "code",
   "execution_count": 87,
   "id": "76f2b87b",
   "metadata": {},
   "outputs": [],
   "source": [
    "#Code inspired by three functions above- modifying ProfileMostProbableKmer to store indexes of the kmers instead, and taking inspiration from ScatteredPatternCount to count. \n",
    "def q1(text, k, profile, threshold, d):\n",
    "    idxs = []\n",
    "    for i in range(len(text)-k+1):\n",
    "        working = text[i:i+k]\n",
    "        score = Probability(working, profile)\n",
    "        if score > threshold:\n",
    "            idxs.append(i)\n",
    "    print(idxs)\n",
    "    if idxs:\n",
    "        count = 1\n",
    "    else: \n",
    "        count = 0\n",
    "    bestCount = count\n",
    "    for i in range(1, len(idxs)):\n",
    "        if idxs[i] - idxs[i-1] <= d:\n",
    "            count += 1\n",
    "        else:\n",
    "            count = 0 \n",
    "        if count >= bestCount:\n",
    "            bestCount = count\n",
    "            \n",
    "    return bestCount"
   ]
  },
  {
   "cell_type": "code",
   "execution_count": 89,
   "id": "7a1dc2ea",
   "metadata": {},
   "outputs": [
    {
     "name": "stdout",
     "output_type": "stream",
     "text": [
      "13\n",
      "[4, 14, 20, 26, 29, 35, 46, 49, 56, 61, 66, 77, 87, 96, 98, 137, 147, 158, 159, 170, 171, 179, 188, 201, 210, 216]\n",
      "15\n"
     ]
    }
   ],
   "source": [
    "#with open(\"input_1.txt\") as f: \n",
    "with open(\"dataset_901302_2.txt\") as f:\n",
    "    lines = f.read().strip().splitlines()\n",
    "    seq = lines[0]\n",
    "    k = int(lines[1])\n",
    "    profile = {}\n",
    "    nucleotides = [\"A\", \"C\", \"G\", \"T\"]\n",
    "    for i in range(len(nucleotides)):\n",
    "        working = nucleotides[i]\n",
    "        profile[working] = lines[i+2].split()\n",
    "    threshold = float(lines[6])\n",
    "    d = int(lines[7])\n",
    "    print(d)\n",
    "    #print(seq, k, profile, threshold, d)\n",
    "    print(q1(seq, k, profile, threshold, d))"
   ]
  }
 ],
 "metadata": {
  "kernelspec": {
   "display_name": "Python 3 (ipykernel)",
   "language": "python",
   "name": "python3"
  },
  "language_info": {
   "codemirror_mode": {
    "name": "ipython",
    "version": 3
   },
   "file_extension": ".py",
   "mimetype": "text/x-python",
   "name": "python",
   "nbconvert_exporter": "python",
   "pygments_lexer": "ipython3",
   "version": "3.9.12"
  }
 },
 "nbformat": 4,
 "nbformat_minor": 5
}
