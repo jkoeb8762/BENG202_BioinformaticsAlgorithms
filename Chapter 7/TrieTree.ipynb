{
 "cells": [
  {
   "cell_type": "code",
   "execution_count": 3,
   "id": "8a96a5cf",
   "metadata": {},
   "outputs": [],
   "source": [
    "class Node:\n",
    "    def __init__(self, char):\n",
    "        self.char = char\n",
    "        self.end = False\n",
    "        self.children = {}\n",
    "class Trie:\n",
    "    def __init__(self):\n",
    "        self.root = Node('')\n",
    "    def insert(self, word):\n",
    "        node = self.root\n",
    "        for char in word: \n",
    "            if char in node.children:\n",
    "                node = node.children[char]\n",
    "            else:\n",
    "                new = Node(char)\n",
    "                node.children[char] = new\n",
    "                node = new\n",
    "        node.end = True\n"
   ]
  },
  {
   "cell_type": "code",
   "execution_count": 5,
   "id": "4f05fb3c",
   "metadata": {},
   "outputs": [
    {
     "data": {
      "text/plain": [
       "<__main__.Trie at 0x2457b4e3be0>"
      ]
     },
     "execution_count": 5,
     "metadata": {},
     "output_type": "execute_result"
    }
   ],
   "source": [
    "t = Trie()\n",
    "t.insert(\"ABC\")"
   ]
  }
 ],
 "metadata": {
  "kernelspec": {
   "display_name": "Python 3 (ipykernel)",
   "language": "python",
   "name": "python3"
  },
  "language_info": {
   "codemirror_mode": {
    "name": "ipython",
    "version": 3
   },
   "file_extension": ".py",
   "mimetype": "text/x-python",
   "name": "python",
   "nbconvert_exporter": "python",
   "pygments_lexer": "ipython3",
   "version": "3.9.12"
  }
 },
 "nbformat": 4,
 "nbformat_minor": 5
}
