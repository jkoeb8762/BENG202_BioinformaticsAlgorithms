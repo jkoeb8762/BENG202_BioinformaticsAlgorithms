{
 "cells": [
  {
   "cell_type": "code",
   "execution_count": 2,
   "id": "654d6064",
   "metadata": {},
   "outputs": [],
   "source": [
    "def printLCSSubStr(X: str, Y: str,\n",
    "                   m: int, n: int):\n",
    " \n",
    "    # Create a table to store lengths of\n",
    "    # longest common suffixes of substrings.\n",
    "    # Note that LCSuff[i][j] contains length\n",
    "    # of longest common suffix of X[0..i-1] and\n",
    "    # Y[0..j-1]. The first row and first\n",
    "    # column entries have no logical meaning,\n",
    "    # they are used only for simplicity of program\n",
    "    LCSuff = [[0 for i in range(n + 1)]\n",
    "                 for j in range(m + 1)]\n",
    " \n",
    "    # To store length of the\n",
    "    # longest common substring\n",
    "    length = 0\n",
    " \n",
    "    # To store the index of the cell\n",
    "    # which contains the maximum value.\n",
    "    # This cell's index helps in building\n",
    "    # up the longest common substring\n",
    "    # from right to left.\n",
    "    row, col = 0, 0\n",
    " \n",
    "    # Following steps build LCSuff[m+1][n+1]\n",
    "    # in bottom up fashion.\n",
    "    for i in range(m + 1):\n",
    "        for j in range(n + 1):\n",
    "            if i == 0 or j == 0:\n",
    "                LCSuff[i][j] = 0\n",
    "            elif X[i - 1] == Y[j - 1]:\n",
    "                LCSuff[i][j] = LCSuff[i - 1][j - 1] + 1\n",
    "                if length < LCSuff[i][j]:\n",
    "                    length = LCSuff[i][j]\n",
    "                    row = i\n",
    "                    col = j\n",
    "            else:\n",
    "                LCSuff[i][j] = 0\n",
    " \n",
    "    # if true, then no common substring exists\n",
    "    if length == 0:\n",
    "        print(\"No Common Substring\")\n",
    "        return\n",
    " \n",
    "    # allocate space for the longest\n",
    "    # common substring\n",
    "    resultStr = ['0'] * length\n",
    " \n",
    "    # traverse up diagonally form the\n",
    "    # (row, col) cell until LCSuff[row][col] != 0\n",
    "    while LCSuff[row][col] != 0:\n",
    "        length -= 1\n",
    "        resultStr[length] = X[row - 1] # or Y[col-1]\n",
    " \n",
    "        # move diagonally up to previous cell\n",
    "        row -= 1\n",
    "        col -= 1\n",
    " \n",
    "    # required longest common substring\n",
    "    print(''.join(resultStr))"
   ]
  },
  {
   "cell_type": "code",
   "execution_count": 3,
   "id": "1d83fe95",
   "metadata": {},
   "outputs": [],
   "source": [
    "X = 'TCGGTAGATTGCGCCCACTC'\n",
    "Y = 'AGGGGCTCGCAGTGTAAGAA'\n",
    "m = len(Y)\n",
    "n = len(Y)"
   ]
  },
  {
   "cell_type": "code",
   "execution_count": 4,
   "id": "738daa24",
   "metadata": {},
   "outputs": [
    {
     "name": "stdout",
     "output_type": "stream",
     "text": [
      "TCG\n"
     ]
    }
   ],
   "source": [
    "printLCSSubStr(X,Y,m,n)"
   ]
  },
  {
   "cell_type": "code",
   "execution_count": 9,
   "id": "e843b837",
   "metadata": {},
   "outputs": [
    {
     "name": "stdout",
     "output_type": "stream",
     "text": [
      "TGGCTCACT\n"
     ]
    }
   ],
   "source": [
    "with open(\"dataset_865764_6.txt\") as f:\n",
    "    X = f.readline()\n",
    "    Y = f.readline()\n",
    "    m = len(X)\n",
    "    n = len(Y)\n",
    "    printLCSSubStr(X,Y,m,n)"
   ]
  },
  {
   "cell_type": "code",
   "execution_count": null,
   "id": "72154aae",
   "metadata": {},
   "outputs": [],
   "source": []
  }
 ],
 "metadata": {
  "kernelspec": {
   "display_name": "Python 3 (ipykernel)",
   "language": "python",
   "name": "python3"
  },
  "language_info": {
   "codemirror_mode": {
    "name": "ipython",
    "version": 3
   },
   "file_extension": ".py",
   "mimetype": "text/x-python",
   "name": "python",
   "nbconvert_exporter": "python",
   "pygments_lexer": "ipython3",
   "version": "3.9.12"
  }
 },
 "nbformat": 4,
 "nbformat_minor": 5
}
