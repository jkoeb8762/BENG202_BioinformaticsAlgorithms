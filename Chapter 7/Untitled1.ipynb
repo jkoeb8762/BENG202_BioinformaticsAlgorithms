{
 "cells": [
  {
   "cell_type": "code",
   "execution_count": 5,
   "id": "9b9cd5c7",
   "metadata": {},
   "outputs": [],
   "source": [
    "def longestRepeatedSubstring(str):\n",
    " \n",
    "    n = len(str)\n",
    "    LCSRe = [[0 for x in range(n + 1)]\n",
    "                for y in range(n + 1)]\n",
    " \n",
    "    res = \"\" # To store result\n",
    "    res_length = 0 # To store length of result\n",
    " \n",
    "    # building table in bottom-up manner\n",
    "    index = 0\n",
    "    for i in range(1, n + 1):\n",
    "        for j in range(i + 1, n + 1):\n",
    "             \n",
    "            # (j-i) > LCSRe[i-1][j-1] to remove\n",
    "            # overlapping\n",
    "            if (str[i - 1] == str[j - 1] and\n",
    "                LCSRe[i - 1][j - 1] < (j - i)):\n",
    "                LCSRe[i][j] = LCSRe[i - 1][j - 1] + 1\n",
    " \n",
    "                # updating maximum length of the\n",
    "                # substring and updating the finishing\n",
    "                # index of the suffix\n",
    "                if (LCSRe[i][j] > res_length):\n",
    "                    res_length = LCSRe[i][j]\n",
    "                    index = max(i, index)\n",
    "                 \n",
    "            else:\n",
    "                LCSRe[i][j] = 0\n",
    " \n",
    "    # If we have non-empty result, then insert\n",
    "    # all characters from first character to\n",
    "    # last character of string\n",
    "    if (res_length > 0):\n",
    "        for i in range(index - res_length + 1,\n",
    "                                    index + 1):\n",
    "            res = res + str[i - 1]\n",
    " \n",
    "    return res"
   ]
  },
  {
   "cell_type": "code",
   "execution_count": 11,
   "id": "9e458206",
   "metadata": {},
   "outputs": [
    {
     "name": "stdout",
     "output_type": "stream",
     "text": [
      "GGCGACATCAGTCTTGTTTGTCACGGTTGAGAACGAACAGCATTCTTTGGCGACCTTGATCAAGGGAAAA\n"
     ]
    }
   ],
   "source": [
    "#with open(\"LongestRepeat/inputs/input_6.txt\") as f:\n",
    "with open(\"dataset_865764_5.txt\") as f:\n",
    "    working = f.readline()\n",
    "    print(longestRepeatedSubstring(working))"
   ]
  },
  {
   "cell_type": "code",
   "execution_count": null,
   "id": "617956bc",
   "metadata": {},
   "outputs": [],
   "source": []
  }
 ],
 "metadata": {
  "kernelspec": {
   "display_name": "Python 3 (ipykernel)",
   "language": "python",
   "name": "python3"
  },
  "language_info": {
   "codemirror_mode": {
    "name": "ipython",
    "version": 3
   },
   "file_extension": ".py",
   "mimetype": "text/x-python",
   "name": "python",
   "nbconvert_exporter": "python",
   "pygments_lexer": "ipython3",
   "version": "3.9.12"
  }
 },
 "nbformat": 4,
 "nbformat_minor": 5
}
