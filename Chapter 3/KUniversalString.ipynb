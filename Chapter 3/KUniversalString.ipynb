{
 "cells": [
  {
   "cell_type": "code",
   "execution_count": 23,
   "id": "73ebbb06",
   "metadata": {},
   "outputs": [],
   "source": [
    "import itertools\n",
    "def KUniversalString(k):\n",
    "    graph = DeBruijnKmers(BinaryStrings(k))\n",
    "    intitial = list(graph)[0]\n",
    "    cycle = EulerianCycle(graph, intitial)\n",
    "    cycle = cycle[:-(k-1)]\n",
    "    genome = cycle[0][:-1]\n",
    "    for i in cycle:\n",
    "        genome += i[-1]\n",
    "    return genome\n",
    "\n",
    "def EulerianCycle(graph, node):\n",
    "    cycle = [node]\n",
    "    while graph[node]:\n",
    "        working = EulerianCycle(graph, graph[node].pop())\n",
    "        cycle = cycle[:1] + working + cycle[1:]\n",
    "    return cycle\n",
    "\n",
    "def BinaryStrings(k):\n",
    "    universe = [\"0\", \"1\"]\n",
    "    kmers = [\"\".join(el) for el in itertools.product(universe, repeat=k)]\n",
    "    return sorted(kmers)\n",
    "\n",
    "def DeBruijnKmers(kmers):\n",
    "    graphMap = {}\n",
    "    for kmer in kmers:\n",
    "        suffix = kmer[1:]\n",
    "        prefix = kmer[:-1]\n",
    "        if prefix not in graphMap:\n",
    "            graphMap[prefix] = [suffix]\n",
    "        else:\n",
    "            graphMap[prefix].append(suffix)\n",
    "    return graphMap"
   ]
  }
 ],
 "metadata": {
  "kernelspec": {
   "display_name": "Python 3 (ipykernel)",
   "language": "python",
   "name": "python3"
  },
  "language_info": {
   "codemirror_mode": {
    "name": "ipython",
    "version": 3
   },
   "file_extension": ".py",
   "mimetype": "text/x-python",
   "name": "python",
   "nbconvert_exporter": "python",
   "pygments_lexer": "ipython3",
   "version": "3.9.12"
  }
 },
 "nbformat": 4,
 "nbformat_minor": 5
}
