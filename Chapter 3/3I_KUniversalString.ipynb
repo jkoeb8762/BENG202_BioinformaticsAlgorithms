{
 "cells": [
  {
   "cell_type": "code",
   "execution_count": 11,
   "id": "73ebbb06",
   "metadata": {},
   "outputs": [],
   "source": [
    "import itertools\n",
    "def KUniversalString(k):\n",
    "    graph = DeBruijnKmers(BinaryStrings(k))\n",
    "    intitial = list(graph)[0]\n",
    "    cycle = EulerianCycle(graph, intitial)\n",
    "    cycle = cycle[:-(k-1)]\n",
    "    genome = cycle[0][:-1]\n",
    "    for i in cycle:\n",
    "        genome += i[-1]\n",
    "    return genome\n",
    "\n",
    "def EulerianCycle(graph, node):\n",
    "    cycle = [node]\n",
    "    while graph[node]:\n",
    "        working = EulerianCycle(graph, graph[node].pop())\n",
    "        cycle = cycle[:1] + working + cycle[1:]\n",
    "    return cycle\n",
    "\n",
    "def BinaryStrings(k):\n",
    "    universe = [\"0\", \"1\"]\n",
    "    kmers = [\"\".join(el) for el in itertools.product(universe, repeat=k)]\n",
    "    return sorted(kmers)\n",
    "\n",
    "def DeBruijnKmers(kmers):\n",
    "    graphMap = {}\n",
    "    for kmer in kmers:\n",
    "        suffix = kmer[1:]\n",
    "        prefix = kmer[:-1]\n",
    "        if prefix not in graphMap:\n",
    "            graphMap[prefix] = [suffix]\n",
    "        else:\n",
    "            graphMap[prefix].append(suffix)\n",
    "    return graphMap"
   ]
  },
  {
   "cell_type": "code",
   "execution_count": 13,
   "id": "2709e03f",
   "metadata": {},
   "outputs": [
    {
     "data": {
      "text/plain": [
       "'00000000111111111011111110011111101011111100011111011011111010011111001011111000011110111011110110011110101011110100011110011011110010011110001011110000011101110011101101011101100011101011011101010011101001011101000011100110011100101011100100011100011011100010011100001011100000011011011010011011001011011000011010110011010101011010100011010010011010001011010000011001100011001010011001001011001000011000101011000100011000010011000001011000000010101010010101000010100100010100010010100000010010010000010001000010'"
      ]
     },
     "execution_count": 13,
     "metadata": {},
     "output_type": "execute_result"
    }
   ],
   "source": [
    "KUniversalString(9)"
   ]
  }
 ],
 "metadata": {
  "kernelspec": {
   "display_name": "Python 3 (ipykernel)",
   "language": "python",
   "name": "python3"
  },
  "language_info": {
   "codemirror_mode": {
    "name": "ipython",
    "version": 3
   },
   "file_extension": ".py",
   "mimetype": "text/x-python",
   "name": "python",
   "nbconvert_exporter": "python",
   "pygments_lexer": "ipython3",
   "version": "3.9.13"
  }
 },
 "nbformat": 4,
 "nbformat_minor": 5
}
