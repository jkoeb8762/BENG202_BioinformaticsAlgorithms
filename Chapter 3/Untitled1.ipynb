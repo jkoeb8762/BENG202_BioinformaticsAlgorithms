{
 "cells": [
  {
   "cell_type": "code",
   "execution_count": 17,
   "id": "2489f0f8",
   "metadata": {},
   "outputs": [],
   "source": [
    "from random import choice\n",
    "from collections import defaultdict\n",
    "\n",
    "def ConstructGraphFromFile(file):\n",
    "    with open(file) as f:\n",
    "        graph = {}\n",
    "        for line in f:\n",
    "            edge = line.strip().split(': ')\n",
    "            graph[edge[0]] = edge[1].split(' ')\n",
    "    return graph\n",
    "\n",
    "def ConstructGraph(file):\n",
    "    graph = {}\n",
    "    edge = file.strip().split(': ')\n",
    "    graph[edge[0]] = edge[1].split(' ')\n",
    "    return graph\n",
    "\n",
    "def EulerianCycle(graph, node):\n",
    "    cycle = [node]\n",
    "    while graph[node]:\n",
    "        working = EulerianCycle(graph, graph[node].pop())\n",
    "        cycle = cycle[:1] + working + cycle[1:]\n",
    "    return cycle\n",
    "\n",
    "#Todo: Implement recursive method. \n",
    "def EulerianPath(graph):\n",
    "    diff = {}\n",
    "    for key, values in graph.items():\n",
    "        if key not in diff:\n",
    "            diff[key] = len(values)\n",
    "        else:\n",
    "            diff[key] += len(values)\n",
    "        for value in values:\n",
    "            if value not in diff:\n",
    "                diff[value] = -1\n",
    "            else:\n",
    "                diff[value] -= 1\n",
    "    keys = [node for node, dif in diff.items() if dif == -1][0]\n",
    "    values = [node for node, dif in diff.items() if dif == 1][0]\n",
    "    if keys in graph:\n",
    "        graph[keys].append(values)\n",
    "    else:\n",
    "        graph[keys] = [values]\n",
    "    \n",
    "    initial = list(graph)[0]\n",
    "    cycle = EulerianCycle(graph,initial )\n",
    "    index = 0\n",
    "    while (True):\n",
    "        if cycle[index] == keys and cycle[index + 1] == values:\n",
    "            break\n",
    "        index += 1\n",
    "    return cycle[index + 1:] + cycle[1:index + 1]"
   ]
  },
  {
   "cell_type": "code",
   "execution_count": 2,
   "id": "8f401769",
   "metadata": {},
   "outputs": [],
   "source": [
    "def DeBruijnGraphPairedReads(reads):\n",
    "    graph = defaultdict(list)\n",
    "    for read in reads:\n",
    "        graph[(read[0][:-1], read[1][:-1])].append((read[0][1:], read[1][1:]))\n",
    "    return graph"
   ]
  },
  {
   "cell_type": "code",
   "execution_count": 3,
   "id": "43141b5c",
   "metadata": {},
   "outputs": [],
   "source": [
    "def PathToGenome(reads):\n",
    "    path = reads[0]\n",
    "    for read in reads[1:]:\n",
    "        n = len(read)\n",
    "        path += read[n-1:]\n",
    "    return path"
   ]
  },
  {
   "cell_type": "code",
   "execution_count": 16,
   "id": "487db0d7",
   "metadata": {},
   "outputs": [],
   "source": [
    "from collections import defaultdict\n",
    "def string_spelled_by_g_p(gappedPatterns, k, d):\n",
    "    firstPatterns = []\n",
    "    secondPatterns = []\n",
    "    for kDmers in gappedPatterns:\n",
    "        firstPatterns.append(kDmers[0])\n",
    "        secondPatterns.append(kDmers[1])\n",
    "    DeBruijn = DeBruijnGraphPairedReads(gappedPatterns)\n",
    "\n",
    "    path = EulerianPath(DeBruijn)\n",
    "\n",
    "    fPatterns = []\n",
    "    sPatterns = []\n",
    "    for step in path:\n",
    "        fPatterns.append(step.split('|')[0])\n",
    "        sPatterns.append(step.split('|')[1])\n",
    "\n",
    "    prefixString = PathToGenome(fPatterns)\n",
    "    suffixString = PathToGenome(sPatterns)\n",
    "\n",
    "    prefixEnder = k + d + 1\n",
    "    for i in range(prefixEnder, len(prefixString) + 1):\n",
    "        suffixOverlap = i - k - d\n",
    "        if prefixString[i] != suffixString[suffixOverlap]:\n",
    "            return 'There is no string spelled by the gapped patterns'\n",
    "        return prefixString + suffixString[-(prefixEnder - 1):]"
   ]
  },
  {
   "cell_type": "code",
   "execution_count": 5,
   "id": "74e5b52a",
   "metadata": {},
   "outputs": [],
   "source": [
    "def string_reconstruction_read_pairs(k, d, paired_reads):\n",
    "    adj_list = DeBruijnGraphPairedReads(paired_reads)\n",
    "    path = EulerianPath(adj_list)\n",
    "    return string_spelled_by_g_p(path, k - 1, d)\n"
   ]
  },
  {
   "cell_type": "code",
   "execution_count": 20,
   "id": "81ee5bf1",
   "metadata": {},
   "outputs": [
    {
     "name": "stdout",
     "output_type": "stream",
     "text": [
      "4 2\n"
     ]
    },
    {
     "ename": "IndexError",
     "evalue": "list index out of range",
     "output_type": "error",
     "traceback": [
      "\u001b[1;31m---------------------------------------------------------------------------\u001b[0m",
      "\u001b[1;31mIndexError\u001b[0m                                Traceback (most recent call last)",
      "Input \u001b[1;32mIn [20]\u001b[0m, in \u001b[0;36m<cell line: 2>\u001b[1;34m()\u001b[0m\n\u001b[0;32m      5\u001b[0m \u001b[38;5;28mprint\u001b[39m(k,d)\n\u001b[0;32m      6\u001b[0m w1 \u001b[38;5;241m=\u001b[39m f\u001b[38;5;241m.\u001b[39mreadline()\u001b[38;5;241m.\u001b[39msplit(\u001b[38;5;124m'\u001b[39m\u001b[38;5;124m: \u001b[39m\u001b[38;5;124m'\u001b[39m)    \n\u001b[1;32m----> 7\u001b[0m ans \u001b[38;5;241m=\u001b[39m \u001b[43mstring_reconstruction_read_pairs\u001b[49m\u001b[43m(\u001b[49m\u001b[43mk\u001b[49m\u001b[43m,\u001b[49m\u001b[43m \u001b[49m\u001b[43md\u001b[49m\u001b[43m,\u001b[49m\u001b[43m \u001b[49m\u001b[43mw1\u001b[49m\u001b[43m)\u001b[49m\n\u001b[0;32m      8\u001b[0m \u001b[38;5;28mprint\u001b[39m(ans)\n",
      "Input \u001b[1;32mIn [5]\u001b[0m, in \u001b[0;36mstring_reconstruction_read_pairs\u001b[1;34m(k, d, paired_reads)\u001b[0m\n\u001b[0;32m      1\u001b[0m \u001b[38;5;28;01mdef\u001b[39;00m \u001b[38;5;21mstring_reconstruction_read_pairs\u001b[39m(k, d, paired_reads):\n\u001b[0;32m      2\u001b[0m     adj_list \u001b[38;5;241m=\u001b[39m DeBruijnGraphPairedReads(paired_reads)\n\u001b[1;32m----> 3\u001b[0m     path \u001b[38;5;241m=\u001b[39m \u001b[43mEulerianPath\u001b[49m\u001b[43m(\u001b[49m\u001b[43madj_list\u001b[49m\u001b[43m)\u001b[49m\n\u001b[0;32m      4\u001b[0m     \u001b[38;5;28;01mreturn\u001b[39;00m string_spelled_by_g_p(path, k \u001b[38;5;241m-\u001b[39m \u001b[38;5;241m1\u001b[39m, d)\n",
      "Input \u001b[1;32mIn [17]\u001b[0m, in \u001b[0;36mEulerianPath\u001b[1;34m(graph)\u001b[0m\n\u001b[0;32m     36\u001b[0m         \u001b[38;5;28;01melse\u001b[39;00m:\n\u001b[0;32m     37\u001b[0m             diff[value] \u001b[38;5;241m-\u001b[39m\u001b[38;5;241m=\u001b[39m \u001b[38;5;241m1\u001b[39m\n\u001b[1;32m---> 38\u001b[0m keys \u001b[38;5;241m=\u001b[39m \u001b[43m[\u001b[49m\u001b[43mnode\u001b[49m\u001b[43m \u001b[49m\u001b[38;5;28;43;01mfor\u001b[39;49;00m\u001b[43m \u001b[49m\u001b[43mnode\u001b[49m\u001b[43m,\u001b[49m\u001b[43m \u001b[49m\u001b[43mdif\u001b[49m\u001b[43m \u001b[49m\u001b[38;5;129;43;01min\u001b[39;49;00m\u001b[43m \u001b[49m\u001b[43mdiff\u001b[49m\u001b[38;5;241;43m.\u001b[39;49m\u001b[43mitems\u001b[49m\u001b[43m(\u001b[49m\u001b[43m)\u001b[49m\u001b[43m \u001b[49m\u001b[38;5;28;43;01mif\u001b[39;49;00m\u001b[43m \u001b[49m\u001b[43mdif\u001b[49m\u001b[43m \u001b[49m\u001b[38;5;241;43m==\u001b[39;49m\u001b[43m \u001b[49m\u001b[38;5;241;43m-\u001b[39;49m\u001b[38;5;241;43m1\u001b[39;49m\u001b[43m]\u001b[49m\u001b[43m[\u001b[49m\u001b[38;5;241;43m0\u001b[39;49m\u001b[43m]\u001b[49m\n\u001b[0;32m     39\u001b[0m values \u001b[38;5;241m=\u001b[39m [node \u001b[38;5;28;01mfor\u001b[39;00m node, dif \u001b[38;5;129;01min\u001b[39;00m diff\u001b[38;5;241m.\u001b[39mitems() \u001b[38;5;28;01mif\u001b[39;00m dif \u001b[38;5;241m==\u001b[39m \u001b[38;5;241m1\u001b[39m][\u001b[38;5;241m0\u001b[39m]\n\u001b[0;32m     40\u001b[0m \u001b[38;5;28;01mif\u001b[39;00m keys \u001b[38;5;129;01min\u001b[39;00m graph:\n",
      "\u001b[1;31mIndexError\u001b[0m: list index out of range"
     ]
    }
   ],
   "source": [
    "import io\n",
    "with io.open(\"StringReconstructionReadPairs\\inputs\\input_1.txt\", mode=\"r\", encoding=\"utf-8\") as f:\n",
    "    working = f.readline()\n",
    "    k, d = [int(x) for x in working.split()]\n",
    "    print(k,d)\n",
    "    w1 = f.readline().split(': ')    \n",
    "    ans = string_reconstruction_read_pairs(k, d, w1)\n",
    "    print(ans)"
   ]
  },
  {
   "cell_type": "code",
   "execution_count": null,
   "id": "24f0af8a",
   "metadata": {},
   "outputs": [],
   "source": []
  }
 ],
 "metadata": {
  "kernelspec": {
   "display_name": "Python 3 (ipykernel)",
   "language": "python",
   "name": "python3"
  },
  "language_info": {
   "codemirror_mode": {
    "name": "ipython",
    "version": 3
   },
   "file_extension": ".py",
   "mimetype": "text/x-python",
   "name": "python",
   "nbconvert_exporter": "python",
   "pygments_lexer": "ipython3",
   "version": "3.9.12"
  }
 },
 "nbformat": 4,
 "nbformat_minor": 5
}
