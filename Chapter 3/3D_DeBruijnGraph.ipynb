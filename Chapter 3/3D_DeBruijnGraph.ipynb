{
 "cells": [
  {
   "cell_type": "code",
   "execution_count": 4,
   "id": "2b4ef75e",
   "metadata": {},
   "outputs": [],
   "source": [
    "#Construct the De Bruijn Graph of a String\n",
    "def DeBruijnGraph(k, text):\n",
    "    graphMap = {}\n",
    "    for i in range(len(text) - k + 1):\n",
    "        kmer = text[i:i+k]\n",
    "        prefix = kmer[:-1]\n",
    "        suffix = kmer[1:]\n",
    "\n",
    "        if prefix not in graphMap:\n",
    "            graphMap[prefix] = [suffix]\n",
    "        else:\n",
    "            graphMap[prefix].append(suffix)\n",
    "\n",
    "    return graphMap"
   ]
  },
  {
   "cell_type": "code",
   "execution_count": 12,
   "id": "d1a01f5d",
   "metadata": {
    "scrolled": true
   },
   "outputs": [
    {
     "name": "stdout",
     "output_type": "stream",
     "text": [
      "AAG: AGA AGA\n",
      "AGA: GAT\n",
      "GAT: ATT\n",
      "ATT: TTC\n",
      "TTC: TCT\n",
      "TCT: CTC CTA\n",
      "CTC: TCT\n",
      "CTA: TAA\n",
      "TAA: AAG\n"
     ]
    }
   ],
   "source": [
    "k = 4\n",
    "text = \"AAGATTCTCTAAGA\"\n",
    "result = DeBruijnGraph(k, text)\n",
    "for key, values in result.items():\n",
    "    print(key + \": \" + \" \".join(values))"
   ]
  },
  {
   "cell_type": "code",
   "execution_count": 14,
   "id": "6e17ae33",
   "metadata": {},
   "outputs": [],
   "source": [
    "with open('DeBruijn_Output.txt', 'w') as f:\n",
    "    for key, values in result.items():\n",
    "        f.write(key + \": \" + \" \".join(values)+ \"\\n\")"
   ]
  }
 ],
 "metadata": {
  "kernelspec": {
   "display_name": "Python 3 (ipykernel)",
   "language": "python",
   "name": "python3"
  },
  "language_info": {
   "codemirror_mode": {
    "name": "ipython",
    "version": 3
   },
   "file_extension": ".py",
   "mimetype": "text/x-python",
   "name": "python",
   "nbconvert_exporter": "python",
   "pygments_lexer": "ipython3",
   "version": "3.9.13"
  }
 },
 "nbformat": 4,
 "nbformat_minor": 5
}
