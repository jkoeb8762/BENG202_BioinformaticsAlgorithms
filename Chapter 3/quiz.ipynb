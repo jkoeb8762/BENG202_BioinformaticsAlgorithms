{
 "cells": [
  {
   "cell_type": "code",
   "execution_count": 236,
   "id": "a7e6fe76",
   "metadata": {},
   "outputs": [],
   "source": [
    "from collections import defaultdict\n",
    "\n",
    "def DeBruijnKmers(kmers):\n",
    "    graphMap = defaultdict(list)\n",
    "    for kmer in kmers:\n",
    "        suffix = kmer[1:]\n",
    "        prefix = kmer[:-1]\n",
    "        if prefix not in graphMap:\n",
    "            graphMap[prefix] = [suffix]\n",
    "        else:\n",
    "            graphMap[prefix].append(suffix)\n",
    "    return graphMap\n",
    "\n",
    "\n",
    "def EulerianCycle(graph, node):\n",
    "    cycle = [node]\n",
    "    try:\n",
    "        while graph[node]:\n",
    "            working = EulerianCycle(graph, graph[node].pop())\n",
    "            cycle = cycle[:1] + working + cycle[1:]\n",
    "    except:\n",
    "        graph[node] = [node]\n",
    "                \n",
    "    return cycle"
   ]
  },
  {
   "cell_type": "code",
   "execution_count": 115,
   "id": "ed0a0d3d",
   "metadata": {},
   "outputs": [],
   "source": [
    "import io\n",
    "with io.open(\"quiz\\input_1.txt\", mode=\"r\", encoding=\"utf-8\") as f:\n",
    "    k = f.readline()\n",
    "    working = f.readline().split()"
   ]
  },
  {
   "cell_type": "code",
   "execution_count": 240,
   "id": "53013798",
   "metadata": {},
   "outputs": [
    {
     "data": {
      "text/plain": [
       "['CA', 'AG', 'GG']"
      ]
     },
     "execution_count": 240,
     "metadata": {},
     "output_type": "execute_result"
    }
   ],
   "source": [
    "db = DeBruijnKmers(working)\n",
    "initial_node = list(db.keys())[4]\n",
    "cycle = EulerianCycle(db, initial_node)\n",
    "cycle"
   ]
  },
  {
   "cell_type": "code",
   "execution_count": 243,
   "id": "b84a5350",
   "metadata": {},
   "outputs": [
    {
     "name": "stdout",
     "output_type": "stream",
     "text": [
      "['AA', 'AT', 'TG', 'GC', 'CC', 'CC', 'CT', 'TG', 'GA', 'AA']\n",
      "['AC', 'CG', 'GT', 'TT']\n",
      "['AG', 'GG']\n",
      "['AT']\n",
      "['CA', 'AG']\n",
      "['CC']\n",
      "['CG']\n",
      "['CT']\n",
      "['GA']\n",
      "['GC']\n",
      "['GT']\n",
      "['TG']\n",
      "['TT']\n",
      "['GG']\n"
     ]
    }
   ],
   "source": [
    "db = DeBruijnKmers(working)\n",
    "#inDegree = InDegrees(db) \n",
    "i = 0\n",
    "#initial = FindInitialNode(db, inDegree)\n",
    "while i < len(db):\n",
    "    initial_node = list(db.keys())[i]\n",
    "    print(EulerianCycle(db, initial_node))\n",
    "    i += 1"
   ]
  },
  {
   "cell_type": "code",
   "execution_count": 242,
   "id": "1bdbbc33",
   "metadata": {},
   "outputs": [
    {
     "data": {
      "text/plain": [
       "13"
      ]
     },
     "execution_count": 242,
     "metadata": {},
     "output_type": "execute_result"
    }
   ],
   "source": [
    "len(db)"
   ]
  },
  {
   "cell_type": "code",
   "execution_count": null,
   "id": "6e797ccc",
   "metadata": {},
   "outputs": [],
   "source": []
  }
 ],
 "metadata": {
  "kernelspec": {
   "display_name": "Python 3 (ipykernel)",
   "language": "python",
   "name": "python3"
  },
  "language_info": {
   "codemirror_mode": {
    "name": "ipython",
    "version": 3
   },
   "file_extension": ".py",
   "mimetype": "text/x-python",
   "name": "python",
   "nbconvert_exporter": "python",
   "pygments_lexer": "ipython3",
   "version": "3.9.12"
  }
 },
 "nbformat": 4,
 "nbformat_minor": 5
}
