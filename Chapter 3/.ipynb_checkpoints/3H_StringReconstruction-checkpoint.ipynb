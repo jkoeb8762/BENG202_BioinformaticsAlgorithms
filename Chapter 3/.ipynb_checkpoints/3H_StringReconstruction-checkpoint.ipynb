{
 "cells": [
  {
   "cell_type": "code",
   "execution_count": 1,
   "id": "50d50df3",
   "metadata": {},
   "outputs": [],
   "source": [
    "def DeBruijnKmers(kmers):\n",
    "    graphMap = {}\n",
    "    for kmer in kmers:\n",
    "        suffix = kmer[1:]\n",
    "        prefix = kmer[:-1]\n",
    "        if prefix not in graphMap:\n",
    "            graphMap[prefix] = [suffix]\n",
    "        else:\n",
    "            graphMap[prefix].append(suffix)\n",
    "    return graphMap\n",
    "\n",
    "from random import choice\n",
    "def ConstructGraph(file):\n",
    "    with open(file) as f:\n",
    "        graph = {}\n",
    "        for line in f:\n",
    "            edge = line.strip().split(': ')\n",
    "            graph[edge[0]] = edge[1].split(' ')\n",
    "    return graph\n",
    "\n",
    "def EulerianCycle(graph, node):\n",
    "    cycle = [node]\n",
    "    while graph[node]:\n",
    "        working = EulerianCycle(graph, graph[node].pop())\n",
    "        cycle = cycle[:1] + working + cycle[1:]\n",
    "    return cycle\n",
    "\n",
    "#Todo: Implement recursive method. \n",
    "def EulerianPath(graph):\n",
    "    diff = {}\n",
    "    for key, values in graph.items():\n",
    "        if key not in diff:\n",
    "            diff[key] = len(values)\n",
    "        else:\n",
    "            diff[key] += len(values)\n",
    "        for value in values:\n",
    "            if value not in diff:\n",
    "                diff[value] = -1\n",
    "            else:\n",
    "                diff[value] -= 1\n",
    "    keys = [node for node, dif in diff.items() if dif == -1][0]\n",
    "    values = [node for node, dif in diff.items() if dif == 1][0]\n",
    "    if keys in graph:\n",
    "        graph[keys].append(values)\n",
    "    else:\n",
    "        graph[keys] = [values]\n",
    "    \n",
    "    initial = list(graph)[0]\n",
    "    cycle = EulerianCycle(graph,initial )\n",
    "    index = 0\n",
    "    while (True):\n",
    "        if cycle[index] == keys and cycle[index + 1] == values:\n",
    "            break\n",
    "        index += 1\n",
    "    return cycle[index + 1:] + cycle[1:index + 1]\n",
    "\n",
    "def PathToGenome(path):\n",
    "    genome = path[0]\n",
    "    for i in range(1, len(path)):\n",
    "        genome += path[i][-1]\n",
    "    return genome"
   ]
  },
  {
   "cell_type": "code",
   "execution_count": 2,
   "id": "ade72017",
   "metadata": {},
   "outputs": [],
   "source": [
    "def StringReconstruction(k, Patterns):\n",
    "    # Construct the de Bruijn graph from k-mers\n",
    "    dB = DeBruijnKmers(Patterns)\n",
    "    \n",
    "    # Find the Eulerian path in the graph\n",
    "    path = EulerianPath(dB)\n",
    "    \n",
    "    # Convert the path to the genome string\n",
    "    Text = PathToGenome(path)\n",
    "    \n",
    "    return Text"
   ]
  },
  {
   "cell_type": "code",
   "execution_count": 3,
   "id": "9de37b1e",
   "metadata": {},
   "outputs": [
    {
     "name": "stdout",
     "output_type": "stream",
     "text": [
      "GGCTTACCA\n"
     ]
    }
   ],
   "source": [
    "k = 4\n",
    "Patterns = [\"CTTA\", \"ACCA\", \"TACC\", \"GGCT\", \"GCTT\", \"TTAC\"]\n",
    "result = StringReconstruction(k, Patterns)\n",
    "print(result)"
   ]
  }
 ],
 "metadata": {
  "kernelspec": {
   "display_name": "Python 3 (ipykernel)",
   "language": "python",
   "name": "python3"
  },
  "language_info": {
   "codemirror_mode": {
    "name": "ipython",
    "version": 3
   },
   "file_extension": ".py",
   "mimetype": "text/x-python",
   "name": "python",
   "nbconvert_exporter": "python",
   "pygments_lexer": "ipython3",
   "version": "3.9.13"
  }
 },
 "nbformat": 4,
 "nbformat_minor": 5
}
