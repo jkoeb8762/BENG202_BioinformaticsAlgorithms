{
 "cells": [
  {
   "cell_type": "code",
   "execution_count": 1,
   "id": "7629dbdc",
   "metadata": {},
   "outputs": [],
   "source": [
    "def IsOverlap(string1, string2):\n",
    "    return string1[1:] == string2[:-1]"
   ]
  },
  {
   "cell_type": "code",
   "execution_count": 2,
   "id": "ad6d2188",
   "metadata": {},
   "outputs": [],
   "source": [
    "def OverlapGraph(patterns):\n",
    "    graph = {}\n",
    "    for p1 in patterns:\n",
    "        overlap_patterns = []\n",
    "        for p2 in patterns:\n",
    "            if p1 != p2 and IsOverlap(p1, p2):\n",
    "                overlap_patterns.append(p2)\n",
    "        if overlap_patterns:\n",
    "            graph[p1] = overlap_patterns\n",
    "    return graph"
   ]
  },
  {
   "cell_type": "code",
   "execution_count": 3,
   "id": "79cb498e",
   "metadata": {},
   "outputs": [],
   "source": [
    "def FormatOutput (graph):\n",
    "    return [f\"{key}: {' '.join(val)}\" for key, val in graph.items()]"
   ]
  },
  {
   "cell_type": "code",
   "execution_count": 4,
   "id": "e0e89bc7",
   "metadata": {},
   "outputs": [],
   "source": [
    "import io\n",
    "with io.open(\"OverlapGraph_Input.txt\", mode=\"r\", encoding=\"utf-8\") as f:\n",
    "    for line in f:\n",
    "        working = line.split()\n",
    "result = OverlapGraph(working)\n",
    "lines = FormatOutput(result)\n",
    "\n",
    "with open(\"OverlapGraph_Output.txt\", \"w\") as f:\n",
    "    for line in lines:\n",
    "        f.write(\"%s\\n\" % line)"
   ]
  }
 ],
 "metadata": {
  "kernelspec": {
   "display_name": "Python 3 (ipykernel)",
   "language": "python",
   "name": "python3"
  },
  "language_info": {
   "codemirror_mode": {
    "name": "ipython",
    "version": 3
   },
   "file_extension": ".py",
   "mimetype": "text/x-python",
   "name": "python",
   "nbconvert_exporter": "python",
   "pygments_lexer": "ipython3",
   "version": "3.9.13"
  }
 },
 "nbformat": 4,
 "nbformat_minor": 5
}
