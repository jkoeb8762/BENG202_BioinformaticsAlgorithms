{
 "cells": [
  {
   "cell_type": "code",
   "execution_count": 15,
   "id": "c8bcb909",
   "metadata": {},
   "outputs": [],
   "source": [
    "def DeBruijnPairedKmers(paired_kmers):\n",
    "    graphMap = {}\n",
    "    for (a, b) in paired_kmers:\n",
    "        prefix = (a[:-1], b[:-1])\n",
    "        suffix = (a[1:], b[1:])\n",
    "        if prefix not in graphMap:\n",
    "            graphMap[prefix] = [suffix]\n",
    "        else:\n",
    "            graphMap[prefix].append(suffix)\n",
    "    return graphMap\n",
    "\n",
    "def EulerianCycle(graph, node):\n",
    "    cycle = [node]\n",
    "    while graph[node]:\n",
    "        working = EulerianCycle(graph, graph[node].pop())\n",
    "        cycle = cycle[:1] + working + cycle[1:]\n",
    "    return cycle\n",
    "\n",
    "#Todo: Implement recursive method. \n",
    "def EulerianPath(graph):\n",
    "    diff = {}\n",
    "    for key, values in graph.items():\n",
    "        if key not in diff:\n",
    "            diff[key] = len(values)\n",
    "        else:\n",
    "            diff[key] += len(values)\n",
    "        for value in values:\n",
    "            if value not in diff:\n",
    "                diff[value] = -1\n",
    "            else:\n",
    "                diff[value] -= 1\n",
    "    keys = [node for node, dif in diff.items() if dif == -1][0]\n",
    "    values = [node for node, dif in diff.items() if dif == 1][0]\n",
    "    if keys in graph:\n",
    "        graph[keys].append(values)\n",
    "    else:\n",
    "        graph[keys] = [values]\n",
    "    \n",
    "    initial = list(graph)[0]\n",
    "    cycle = EulerianCycle(graph,initial )\n",
    "    index = 0\n",
    "    while (True):\n",
    "        if cycle[index] == keys and cycle[index + 1] == values:\n",
    "            break\n",
    "        index += 1\n",
    "    return cycle[index + 1:] + cycle[1:index + 1]\n",
    "\n",
    "def StringReconstructionFromPairedReads(k, d, paired_reads):\n",
    "    # Construct the de Bruijn graph from paired k-mers\n",
    "    dB = DeBruijnPairedKmers(paired_reads)\n",
    "    \n",
    "    # Find the Eulerian path in the graph\n",
    "    path = EulerianPath(dB)\n",
    "    \n",
    "    # Convert the path to the genome string using a paired path to genome conversion\n",
    "    Text = PairedPathToGenome(k, d, path)\n",
    "    \n",
    "    return Text\n",
    "\n",
    "def PairedPathToGenome(k, d, path):\n",
    "    first_strings, second_strings = zip(*path)\n",
    "\n",
    "    # Prefix is formed by directly concatenating the first strings.\n",
    "    prefix_text = first_strings[0] + ''.join([s[-1] for s in first_strings[1:]])\n",
    "\n",
    "    # Suffix is formed by directly concatenating the second strings. \n",
    "    # This is the same logic as the prefix because the k-mers already represent the overlap.\n",
    "    suffix_text = second_strings[0] + ''.join([s[-1] for s in second_strings[1:]])\n",
    "    \n",
    "    # We need to merge the prefix and the suffix.\n",
    "    # We need to skip the first k+d characters from the suffix as they're already covered in the prefix.\n",
    "    merged_text = prefix_text + suffix_text[k+d:]\n",
    "\n",
    "    return merged_text\n"
   ]
  },
  {
   "cell_type": "code",
   "execution_count": 16,
   "id": "864c72b9",
   "metadata": {},
   "outputs": [
    {
     "name": "stdout",
     "output_type": "stream",
     "text": [
      "GTGGTCGTGAGATGTTGA\n"
     ]
    }
   ],
   "source": [
    "# Example usage\n",
    "k, d = 4, 2\n",
    "paired_reads = [(\"GAGA\", \"TTGA\"),\n",
    "                (\"TCGT\", \"GATG\"),\n",
    "                (\"CGTG\", \"ATGT\"),\n",
    "                (\"TGGT\", \"TGAG\"),\n",
    "                (\"GTGA\", \"TGTT\"),\n",
    "                (\"GTGG\", \"GTGA\"),\n",
    "                (\"TGAG\", \"GTTG\"),\n",
    "                (\"GGTC\", \"GAGA\"),\n",
    "                (\"GTCG\", \"AGAT\")]\n",
    "\n",
    "print(StringReconstructionFromPairedReads(k, d, paired_reads))"
   ]
  }
 ],
 "metadata": {
  "kernelspec": {
   "display_name": "Python 3 (ipykernel)",
   "language": "python",
   "name": "python3"
  },
  "language_info": {
   "codemirror_mode": {
    "name": "ipython",
    "version": 3
   },
   "file_extension": ".py",
   "mimetype": "text/x-python",
   "name": "python",
   "nbconvert_exporter": "python",
   "pygments_lexer": "ipython3",
   "version": "3.9.13"
  }
 },
 "nbformat": 4,
 "nbformat_minor": 5
}
