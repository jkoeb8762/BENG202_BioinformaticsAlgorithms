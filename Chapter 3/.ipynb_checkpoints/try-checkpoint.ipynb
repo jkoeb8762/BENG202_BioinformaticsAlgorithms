{
 "cells": [
  {
   "cell_type": "code",
   "execution_count": 1,
   "id": "ffee03ca",
   "metadata": {},
   "outputs": [],
   "source": [
    "def EulerianCycle(graph, node):\n",
    "    cycle = [node]\n",
    "    while graph[node]:\n",
    "        working = EulerianCycle(graph, graph[node].pop())\n",
    "        cycle = cycle[:1] + working + cycle[1:]\n",
    "    return cycle\n",
    "\n",
    "#Todo: Implement recursive method. \n",
    "def EulerianPath(graph):\n",
    "    diff = {}\n",
    "    for key, values in graph.items():\n",
    "        if key not in diff:\n",
    "            diff[key] = len(values)\n",
    "        else:\n",
    "            diff[key] += len(values)\n",
    "        for value in values:\n",
    "            if value not in diff:\n",
    "                diff[value] = -1\n",
    "            else:\n",
    "                diff[value] -= 1\n",
    "    keys = [node for node, dif in diff.items() if dif == -1][0]\n",
    "    values = [node for node, dif in diff.items() if dif == 1][0]\n",
    "    if keys in graph:\n",
    "        graph[keys].append(values)\n",
    "    else:\n",
    "        graph[keys] = [values]\n",
    "    \n",
    "    initial = list(graph)[0]\n",
    "    cycle = EulerianCycle(graph,initial )\n",
    "    index = 0\n",
    "    while (True):\n",
    "        if cycle[index] == keys and cycle[index + 1] == values:\n",
    "            break\n",
    "        index += 1\n",
    "    return cycle[index + 1:] + cycle[1:index + 1]"
   ]
  },
  {
   "cell_type": "code",
   "execution_count": 4,
   "id": "109b00ae",
   "metadata": {},
   "outputs": [],
   "source": [
    "from collections import defaultdict\n",
    "def deBruijn_graph_paired_reads(paired_reads):\n",
    "    adj_list = defaultdict(list)\n",
    "    for pair in paired_reads:\n",
    "        adj_list[(pair[0][:-1], pair[1][:-1])].append((pair[0][1:], pair[1][1:]))\n",
    "    return adj_list\n",
    "\n",
    "\n",
    "def StringSpelledByGappedPatterns(GappedPatterns, k, d):\n",
    "    prefix_string = ''\n",
    "    suffix_string = ''\n",
    "    for i, pattern_pair in enumerate(GappedPatterns):\n",
    "        if i != len(GappedPatterns) - 1:\n",
    "            prefix_string += pattern_pair[0][0]\n",
    "            suffix_string += pattern_pair[1][0]\n",
    "        else:\n",
    "            prefix_string += pattern_pair[0]\n",
    "            suffix_string += pattern_pair[1]\n",
    "    for i in range(k + d + 1, len(prefix_string)):\n",
    "        if prefix_string[i] != suffix_string[i - k - d - 1]:\n",
    "            return -1\n",
    "    return prefix_string + suffix_string[len(suffix_string) - k - d - 1:]\n",
    "\n",
    "\n",
    "def string_reconstruction_read_pairs(k, d, paired_reads):\n",
    "    adj_list = deBruijn_graph_paired_reads(paired_reads)\n",
    "    path = EulerianPath(adj_list)\n",
    "    return StringSpelledByGappedPatterns(path, k - 1, d)\n",
    "\n"
   ]
  },
  {
   "cell_type": "code",
   "execution_count": 6,
   "id": "817764aa",
   "metadata": {},
   "outputs": [
    {
     "name": "stdout",
     "output_type": "stream",
     "text": [
      "3 1\n"
     ]
    },
    {
     "ename": "IndexError",
     "evalue": "list index out of range",
     "output_type": "error",
     "traceback": [
      "\u001b[1;31m---------------------------------------------------------------------------\u001b[0m",
      "\u001b[1;31mIndexError\u001b[0m                                Traceback (most recent call last)",
      "Input \u001b[1;32mIn [6]\u001b[0m, in \u001b[0;36m<cell line: 2>\u001b[1;34m()\u001b[0m\n\u001b[0;32m      5\u001b[0m \u001b[38;5;28mprint\u001b[39m(k,d)\n\u001b[0;32m      6\u001b[0m w1 \u001b[38;5;241m=\u001b[39m f\u001b[38;5;241m.\u001b[39mreadline()\u001b[38;5;241m.\u001b[39msplit()    \n\u001b[1;32m----> 7\u001b[0m ans \u001b[38;5;241m=\u001b[39m \u001b[43mstring_reconstruction_read_pairs\u001b[49m\u001b[43m(\u001b[49m\u001b[43mk\u001b[49m\u001b[43m,\u001b[49m\u001b[43m \u001b[49m\u001b[43md\u001b[49m\u001b[43m,\u001b[49m\u001b[43m \u001b[49m\u001b[43mw1\u001b[49m\u001b[43m)\u001b[49m\n\u001b[0;32m      8\u001b[0m \u001b[38;5;28mprint\u001b[39m(ans)\n",
      "Input \u001b[1;32mIn [4]\u001b[0m, in \u001b[0;36mstring_reconstruction_read_pairs\u001b[1;34m(k, d, paired_reads)\u001b[0m\n\u001b[0;32m     25\u001b[0m \u001b[38;5;28;01mdef\u001b[39;00m \u001b[38;5;21mstring_reconstruction_read_pairs\u001b[39m(k, d, paired_reads):\n\u001b[0;32m     26\u001b[0m     adj_list \u001b[38;5;241m=\u001b[39m deBruijn_graph_paired_reads(paired_reads)\n\u001b[1;32m---> 27\u001b[0m     path \u001b[38;5;241m=\u001b[39m \u001b[43mEulerianPath\u001b[49m\u001b[43m(\u001b[49m\u001b[43madj_list\u001b[49m\u001b[43m)\u001b[49m\n\u001b[0;32m     28\u001b[0m     \u001b[38;5;28;01mreturn\u001b[39;00m StringSpelledByGappedPatterns(path, k \u001b[38;5;241m-\u001b[39m \u001b[38;5;241m1\u001b[39m, d)\n",
      "Input \u001b[1;32mIn [1]\u001b[0m, in \u001b[0;36mEulerianPath\u001b[1;34m(graph)\u001b[0m\n\u001b[0;32m     19\u001b[0m         \u001b[38;5;28;01melse\u001b[39;00m:\n\u001b[0;32m     20\u001b[0m             diff[value] \u001b[38;5;241m-\u001b[39m\u001b[38;5;241m=\u001b[39m \u001b[38;5;241m1\u001b[39m\n\u001b[1;32m---> 21\u001b[0m keys \u001b[38;5;241m=\u001b[39m \u001b[43m[\u001b[49m\u001b[43mnode\u001b[49m\u001b[43m \u001b[49m\u001b[38;5;28;43;01mfor\u001b[39;49;00m\u001b[43m \u001b[49m\u001b[43mnode\u001b[49m\u001b[43m,\u001b[49m\u001b[43m \u001b[49m\u001b[43mdif\u001b[49m\u001b[43m \u001b[49m\u001b[38;5;129;43;01min\u001b[39;49;00m\u001b[43m \u001b[49m\u001b[43mdiff\u001b[49m\u001b[38;5;241;43m.\u001b[39;49m\u001b[43mitems\u001b[49m\u001b[43m(\u001b[49m\u001b[43m)\u001b[49m\u001b[43m \u001b[49m\u001b[38;5;28;43;01mif\u001b[39;49;00m\u001b[43m \u001b[49m\u001b[43mdif\u001b[49m\u001b[43m \u001b[49m\u001b[38;5;241;43m==\u001b[39;49m\u001b[43m \u001b[49m\u001b[38;5;241;43m-\u001b[39;49m\u001b[38;5;241;43m1\u001b[39;49m\u001b[43m]\u001b[49m\u001b[43m[\u001b[49m\u001b[38;5;241;43m0\u001b[39;49m\u001b[43m]\u001b[49m\n\u001b[0;32m     22\u001b[0m values \u001b[38;5;241m=\u001b[39m [node \u001b[38;5;28;01mfor\u001b[39;00m node, dif \u001b[38;5;129;01min\u001b[39;00m diff\u001b[38;5;241m.\u001b[39mitems() \u001b[38;5;28;01mif\u001b[39;00m dif \u001b[38;5;241m==\u001b[39m \u001b[38;5;241m1\u001b[39m][\u001b[38;5;241m0\u001b[39m]\n\u001b[0;32m     23\u001b[0m \u001b[38;5;28;01mif\u001b[39;00m keys \u001b[38;5;129;01min\u001b[39;00m graph:\n",
      "\u001b[1;31mIndexError\u001b[0m: list index out of range"
     ]
    }
   ],
   "source": [
    "import io\n",
    "with io.open(\"StringReconstructionReadPairs\\inputs\\input_2.txt\", mode=\"r\", encoding=\"utf-8\") as f:\n",
    "    working = f.readline()\n",
    "    k, d = [int(x) for x in working.split()]\n",
    "    print(k,d)\n",
    "    w1 = f.readline().split()    \n",
    "    ans = string_reconstruction_read_pairs(k, d, w1)\n",
    "    print(ans)"
   ]
  },
  {
   "cell_type": "code",
   "execution_count": null,
   "id": "6aa4c20d",
   "metadata": {},
   "outputs": [],
   "source": []
  }
 ],
 "metadata": {
  "kernelspec": {
   "display_name": "Python 3 (ipykernel)",
   "language": "python",
   "name": "python3"
  },
  "language_info": {
   "codemirror_mode": {
    "name": "ipython",
    "version": 3
   },
   "file_extension": ".py",
   "mimetype": "text/x-python",
   "name": "python",
   "nbconvert_exporter": "python",
   "pygments_lexer": "ipython3",
   "version": "3.9.12"
  }
 },
 "nbformat": 4,
 "nbformat_minor": 5
}
