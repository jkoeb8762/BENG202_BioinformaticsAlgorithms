{
 "cells": [
  {
   "cell_type": "code",
   "execution_count": 1,
   "id": "cd879174",
   "metadata": {},
   "outputs": [],
   "source": [
    "from random import choice\n",
    "def ConstructGraph(file):\n",
    "    with open(file) as f:\n",
    "        graph = {}\n",
    "        for line in f:\n",
    "            edge = line.strip().split(': ')\n",
    "            graph[edge[0]] = edge[1].split(' ')\n",
    "    return graph\n",
    "\n",
    "def EulerianCycle(graph, node):\n",
    "    cycle = [node]\n",
    "    while graph[node]:\n",
    "        working = EulerianCycle(graph, graph[node].pop())\n",
    "        cycle = cycle[:1] + working + cycle[1:]\n",
    "    return cycle\n",
    "\n",
    "#Todo: Implement recursive method. \n",
    "def EulerianPath(graph):\n",
    "    diff = {}\n",
    "    for key, values in graph.items():\n",
    "        if key not in diff:\n",
    "            diff[key] = len(values)\n",
    "        else:\n",
    "            diff[key] += len(values)\n",
    "        for value in values:\n",
    "            if value not in diff:\n",
    "                diff[value] = -1\n",
    "            else:\n",
    "                diff[value] -= 1\n",
    "    keys = [node for node, dif in diff.items() if dif == -1][0]\n",
    "    values = [node for node, dif in diff.items() if dif == 1][0]\n",
    "    if keys in graph:\n",
    "        graph[keys].append(values)\n",
    "    else:\n",
    "        graph[keys] = [values]\n",
    "    \n",
    "    initial = list(graph)[0]\n",
    "    cycle = EulerianCycle(graph,initial )\n",
    "    index = 0\n",
    "    while (True):\n",
    "        if cycle[index] == keys and cycle[index + 1] == values:\n",
    "            break\n",
    "        index += 1\n",
    "    return cycle[index + 1:] + cycle[1:index + 1]"
   ]
  },
  {
   "cell_type": "code",
   "execution_count": 2,
   "id": "ba441c96",
   "metadata": {},
   "outputs": [],
   "source": [
    "def DeBruijnGraph(k, text):\n",
    "    kmers = []\n",
    "    n = len(text)\n",
    "    #generate kmers\n",
    "    for i in range(n-k+2):\n",
    "        kmers.append(text[i:i+k-1])\n",
    "    graphMap = {}\n",
    "    for j in range(n-k+1):\n",
    "        working = kmers[j]\n",
    "        new = kmers[j+1]\n",
    "        if working not in graphMap:\n",
    "            graphMap[working] = [new]\n",
    "        else:\n",
    "            graphMap[working].append(new)\n",
    "    return graphMap\n",
    "\n",
    "def DeBruijnKmers(kmers):\n",
    "    graphMap = {}\n",
    "    for kmer in kmers:\n",
    "        suffix = kmer[1:]\n",
    "        prefix = kmer[:-1]\n",
    "        if prefix not in graphMap:\n",
    "            graphMap[prefix] = [suffix]\n",
    "        else:\n",
    "            graphMap[prefix].append(suffix)\n",
    "    return graphMap\n",
    "            "
   ]
  },
  {
   "cell_type": "code",
   "execution_count": 3,
   "id": "b0bf5375",
   "metadata": {},
   "outputs": [],
   "source": [
    "def PathToGenome(reads):\n",
    "    path = reads[0]\n",
    "    for read in reads[1:]:\n",
    "        n = len(read)\n",
    "        path += read[n-1:]\n",
    "    return path"
   ]
  },
  {
   "cell_type": "code",
   "execution_count": 6,
   "id": "1d283cc5",
   "metadata": {},
   "outputs": [],
   "source": [
    "def StringReconstruction(k, pattern):\n",
    "    dB = DeBruijnKmers(pattern)\n",
    "    path = EulerianPath(dB)\n",
    "    text = PathToGenome(path)\n",
    "    return text"
   ]
  },
  {
   "cell_type": "code",
   "execution_count": 10,
   "id": "2b32867d",
   "metadata": {},
   "outputs": [
    {
     "name": "stdout",
     "output_type": "stream",
     "text": [
      "CAATCTCAATCTTTGAGCTTTCGCTAGTGCTCGCCGTACGCGATCCGTGTCCAAACGATGCAACTTAAGTCAACATAATATTGGCGTCCGGCTCAACTACACTTTCCGATGGGAAGAGTAGTTCGCACGTTCTACAGGGCTGGAGCTGCCCTACCACAGCGTATTTGCTACTATTTCAGATACTATACTAGCTTCTTCTATTGAGACAAACTAATCGTGAACAACAATCGAAATGTTGATTCAAACCCAGTCGCCGTCGCACTCCTAGGCGTCTTCTCCAGACTTCACGGTAAGCAACATTACGCCGTAATATTCGATTGGTTGCCATCGTCTCCAGAGCTCCGTGATAACTTACTCGCCCTCGCCTCTTCCGTCGAAATTCATCCCATAAGTAAGATTTAACATAACAATGAATTAGAGACCTGTGGTTAACGATGTGCGTCGGGCCGTCCCCAGTTACACGACCTAAAGTTCGGGGATTTAACTTTCAACGGACATACGCTGCAACCCCGCCCTACCTACGCCGCTGAGGTGCCCAATACTGCATGTGACTTAACAAGTCACTGATAAGTTCGGACCGGCGTGCTCCGCACTGTATACCGTTTCATTATTCAAAAGTTTAGCGCAGTTCCGATTACGACGGTATCTTGTGGGCACAAGTACAGAGTATCTATTTTTAATATACGAGCAGTGCTTGTAGCCTTTTCAGTGAACGGGCAAAGTATAGGACAACCGAATTTGAAGCGGATTACATACCGCTGATTGGGCGCGCGGATCGCTAGGCGGGGTGGATGATGCTGGCTACGCTGGACGGTATAGAGCAGCCTTAGGATACCTTAGACTGTGTTACCAACGTTATTCGCATCCAGTTGGACACAAGGGTAAAGTCCCGGTGAACAGATCCACTGACGTGTTGTATCGAATAGAGACTCTCAACGTTACCCAGCCCTTGTACAACTTGTGTTAAGGTGTGCATTTAAATCCGACTCGTAGCGTGCATTTGAAAATGGTCAACGGAGGAGCAGGGAATAGACACGTCGCCTCCGGTAAGCGACAAAGCGACGTCCCAACAGCTACGATACCATGACACCTGTCCCCCGATTGCCGTCGTGAGATGATCCATCCCGACGAGATAAAGGTGTACGCTTCCTACTGGCTTCTCTCGCATGTCATGTGTTTCAATTAGCGTTGGGCTTAGTAGGGACCAAATTAACCCATTCGAGAGCCCGCGTCGAACTAATGCGTTGTCAGGAGGATGGGGAACTCAAACGCTTGCTCTGCCTTAGCCGCTTAACGTAAGTTCCTGGTGTCCCCTGAAGAGTCGAGCTACGACGCAGACGTCGTATCCATACCAGATACGACGGCTGTGAGTGGGAATCGCCATCATTAGTGTCGTATTTAGTGCTGTCTGAGACTGTTCTCCAGATCAAGAGCATATTGCTCATCTATGCTTTACGTCTGCAGCGCTAGAATCAACAGGTACTCTCGCTCAGTTCAAGTTACGATGATGGGGGCCTCTACATTTGCGCCAGCCTCCGCATTTGTTCTGTGCGCCCGGAGCCGGTCGTTAACTGATGGCGTTTGTACTGGACCTTCGGCAGATCTGTACACTCCTGATAGCACGGGGACGGGACCTAATCCACTACACTTCTAACTACCAGGACACCTAAGCTCCTGCCAAATAAGCTCACCGAATTAATATTGAGGCCCAAGATAGCAACTAGACCAATGGCTTCTTTTTTTAGATCAGTATTGGCAAGAGACTCGTAATCTGCTGACGGTATTTCCCCGTATTTCGTCATCGCTGTTTGTGCACTGGTTTGGTGTGTACGGGTAGTCAGACTGTGGTAATACTCCGCCGGGTTCCCACCGGCAGAATCAATACTGACGTATACCCTGCCAGTTGCGTTAATATGATAGAAATCTCGCTCTTTCGCGCGAATTGTTGATAGTCAGACAACGTTCCAGGTCCTCCAACTGCTGCGTATTTAGGAGCATTAAGCCCGTAGTCTCGGCCTTCGTGCGAGCCGGGTTGGAGGGCCACCGGTAATGCCCTCCTTCTGTCTGAGTGTGCATTGGCCCTTATTGGAGGGGCATCTATTGGGCTTACCCTAGCGGTATTGTGTCCCCTCCAGCGCAAAATGACACTGGGAACGCCTCGACCGTTACCCAATGCTGATAGGCCCCCTCGCTTACAACCCATTCGGTTTAATGTTAATGCGTAAGTATCCTTCACTTCA\n"
     ]
    }
   ],
   "source": [
    "import io\n",
    "with io.open(\"dataset_865643_7.txt\", mode=\"r\", encoding=\"utf-8\") as f:\n",
    "    k = f.readline()\n",
    "    working = f.readline().split()\n",
    "    ans = StringReconstruction(k, working)\n",
    "    print(ans)"
   ]
  },
  {
   "cell_type": "code",
   "execution_count": null,
   "id": "e985d883",
   "metadata": {},
   "outputs": [],
   "source": []
  }
 ],
 "metadata": {
  "kernelspec": {
   "display_name": "Python 3 (ipykernel)",
   "language": "python",
   "name": "python3"
  },
  "language_info": {
   "codemirror_mode": {
    "name": "ipython",
    "version": 3
   },
   "file_extension": ".py",
   "mimetype": "text/x-python",
   "name": "python",
   "nbconvert_exporter": "python",
   "pygments_lexer": "ipython3",
   "version": "3.9.12"
  }
 },
 "nbformat": 4,
 "nbformat_minor": 5
}
