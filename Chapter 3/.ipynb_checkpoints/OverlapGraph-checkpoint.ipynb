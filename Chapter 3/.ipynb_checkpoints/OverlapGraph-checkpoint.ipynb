{
 "cells": [
  {
   "cell_type": "code",
   "execution_count": 2,
   "id": "7629dbdc",
   "metadata": {},
   "outputs": [],
   "source": [
    "def IsOverlap(string1, string2):\n",
    "    if string1[1:] == string2[:-1]:\n",
    "        return True\n",
    "    return False"
   ]
  },
  {
   "cell_type": "code",
   "execution_count": 11,
   "id": "31729d8c",
   "metadata": {},
   "outputs": [],
   "source": [
    "def OverlapGraph(patterns):\n",
    "    n = len(patterns)\n",
    "    adjList = []\n",
    "    for i in range(n):\n",
    "        nodes = []\n",
    "        for j in range(n):\n",
    "            p1 = patterns[i]\n",
    "            p2 = patterns[j]\n",
    "            if IsOverlap(p1, p2):\n",
    "                #and p2 not in nodes:\n",
    "                nodes.append(p2)\n",
    "        if len(nodes) != 0:\n",
    "        #and patterns[i] + ': ' + \" \".join(nodes) not in adjList:\n",
    "            working = patterns[i] + ': ' + \" \".join(nodes)\n",
    "            adjList.append(working)\n",
    "    return adjList"
   ]
  },
  {
   "cell_type": "code",
   "execution_count": 7,
   "id": "e4db399c",
   "metadata": {},
   "outputs": [],
   "source": [
    "with io.open(\"dataset_865638_11.txt\", mode=\"r\", encoding=\"utf-8\") as f:\n",
    "    for line in f:\n",
    "        working = line.split()\n",
    "with open(\"ok.txt\", \"w\") as f:\n",
    "    answer = OverlapGraph(working)\n",
    "    for item in answer:\n",
    "        f.write(\"%s\\n\" % item)"
   ]
  }
 ],
 "metadata": {
  "kernelspec": {
   "display_name": "Python 3 (ipykernel)",
   "language": "python",
   "name": "python3"
  },
  "language_info": {
   "codemirror_mode": {
    "name": "ipython",
    "version": 3
   },
   "file_extension": ".py",
   "mimetype": "text/x-python",
   "name": "python",
   "nbconvert_exporter": "python",
   "pygments_lexer": "ipython3",
   "version": "3.9.12"
  }
 },
 "nbformat": 4,
 "nbformat_minor": 5
}
