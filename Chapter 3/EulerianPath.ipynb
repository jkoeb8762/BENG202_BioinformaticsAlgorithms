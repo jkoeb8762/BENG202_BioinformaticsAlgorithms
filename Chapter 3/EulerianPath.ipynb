{
 "cells": [
  {
   "cell_type": "code",
   "execution_count": 1,
   "id": "4eb68729",
   "metadata": {},
   "outputs": [],
   "source": [
    "from collections import Counter\n",
    "\n",
    "def ConstructGraph(file):\n",
    "    with open(file) as f:\n",
    "        graph = {}\n",
    "        for line in f:\n",
    "            edge = line.strip().split(': ')\n",
    "            graph[edge[0]] = edge[1].split(' ')\n",
    "\n",
    "    # Add any sink nodes (nodes with no outgoing edges) to the graph\n",
    "    graph.update({\n",
    "        neighbor: []\n",
    "        for neighbors in graph.values()\n",
    "        for neighbor in neighbors if neighbor not in graph\n",
    "    })\n",
    "    return graph\n",
    "\n",
    "\n",
    "def InDegrees(graph):\n",
    "    return Counter(\n",
    "        (n for neighbors in graph.values() for n in neighbors),\n",
    "    )\n",
    "\n",
    "\n",
    "def FindInitialNode(graph, in_degrees):\n",
    "    initial_node = None\n",
    "    for node, in_degree in in_degrees.items():\n",
    "        neighbors = graph.get(node)\n",
    "        if neighbors is None:\n",
    "            out_degree = 0\n",
    "        else:\n",
    "            out_degree = len(neighbors)\n",
    "        if in_degree < out_degree:\n",
    "            initial_node = node\n",
    "            break\n",
    "    return initial_node\n",
    "\n",
    "\n",
    "def EulerianPath(graph, in_degrees, node):\n",
    "    path = [node]\n",
    "    while graph[node]:\n",
    "        path = path[:1] + EulerianPath(graph, in_degrees, graph[node].pop()) + path[1:]\n",
    "    return path"
   ]
  },
  {
   "cell_type": "code",
   "execution_count": 5,
   "id": "3bd4987c",
   "metadata": {},
   "outputs": [
    {
     "ename": "KeyError",
     "evalue": "None",
     "output_type": "error",
     "traceback": [
      "\u001b[1;31m---------------------------------------------------------------------------\u001b[0m",
      "\u001b[1;31mKeyError\u001b[0m                                  Traceback (most recent call last)",
      "Input \u001b[1;32mIn [5]\u001b[0m, in \u001b[0;36m<cell line: 5>\u001b[1;34m()\u001b[0m\n\u001b[0;32m      3\u001b[0m inDegrees \u001b[38;5;241m=\u001b[39m InDegrees(graph)\n\u001b[0;32m      4\u001b[0m initialNode \u001b[38;5;241m=\u001b[39m FindInitialNode(graph, inDegrees)\n\u001b[1;32m----> 5\u001b[0m path \u001b[38;5;241m=\u001b[39m \u001b[43mEulerianPath\u001b[49m\u001b[43m(\u001b[49m\u001b[43mgraph\u001b[49m\u001b[43m,\u001b[49m\u001b[43m \u001b[49m\u001b[43minDegrees\u001b[49m\u001b[43m,\u001b[49m\u001b[43m \u001b[49m\u001b[43minitialNode\u001b[49m\u001b[43m)\u001b[49m\n\u001b[0;32m      7\u001b[0m \u001b[38;5;28mprint\u001b[39m(\u001b[38;5;124m'\u001b[39m\u001b[38;5;124m \u001b[39m\u001b[38;5;124m'\u001b[39m\u001b[38;5;241m.\u001b[39mjoin(path))\n",
      "Input \u001b[1;32mIn [1]\u001b[0m, in \u001b[0;36mEulerianPath\u001b[1;34m(graph, in_degrees, node)\u001b[0m\n\u001b[0;32m     39\u001b[0m \u001b[38;5;28;01mdef\u001b[39;00m \u001b[38;5;21mEulerianPath\u001b[39m(graph, in_degrees, node):\n\u001b[0;32m     40\u001b[0m     path \u001b[38;5;241m=\u001b[39m [node]\n\u001b[1;32m---> 41\u001b[0m     \u001b[38;5;28;01mwhile\u001b[39;00m \u001b[43mgraph\u001b[49m\u001b[43m[\u001b[49m\u001b[43mnode\u001b[49m\u001b[43m]\u001b[49m:\n\u001b[0;32m     42\u001b[0m         path \u001b[38;5;241m=\u001b[39m path[:\u001b[38;5;241m1\u001b[39m] \u001b[38;5;241m+\u001b[39m EulerianPath(graph, in_degrees, graph[node]\u001b[38;5;241m.\u001b[39mpop()) \u001b[38;5;241m+\u001b[39m path[\u001b[38;5;241m1\u001b[39m:]\n\u001b[0;32m     43\u001b[0m     \u001b[38;5;28;01mreturn\u001b[39;00m path\n",
      "\u001b[1;31mKeyError\u001b[0m: None"
     ]
    }
   ],
   "source": [
    "graph = ConstructGraph('EulerianPath\\inputs\\input_2.txt')\n",
    "#graph = ConstructGraph('dataset_865643_6.txt')\n",
    "inDegrees = InDegrees(graph)\n",
    "initialNode = FindInitialNode(graph, inDegrees)\n",
    "path = EulerianPath(graph, inDegrees, initialNode)\n",
    "\n",
    "print(' '.join(path))"
   ]
  },
  {
   "cell_type": "code",
   "execution_count": 4,
   "id": "a67ba116",
   "metadata": {},
   "outputs": [
    {
     "data": {
      "text/plain": [
       "{'0': ['1'], '1': ['2'], '2': ['3'], '3': []}"
      ]
     },
     "execution_count": 4,
     "metadata": {},
     "output_type": "execute_result"
    }
   ],
   "source": [
    "graph = ConstructGraph('EulerianPath\\inputs\\input_2.txt')\n",
    "graph"
   ]
  },
  {
   "cell_type": "code",
   "execution_count": 31,
   "id": "dce03596",
   "metadata": {},
   "outputs": [
    {
     "data": {
      "text/plain": [
       "Counter({'1': 1, '2': 1, '3': 1})"
      ]
     },
     "execution_count": 31,
     "metadata": {},
     "output_type": "execute_result"
    }
   ],
   "source": [
    "inDegrees = InDegrees(graph)\n",
    "inDegrees"
   ]
  },
  {
   "cell_type": "code",
   "execution_count": null,
   "id": "fd2f78f4",
   "metadata": {},
   "outputs": [],
   "source": []
  }
 ],
 "metadata": {
  "kernelspec": {
   "display_name": "Python 3 (ipykernel)",
   "language": "python",
   "name": "python3"
  },
  "language_info": {
   "codemirror_mode": {
    "name": "ipython",
    "version": 3
   },
   "file_extension": ".py",
   "mimetype": "text/x-python",
   "name": "python",
   "nbconvert_exporter": "python",
   "pygments_lexer": "ipython3",
   "version": "3.9.12"
  }
 },
 "nbformat": 4,
 "nbformat_minor": 5
}
