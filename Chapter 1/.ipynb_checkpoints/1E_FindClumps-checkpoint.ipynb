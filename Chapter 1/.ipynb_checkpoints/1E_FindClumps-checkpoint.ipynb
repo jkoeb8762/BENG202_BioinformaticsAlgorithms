{
 "cells": [
  {
   "cell_type": "code",
   "execution_count": 4,
   "id": "918aacb5",
   "metadata": {},
   "outputs": [],
   "source": [
    "#Find Patterns Forming Clumps in a String\n",
    "from collections import defaultdict\n",
    "def FrequencyTable(text, k):\n",
    "    #create empty dictionary\n",
    "    freqMap = defaultdict(int)\n",
    "    n = len(text)\n",
    "    for i in range(n-k+1):\n",
    "        pattern = text[i:i+k]\n",
    "        freqMap[pattern] += 1\n",
    "    return freqMap"
   ]
  },
  {
   "cell_type": "code",
   "execution_count": 5,
   "id": "fe0a6282",
   "metadata": {},
   "outputs": [],
   "source": [
    "def FindClumps(text, k, L, t):\n",
    "    patterns = set()\n",
    "    n = len(text)\n",
    "    window = text[0:L]\n",
    "    for i in range(n-L):\n",
    "        window = text[i:i+L]\n",
    "        freqMap = FrequencyTable(window, k)\n",
    "        for key in freqMap:\n",
    "            if freqMap[key] >= t:\n",
    "                patterns.add(key)\n",
    "    return patterns"
   ]
  },
  {
   "cell_type": "code",
   "execution_count": 6,
   "id": "b8ea6f41",
   "metadata": {},
   "outputs": [
    {
     "data": {
      "text/plain": [
       "{'CGACA', 'GAAGA'}"
      ]
     },
     "execution_count": 6,
     "metadata": {},
     "output_type": "execute_result"
    }
   ],
   "source": [
    "test = \"CGGACTCGACAGATGTGAAGAACGACAATGTGAAGACTCGACACGACAGAGTGAAGAGAAGAGGAAACATTGTAA\"\n",
    "FindClumps(test, 5,50, 4)"
   ]
  },
  {
   "cell_type": "code",
   "execution_count": null,
   "id": "112cfc51",
   "metadata": {},
   "outputs": [],
   "source": []
  }
 ],
 "metadata": {
  "kernelspec": {
   "display_name": "Python 3 (ipykernel)",
   "language": "python",
   "name": "python3"
  },
  "language_info": {
   "codemirror_mode": {
    "name": "ipython",
    "version": 3
   },
   "file_extension": ".py",
   "mimetype": "text/x-python",
   "name": "python",
   "nbconvert_exporter": "python",
   "pygments_lexer": "ipython3",
   "version": "3.9.13"
  }
 },
 "nbformat": 4,
 "nbformat_minor": 5
}
