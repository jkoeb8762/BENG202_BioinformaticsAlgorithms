{
 "cells": [
  {
   "cell_type": "code",
   "execution_count": 1,
   "id": "7e387bf4",
   "metadata": {},
   "outputs": [],
   "source": [
    "#Find the Most Frequent Words with Mismatches in a String\n",
    "def HammingDistance(x, y):\n",
    "    dist = 0\n",
    "    for i in range(len(x)):\n",
    "        if x[i] != y[i]:\n",
    "            dist += 1\n",
    "    return dist"
   ]
  },
  {
   "cell_type": "code",
   "execution_count": 2,
   "id": "59b192ab",
   "metadata": {},
   "outputs": [],
   "source": [
    "def MaxMap(dict):\n",
    "    maxi = max(dict.values())\n",
    "    return maxi"
   ]
  },
  {
   "cell_type": "code",
   "execution_count": 3,
   "id": "a7d0d8a6",
   "metadata": {},
   "outputs": [],
   "source": [
    "def Neighbors(pattern,d):\n",
    "    if d == 0:\n",
    "        return {pattern}\n",
    "    if len(pattern) == 1:\n",
    "        return {\"A\",\"C\",\"G\",\"T\"}\n",
    "    neighborhood = set()\n",
    "    suffix = pattern[1:]\n",
    "    suffixNeighbors = Neighbors(suffix,d)\n",
    "    nucleotides = [\"A\", \"T\", \"G\", \"C\"]\n",
    "    for text in suffixNeighbors:\n",
    "        if HammingDistance(suffix, text) < d:\n",
    "            for i in range(len(nucleotides)):\n",
    "                neighborhood.add(nucleotides[i]+text)\n",
    "        else:\n",
    "            neighborhood.add(pattern[0]+text)\n",
    "    return neighborhood"
   ]
  },
  {
   "cell_type": "code",
   "execution_count": 9,
   "id": "fadcfceb",
   "metadata": {},
   "outputs": [],
   "source": [
    "def FrequentWordsWithMismatches(text, k, d):\n",
    "    patterns = []\n",
    "    freqMap = {}\n",
    "    n = len(text)\n",
    "    for i in range(n-k+1):\n",
    "        pattern = text[i:i+k]\n",
    "        neighborhood = Neighbors(pattern, d)\n",
    "        for neighbor in neighborhood:\n",
    "            if neighbor not in freqMap:\n",
    "                freqMap[neighbor] = 1\n",
    "            else:\n",
    "                freqMap[neighbor] += 1\n",
    "    m = MaxMap(freqMap)\n",
    "    for pattern in freqMap:\n",
    "        if freqMap[pattern] == m:\n",
    "            patterns.append(pattern)\n",
    "    return patterns"
   ]
  },
  {
   "cell_type": "code",
   "execution_count": 10,
   "id": "f4a718ec",
   "metadata": {},
   "outputs": [
    {
     "data": {
      "text/plain": [
       "['ATGT', 'GATG', 'ATGC']"
      ]
     },
     "execution_count": 10,
     "metadata": {},
     "output_type": "execute_result"
    }
   ],
   "source": [
    "FrequentWordsWithMismatches(\"ACGTTGCATGTCGCATGATGCATGAGAGCT\", 4,1)"
   ]
  }
 ],
 "metadata": {
  "kernelspec": {
   "display_name": "Python 3 (ipykernel)",
   "language": "python",
   "name": "python3"
  },
  "language_info": {
   "codemirror_mode": {
    "name": "ipython",
    "version": 3
   },
   "file_extension": ".py",
   "mimetype": "text/x-python",
   "name": "python",
   "nbconvert_exporter": "python",
   "pygments_lexer": "ipython3",
   "version": "3.9.13"
  }
 },
 "nbformat": 4,
 "nbformat_minor": 5
}
