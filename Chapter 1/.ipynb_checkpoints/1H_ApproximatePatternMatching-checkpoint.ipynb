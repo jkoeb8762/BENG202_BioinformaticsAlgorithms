{
 "cells": [
  {
   "cell_type": "code",
   "execution_count": 2,
   "id": "27c786d4",
   "metadata": {},
   "outputs": [],
   "source": [
    "#Find All Approximate Occurrences of a Pattern in a String\n",
    "def HammingDistance(x, y):\n",
    "    dist = 0\n",
    "    for i in range(len(x)):\n",
    "        if x[i] != y[i]:\n",
    "            dist += 1\n",
    "    return dist"
   ]
  },
  {
   "cell_type": "code",
   "execution_count": 3,
   "id": "e872705d",
   "metadata": {},
   "outputs": [],
   "source": [
    "def ApproximatePatternMatching(pattern, text, d):\n",
    "    pos = []\n",
    "    n = len(pattern)\n",
    "    for i in range(len(text)-len(pattern)+1):\n",
    "        dist = HammingDistance(pattern, text[i:i+n])\n",
    "        if dist <= d:\n",
    "            pos.append(i)\n",
    "    return pos"
   ]
  },
  {
   "cell_type": "code",
   "execution_count": 8,
   "id": "bc557648",
   "metadata": {},
   "outputs": [
    {
     "data": {
      "text/plain": [
       "11"
      ]
     },
     "execution_count": 8,
     "metadata": {},
     "output_type": "execute_result"
    }
   ],
   "source": [
    "x =\"AACAAGCTGATAAACATTTAAAGAG\"\n",
    "y = \"AAAAA\"\n",
    "z = ApproximatePatternMatching(y, x, 2)\n",
    "len(z)"
   ]
  },
  {
   "cell_type": "code",
   "execution_count": 9,
   "id": "871eb91f",
   "metadata": {},
   "outputs": [
    {
     "data": {
      "text/plain": [
       "[6, 7, 26, 27]"
      ]
     },
     "execution_count": 9,
     "metadata": {},
     "output_type": "execute_result"
    }
   ],
   "source": [
    "x = \"ATTCTGGA\"\n",
    "y = \"CGCCCGAATCCAGAACGCATTCCCATATTTCGGGACCACTGGCCTCCACGGTACGGACGTCAATCAAAT\"\n",
    "ApproximatePatternMatching(x,y,3)"
   ]
  }
 ],
 "metadata": {
  "kernelspec": {
   "display_name": "Python 3 (ipykernel)",
   "language": "python",
   "name": "python3"
  },
  "language_info": {
   "codemirror_mode": {
    "name": "ipython",
    "version": 3
   },
   "file_extension": ".py",
   "mimetype": "text/x-python",
   "name": "python",
   "nbconvert_exporter": "python",
   "pygments_lexer": "ipython3",
   "version": "3.9.13"
  }
 },
 "nbformat": 4,
 "nbformat_minor": 5
}
