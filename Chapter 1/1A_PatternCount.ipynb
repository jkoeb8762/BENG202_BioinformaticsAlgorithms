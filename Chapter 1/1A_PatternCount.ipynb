{
 "cells": [
  {
   "cell_type": "code",
   "execution_count": null,
   "id": "c1932a12",
   "metadata": {},
   "outputs": [],
   "source": [
    "#Compute the Number of Times a Pattern Appears in a Text\n",
    "def PatternCount(text, pattern):\n",
    "    count = 0\n",
    "    for i in range(len(text)-len(pattern)+1):\n",
    "        if text[i:i+len(pattern)] == pattern:\n",
    "            count += 1\n",
    "    return count"
   ]
  },
  {
   "cell_type": "code",
   "execution_count": null,
   "id": "d4db1bfe",
   "metadata": {},
   "outputs": [],
   "source": [
    "text = \"abcabcabc\"\n",
    "pattern = \"abc\"\n",
    "PatternCount(text,pattern)"
   ]
  },
  {
   "cell_type": "code",
   "execution_count": null,
   "id": "5af41519",
   "metadata": {},
   "outputs": [],
   "source": [
    "t1 = \"CTCTTATTACTCTTATTGGTCTTATTCTCTTATTTCTTATTATCTTATTCTATCCTCTTATTTGGTCTTATTAGACAATCTTATTGGTCTTATTTTCTTATTTCTTATTCACCTCTTATTGTCTTATTTCTTATTTCTTATTCGCACACCGTTCTTATTTCTTATTTCTTATTCTTCTTATTGTCTTATTTCTTATTTCTTATTATGGTATTCTTATTGTCTTATTTCTTATTGTCTTATTAGTCTTATTTGGATACTCTTATTTCTTATTTTGAGACTCTTATTTATCCCGTTTCTTATTGATATCTTATTTCTTATTTTCTTATTGATATCTTATTTCTGTTCTTATTTCTTATTCTGGCTCTTATTTCTTATTGTTCTTATTAATTCTTATTTCTTATTACTCTTATTGACGATCTTATTTTCTTATTCCTCTTATTTCTTATTGTCTTATTAGCGTCTTATTCATCTTATTGATACTCTTATTTCTTATTTCTTATTTCTTATTCGAAACATCTTATTTGGTCTTATTCTCTTATTTCAGCTCTTATTAGATCTTATTCCTGCTCTTATTCACATCTTATTGCCACTATCTTATTCCCCGATGCCTCTTATTTCACGGATCTTATTATCTTATTATCTTATTGTCATCTTATTTCTTATTGTCTTATTTCTTATTAATTCTTATTTTCTTATTTCTCTTATTCTTCTTATTCCTCTTATTTGATCTTATTTCTTATTCGATTCTTATTATCTTATTGTCTTATTGCTCTTATTTCTTATTTCTTATTATCTATCGCTCTTATTTTCTTATTTACGATGTATTCTTATTTACGGATCTTATTCCAGCACTGTGCCCTCTTATTCTGTCTTATTCTGTCTTATTGCAGTCTTATTCGCATATGACTCTTATTACGGCTCTTATTTCTTATTCTCTTATTCATCTTATT\"\n",
    "p1 = \"TCTTATTTC\""
   ]
  },
  {
   "cell_type": "code",
   "execution_count": null,
   "id": "5be9ce79",
   "metadata": {},
   "outputs": [],
   "source": [
    "PatternCount(t1, p1)"
   ]
  }
 ],
 "metadata": {
  "kernelspec": {
   "display_name": "Python 3 (ipykernel)",
   "language": "python",
   "name": "python3"
  },
  "language_info": {
   "codemirror_mode": {
    "name": "ipython",
    "version": 3
   },
   "file_extension": ".py",
   "mimetype": "text/x-python",
   "name": "python",
   "nbconvert_exporter": "python",
   "pygments_lexer": "ipython3",
   "version": "3.9.13"
  }
 },
 "nbformat": 4,
 "nbformat_minor": 5
}
