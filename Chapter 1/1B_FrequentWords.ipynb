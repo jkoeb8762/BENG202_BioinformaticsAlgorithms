{
 "cells": [
  {
   "cell_type": "code",
   "execution_count": 2,
   "id": "963b4d0e",
   "metadata": {},
   "outputs": [],
   "source": [
    "#Find the Most Frequent Words in a String\n",
    "from collections import defaultdict\n",
    "def FrequencyTable(text, k):\n",
    "    #create empty dictionary\n",
    "    freqMap = defaultdict(int)\n",
    "    n = len(text)\n",
    "    for i in range(n-k+1):\n",
    "        pattern = text[i:i+k]\n",
    "        freqMap[pattern] += 1\n",
    "    return freqMap"
   ]
  },
  {
   "cell_type": "code",
   "execution_count": 3,
   "id": "2c766d76",
   "metadata": {},
   "outputs": [],
   "source": [
    "def MaxMap(dict):\n",
    "    maxi = max(dict.values())\n",
    "    return maxi"
   ]
  },
  {
   "cell_type": "code",
   "execution_count": 6,
   "id": "1d0831b7",
   "metadata": {},
   "outputs": [],
   "source": [
    "def BetterFrequentWords(text, k):\n",
    "    freqPattern = []\n",
    "    freqMap = FrequencyTable(text, k)\n",
    "    maximum = MaxMap(freqMap)\n",
    "    for pattern in freqMap:\n",
    "        if freqMap[pattern] == maximum:\n",
    "            freqPattern.append(pattern)\n",
    "    return freqPattern"
   ]
  },
  {
   "cell_type": "code",
   "execution_count": 7,
   "id": "3ed8624a",
   "metadata": {},
   "outputs": [
    {
     "data": {
      "text/plain": [
       "['CCTTGCCAGAC']"
      ]
     },
     "execution_count": 7,
     "metadata": {},
     "output_type": "execute_result"
    }
   ],
   "source": [
    "BetterFrequentWords(\"CTGCAGGTCAAAGAGCTCGGTCAACTCTTCTGCCTGCAGGTCTCTTCTGCCGGTCAACCTGCAGGTCAAAGAGCTCTTGCCAGACTCTTCTGCTCTTCTGCCGGTCAACCGGTCAACTCTTCTGCCGGTCAACCGGTCAACCGGTCAACAAAGAGCTCTTGCCAGACAAAGAGCTCTGCAGGTCCTGCAGGTCCTTGCCAGACCTTGCCAGACAAAGAGCTCTGCAGGTCCTGCAGGTCCTGCAGGTCAAAGAGCTTCTTCTGCAAAGAGCTTCTTCTGCAAAGAGCTTCTTCTGCCTGCAGGTCCTGCAGGTCTCTTCTGCTCTTCTGCCGGTCAACCGGTCAACTCTTCTGCCTTGCCAGACCTGCAGGTCCTTGCCAGACCTTGCCAGACCGGTCAACTCTTCTGCAAAGAGCTCGGTCAACAAAGAGCTCTGCAGGTCCTTGCCAGACTCTTCTGCAAAGAGCTAAAGAGCTTCTTCTGCTCTTCTGCCTGCAGGTCCTTGCCAGACAAAGAGCTCTGCAGGTCCTGCAGGTCCTGCAGGTCCGGTCAACTCTTCTGCCTGCAGGTCCTTGCCAGACCTGCAGGTCCGGTCAACCTTGCCAGACCGGTCAACCGGTCAACCGGTCAACCGGTCAACTCTTCTGCCTGCAGGTCTCTTCTGCAAAGAGCTCTGCAGGTCCTTGCCAGACCTTGCCAGACAAAGAGCTCTGCAGGTCCTTGCCAGACCTGCAGGTCCGGTCAACCTTGCCAGACCTGCAGGTCAAAGAGCTAAAGAGCTCTGCAGGTCTCTTCTGCCTGCAGGTCCGGTCAACTCTTCTGCCTTGCCAGACCGGTCAACCGGTCAACCTTGCCAGACCTGCAGGTCCGGTCAACCGGTCAACCGGTCAACAAAGAGCT\",11)"
   ]
  },
  {
   "cell_type": "code",
   "execution_count": null,
   "id": "12a9d4e7",
   "metadata": {},
   "outputs": [],
   "source": []
  }
 ],
 "metadata": {
  "kernelspec": {
   "display_name": "Python 3 (ipykernel)",
   "language": "python",
   "name": "python3"
  },
  "language_info": {
   "codemirror_mode": {
    "name": "ipython",
    "version": 3
   },
   "file_extension": ".py",
   "mimetype": "text/x-python",
   "name": "python",
   "nbconvert_exporter": "python",
   "pygments_lexer": "ipython3",
   "version": "3.9.13"
  }
 },
 "nbformat": 4,
 "nbformat_minor": 5
}
