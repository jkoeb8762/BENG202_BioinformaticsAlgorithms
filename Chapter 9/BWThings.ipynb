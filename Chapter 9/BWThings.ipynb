{
 "cells": [
  {
   "cell_type": "code",
   "execution_count": null,
   "id": "6765f93b",
   "metadata": {},
   "outputs": [],
   "source": [
    "def InverseBWT(text):\n",
    "    n = len(text)\n",
    "    right_col = []\n",
    "    counts = {}\n",
    "    for char in text:\n",
    "        if char not in counts:\n",
    "            counts[char] = 1\n",
    "        else:\n",
    "            counts[char] += 1\n",
    "        count = counts[char]\n",
    "        working = char + str(count)\n",
    "        right_col.append(working)\n",
    "    left_col = sorted(right_col, key=lambda x: x[0])\n",
    "    row = []\n",
    "    row.append('$1')\n",
    "    for i in range(n-1):\n",
    "        last = row[i]\n",
    "        for index, char in enumerate(right_col):\n",
    "            if char == last:\n",
    "                idx = index\n",
    "                break\n",
    "        row.append(left_col[idx])\n",
    "    output = ''\n",
    "    m = len(row)\n",
    "    for i in range(1, m):\n",
    "        output += ''.join(x for x in row[i] if not x.isdigit())\n",
    "    output += '$'\n",
    "    return output\n",
    "\n",
    "with open('MultiplePatternMatching/inputs/input_4.txt') as f:\n",
    "#with open('dataset_865772_4.txt') as f:\n",
    "    tmp = f.read().splitlines()\n",
    "    Text = tmp[0]\n",
    "    pattern_list = tmp[1].split(\" \")\n",
    "    matches = wrapper(Text, pattern_list)\n",
    "    answer = dict()\n",
    "    for p in pattern_list:\n",
    "        answer[p] = []\n",
    "    n = len(pattern_list[0])\n",
    "    for idx in matches:\n",
    "        working = Text[idx:idx+n]\n",
    "        if working in answer:\n",
    "            answer[working].append(idx)\n",
    "        else:\n",
    "            answer[working] = [idx]\n",
    "    file = open('output.txt', 'w')\n",
    "    for key, value in answer.items():\n",
    "        file.write(str(key) + \":\")\n",
    "        if value != []:\n",
    "            file.write(' ' + ' '.join(str(x) for x in value))\n",
    "        file.write('\\n')\n",
    "    #print(' '.join(str(pos) for pos in matches))"
   ]
  }
 ],
 "metadata": {
  "kernelspec": {
   "display_name": "Python 3 (ipykernel)",
   "language": "python",
   "name": "python3"
  },
  "language_info": {
   "codemirror_mode": {
    "name": "ipython",
    "version": 3
   },
   "file_extension": ".py",
   "mimetype": "text/x-python",
   "name": "python",
   "nbconvert_exporter": "python",
   "pygments_lexer": "ipython3",
   "version": "3.9.12"
  }
 },
 "nbformat": 4,
 "nbformat_minor": 5
}
