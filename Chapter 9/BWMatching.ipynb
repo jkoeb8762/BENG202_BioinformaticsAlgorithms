{
 "cells": [
  {
   "cell_type": "code",
   "execution_count": 1,
   "id": "1ff1676c",
   "metadata": {},
   "outputs": [
    {
     "ename": "KeyboardInterrupt",
     "evalue": "",
     "output_type": "error",
     "traceback": [
      "\u001b[1;31m---------------------------------------------------------------------------\u001b[0m",
      "\u001b[1;31mKeyboardInterrupt\u001b[0m                         Traceback (most recent call last)",
      "Input \u001b[1;32mIn [1]\u001b[0m, in \u001b[0;36m<cell line: 30>\u001b[1;34m()\u001b[0m\n\u001b[0;32m     39\u001b[0m res \u001b[38;5;241m=\u001b[39m[]\n\u001b[0;32m     40\u001b[0m \u001b[38;5;28;01mfor\u001b[39;00m pattern \u001b[38;5;129;01min\u001b[39;00m patterns:\n\u001b[1;32m---> 41\u001b[0m     res\u001b[38;5;241m.\u001b[39mappend( \u001b[43mBWMATCHING\u001b[49m\u001b[43m(\u001b[49m\u001b[43mfrscol\u001b[49m\u001b[43m,\u001b[49m\u001b[43mlstcol\u001b[49m\u001b[43m,\u001b[49m\u001b[43mpattern\u001b[49m\u001b[43m,\u001b[49m\u001b[43mthemap\u001b[49m\u001b[43m)\u001b[49m)\n\u001b[0;32m     42\u001b[0m res \u001b[38;5;241m=\u001b[39m \u001b[38;5;28mmap\u001b[39m(\u001b[38;5;28mstr\u001b[39m,res)\n\u001b[0;32m     43\u001b[0m \u001b[38;5;28mprint\u001b[39m(\u001b[38;5;124m\"\u001b[39m\u001b[38;5;124m \u001b[39m\u001b[38;5;124m\"\u001b[39m\u001b[38;5;241m.\u001b[39mjoin(res))\n",
      "Input \u001b[1;32mIn [1]\u001b[0m, in \u001b[0;36mBWMATCHING\u001b[1;34m(FirstColumn, LastColumn, Pattern, themap)\u001b[0m\n\u001b[0;32m     19\u001b[0m topindex \u001b[38;5;241m=\u001b[39mLastColumn[top:bottom\u001b[38;5;241m+\u001b[39m\u001b[38;5;241m1\u001b[39m]\u001b[38;5;241m.\u001b[39mindex(symbol)\u001b[38;5;241m+\u001b[39mtop\n\u001b[0;32m     20\u001b[0m bottomindex\u001b[38;5;241m=\u001b[39m rindex(LastColumn[top:bottom\u001b[38;5;241m+\u001b[39m\u001b[38;5;241m1\u001b[39m],symbol)\u001b[38;5;241m+\u001b[39mtop\n\u001b[1;32m---> 21\u001b[0m top \u001b[38;5;241m=\u001b[39m\u001b[43mFIRST_TO_LAST_ARRAY\u001b[49m\u001b[43m(\u001b[49m\u001b[43mLastColumn\u001b[49m\u001b[43m,\u001b[49m\u001b[43mFirstColumn\u001b[49m\u001b[43m,\u001b[49m\u001b[43mtopindex\u001b[49m\u001b[43m)\u001b[49m\n\u001b[0;32m     22\u001b[0m bottom\u001b[38;5;241m=\u001b[39mFIRST_TO_LAST_ARRAY(LastColumn,FirstColumn,bottomindex)\n\u001b[0;32m     23\u001b[0m tmp \u001b[38;5;241m=\u001b[39m bottom\u001b[38;5;241m-\u001b[39mtop\n",
      "Input \u001b[1;32mIn [1]\u001b[0m, in \u001b[0;36mFIRST_TO_LAST_ARRAY\u001b[1;34m(lst, srtdlst, location)\u001b[0m\n\u001b[0;32m      6\u001b[0m indices \u001b[38;5;241m=\u001b[39m [i \u001b[38;5;28;01mfor\u001b[39;00m i, x \u001b[38;5;129;01min\u001b[39;00m \u001b[38;5;28menumerate\u001b[39m(lst) \u001b[38;5;28;01mif\u001b[39;00m x \u001b[38;5;241m==\u001b[39m char]\n\u001b[0;32m      7\u001b[0m index \u001b[38;5;241m=\u001b[39m indices\u001b[38;5;241m.\u001b[39mindex(location)\n\u001b[1;32m----> 8\u001b[0m indices \u001b[38;5;241m=\u001b[39m [i \u001b[38;5;28;01mfor\u001b[39;00m i, x \u001b[38;5;129;01min\u001b[39;00m \u001b[38;5;28menumerate\u001b[39m(srtdlst) \u001b[38;5;28;01mif\u001b[39;00m x \u001b[38;5;241m==\u001b[39m char]\n\u001b[0;32m      9\u001b[0m \u001b[38;5;28;01mreturn\u001b[39;00m indices[index]\n",
      "Input \u001b[1;32mIn [1]\u001b[0m, in \u001b[0;36m<listcomp>\u001b[1;34m(.0)\u001b[0m\n\u001b[0;32m      6\u001b[0m indices \u001b[38;5;241m=\u001b[39m [i \u001b[38;5;28;01mfor\u001b[39;00m i, x \u001b[38;5;129;01min\u001b[39;00m \u001b[38;5;28menumerate\u001b[39m(lst) \u001b[38;5;28;01mif\u001b[39;00m x \u001b[38;5;241m==\u001b[39m char]\n\u001b[0;32m      7\u001b[0m index \u001b[38;5;241m=\u001b[39m indices\u001b[38;5;241m.\u001b[39mindex(location)\n\u001b[1;32m----> 8\u001b[0m indices \u001b[38;5;241m=\u001b[39m [i \u001b[38;5;28;01mfor\u001b[39;00m i, x \u001b[38;5;129;01min\u001b[39;00m \u001b[38;5;28menumerate\u001b[39m(srtdlst) \u001b[38;5;28;01mif\u001b[39;00m x \u001b[38;5;241m==\u001b[39m char]\n\u001b[0;32m      9\u001b[0m \u001b[38;5;28;01mreturn\u001b[39;00m indices[index]\n",
      "\u001b[1;31mKeyboardInterrupt\u001b[0m: "
     ]
    }
   ],
   "source": [
    "def rindex(mylist, myvalue):\n",
    "        return len(mylist) - mylist[::-1].index(myvalue) - 1\n",
    "\n",
    "def FIRST_TO_LAST_ARRAY(lst,srtdlst,location):\n",
    "    char = lst[location]\n",
    "    indices = [i for i, x in enumerate(lst) if x == char]\n",
    "    index = indices.index(location)\n",
    "    indices = [i for i, x in enumerate(srtdlst) if x == char]\n",
    "    return indices[index]\n",
    "\n",
    "def BWMATCHING(FirstColumn,LastColumn,Pattern,themap):\n",
    "    top=0\n",
    "    bottom=len(LastColumn)-1\n",
    "    while top<= bottom:\n",
    "        if len(Pattern)>0:\n",
    "            symbol = Pattern[-1]\n",
    "            Pattern=Pattern[:-1]\n",
    "            if symbol in LastColumn[top:bottom+1]:\n",
    "                topindex =LastColumn[top:bottom+1].index(symbol)+top\n",
    "                bottomindex= rindex(LastColumn[top:bottom+1],symbol)+top\n",
    "                top =FIRST_TO_LAST_ARRAY(LastColumn,FirstColumn,topindex)\n",
    "                bottom=FIRST_TO_LAST_ARRAY(LastColumn,FirstColumn,bottomindex)\n",
    "                tmp = bottom-top\n",
    "            else:\n",
    "                return 0\n",
    "        else:\n",
    "            return bottom-top+1\n",
    "#with open('BWMatching/inputs/input_2.txt') as f:\n",
    "#with open('dataset_865769_8.txt') as f:\n",
    "with open('dataset_865770_7.txt') as f:\n",
    "    Text = f.readline().strip()\n",
    "    patterns = f.readline().strip().split(' ')\n",
    "    frscol = list(Text)\n",
    "    frscol.sort()\n",
    "    lstcol = list(Text)\n",
    "    themap ={}\n",
    "    for i in range(len(lstcol)):\n",
    "        themap[i]=FIRST_TO_LAST_ARRAY(lstcol,frscol,i)\n",
    "    res =[]\n",
    "    for pattern in patterns:\n",
    "        res.append( BWMATCHING(frscol,lstcol,pattern,themap))\n",
    "    res = map(str,res)\n",
    "    print(\" \".join(res))"
   ]
  },
  {
   "cell_type": "code",
   "execution_count": null,
   "id": "927f6b3f",
   "metadata": {},
   "outputs": [],
   "source": []
  }
 ],
 "metadata": {
  "kernelspec": {
   "display_name": "Python 3 (ipykernel)",
   "language": "python",
   "name": "python3"
  },
  "language_info": {
   "codemirror_mode": {
    "name": "ipython",
    "version": 3
   },
   "file_extension": ".py",
   "mimetype": "text/x-python",
   "name": "python",
   "nbconvert_exporter": "python",
   "pygments_lexer": "ipython3",
   "version": "3.9.12"
  }
 },
 "nbformat": 4,
 "nbformat_minor": 5
}
