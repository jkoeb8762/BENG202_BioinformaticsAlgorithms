{
 "cells": [
  {
   "cell_type": "code",
   "execution_count": 4,
   "id": "5dd98b95",
   "metadata": {},
   "outputs": [],
   "source": [
    "def InverseBWT(text):\n",
    "    n = len(text)\n",
    "    right_col = []\n",
    "    counts = {}\n",
    "    for char in text:\n",
    "        if char not in counts:\n",
    "            counts[char] = 1\n",
    "        else:\n",
    "            counts[char] += 1\n",
    "        count = counts[char]\n",
    "        working = char + str(count)\n",
    "        right_col.append(working)\n",
    "    left_col = sorted(right_col, key=lambda x: x[0])\n",
    "    row = []\n",
    "    row.append('$1')\n",
    "    for i in range(n-1):\n",
    "        last = row[i]\n",
    "        for index, char in enumerate(right_col):\n",
    "            if char == last:\n",
    "                idx = index\n",
    "                break\n",
    "        row.append(left_col[idx])\n",
    "    output = ''\n",
    "    m = len(row)\n",
    "    for i in range(1, m):\n",
    "        output += ''.join(x for x in row[i] if not x.isdigit())\n",
    "    output += '$'\n",
    "    return output"
   ]
  },
  {
   "cell_type": "code",
   "execution_count": 8,
   "id": "8c79c84f",
   "metadata": {},
   "outputs": [
    {
     "data": {
      "text/plain": [
       "'twelveplusone$'"
      ]
     },
     "execution_count": 8,
     "metadata": {},
     "output_type": "execute_result"
    }
   ],
   "source": [
    "InverseBWT('enwvpeoseu$llt')"
   ]
  },
  {
   "cell_type": "code",
   "execution_count": 6,
   "id": "b4cd4864",
   "metadata": {},
   "outputs": [],
   "source": [
    "text = \"CCCCTGACCTCTGGACGAGGAGACTGCGGTGTATCGCCCGACCCGTACATACCGCTGTCGCGTCCCTCCGCGCGTGATATCTTAAGCTAAACACCGTCATCGTAAAAAAAAATATCCTTTGCTCGATCCGGCGGACGTGTATGTAGCGGAAGCTGGACCTTCGTTCGAGTCATTGGTTAGCACAGAGCGCGCATTGCTGAGTCCTGGTTGGCGTTCAACGACGGTCACTGTGGCACCTGACGCCCCACTAAGCCCTAGTGACACTTCCGAAGTGTACGTTACAATCTTGCGAAGAATGGTGCAGCGATTCATCATGGACGAGCGTGTAGGGGCGGAATGGCCGTAGCTCATATTGAGCCGCAGGAGTTACTCGTCGTGCGCGAATCCAATGAGTCTACAAGATTACATCATCACACAACGATCCGACCCTCCCAGAAACGCCATATCATAAGACATACATTCTCACGCTTACCTACAGTGTGCAGCATGACACACTCACACGACC$AGACGTTTCCGGTCACGAAGTCTGTACGACGGCCTGGCGGCGTTAGTGGCCGGGTGTTCACTTATCCTTGTAGCTACAGTCGTAAGGACGGAGATTTCTCTTGAACACTGCCGACAATAGCTAAGTGTACCATCTGCTCGAATAGCAGTCAATTACGCTAACTCACCAAACGTATGTAGTCGAAAGGGGGGACCATTAATGTTGGCACGCCGTCTATAGGTAGTACGGGGCGGTCCCCAAAGACTACCGCCGTTGATATACAGCTGGTACTGTGAGAAGGATAATACTTTGGTACAATAGGCGGGCAGGATCACTGAGGACCCGACGGTGGAACGACCGATATAAGTGCGTCCGATGTGCACGTTCCCTAGTCTAGCAAAATTGACACGTCTGACAGCAGAACCGGGAAAGAACTCTAGGATGTTTGATGGAGACTGACCATCCAGTACCTTCCCAGGCTTACA\""
   ]
  },
  {
   "cell_type": "code",
   "execution_count": 7,
   "id": "d7b092a6",
   "metadata": {},
   "outputs": [
    {
     "data": {
      "text/plain": [
       "'GAACCCTCAAGCTGAGTAGCCACATGGATCGAGCGTTACAAGGGTTATAGGGCAGACACATATCGGCATAGGCCATTTTGTGAACGTGTCCCGTGATGCAAACGACGCAGCCTTGGACTGGTCAGGCATTGATGCATGTCCTGCACAGAGACATTCACTGTGTACTGGATACCCGGTCTGGCCGTTTCGATATCATGCAGGCGTACCTTTACTCACCTTCTGAGTCGAGCCTCACTCTCCAAGGTGCTGATGTATGCCGCCTCGAAACGTCACAGATTCGTGTAGAACCTCGAACTTTGACGGGCCAATTTGTTGATTAGTACCGAACGCCGCTCATGTATGGCGCCTTTTGCCCGAGGTATAGCCAAAGTGACCTTCCCTGGACATGATCCGTCAACGAAGCTGCGAGACCAAGTTCACCGCCACGATAGGTCCATGCCGTACGCATTAAGATGGGGAATATATCCCCGATGCATTTAGGCCAGTTACGCGGAGCATACAGGCACAGGAAGTCCGGATAGGAGAGAGTTAGTCAATGCACATTGCCCTGTCTAGGTGGAGGAGGAACGGTAAATGGAGGGTGGTCTAACCCCGGCTGGTATTACACGCCGCAAGGATCCGGGACCATCGTCATCAATACTTCTATGGTAATCTGAGCTGACAAACCTCTCCCGCAGTCTCTACTAACGTGGCCACAAAAGCCAAATTATCGCAACGTTAAGCCTATCACATAATGTCCGGAGTTTAGTAGCCCCCACTCCTACCATACGGGTCGTCCCTCCAAATGAACTAAACGGGTGCACAACGTCATCCTTGATACACACACGAGCACTTGGAACGACACGATGTATAGCAGGGTGGGAGTACTGAACGTTCGCGGGTAACTACCGCTTTACTGCCGGAGGGATCACGGAGCCATTCTTGACTTTACCGGCCAGAACGAGGATCAGGTGCCGACAAGTTAGGGTC$'"
      ]
     },
     "execution_count": 7,
     "metadata": {},
     "output_type": "execute_result"
    }
   ],
   "source": [
    "InverseBWT(text)"
   ]
  },
  {
   "cell_type": "code",
   "execution_count": null,
   "id": "1a19e659",
   "metadata": {},
   "outputs": [],
   "source": []
  }
 ],
 "metadata": {
  "kernelspec": {
   "display_name": "Python 3 (ipykernel)",
   "language": "python",
   "name": "python3"
  },
  "language_info": {
   "codemirror_mode": {
    "name": "ipython",
    "version": 3
   },
   "file_extension": ".py",
   "mimetype": "text/x-python",
   "name": "python",
   "nbconvert_exporter": "python",
   "pygments_lexer": "ipython3",
   "version": "3.9.12"
  }
 },
 "nbformat": 4,
 "nbformat_minor": 5
}
