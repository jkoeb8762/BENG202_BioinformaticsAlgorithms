{
 "cells": [
  {
   "cell_type": "code",
   "execution_count": 42,
   "id": "82fb7cc0",
   "metadata": {},
   "outputs": [],
   "source": [
    "def middle_edge(s, t, match_reward, mismatch_penalty, indel_penalty):\n",
    "    def score(a, b):\n",
    "        if a == b:\n",
    "            return match_reward\n",
    "        return -mismatch_penalty\n",
    "\n",
    "    def update(j, previous, current):\n",
    "        current[0] = -j * indel_penalty\n",
    "        for i in range(1, len(s) + 1):\n",
    "            match = previous[i-1] + score(s[i-1], t[j-1])\n",
    "            delete = previous[i] - indel_penalty\n",
    "            insert = current[i-1] - indel_penalty\n",
    "            current[i] = max(match, delete, insert)\n",
    "        return current, previous\n",
    "\n",
    "    def explore(limit):\n",
    "        previous = [-i * indel_penalty for i in range(len(s) + 1)]\n",
    "        current = [0] * (len(s) + 1)\n",
    "        for j in range(1, limit + 1):\n",
    "            current, previous = update(j, previous, current)\n",
    "        return current\n",
    "\n",
    "    middle_column = len(t) // 2\n",
    "    from_source = explore(middle_column)\n",
    "    to_sink = explore(len(t) - middle_column)\n",
    "\n",
    "    lengths = [a + b for a, b in zip(from_source, reversed(to_sink))]\n",
    "    max_index = lengths.index(max(lengths))\n",
    "    return (max_index, middle_column), (max_index + 1, middle_column + 1)"
   ]
  },
  {
   "cell_type": "code",
   "execution_count": 22,
   "id": "95af33e5",
   "metadata": {},
   "outputs": [
    {
     "name": "stdout",
     "output_type": "stream",
     "text": [
      "2 1\n",
      "3 2\n"
     ]
    }
   ],
   "source": [
    "import io\n",
    "#with open(\"MiddleEdge\\inputs\\input_7.txt\") as f:\n",
    "with open(\"test\\MiddleEdge\\inputs\\input_6.txt\") as f:\n",
    "    lines = f.read().splitlines()\n",
    "    match_reward, mismatch_penalty, gap_opening_penalty = [int(x) for x in lines[0].split()]\n",
    "    s1 = lines[1].strip()\n",
    "    s2 = lines[2].strip()\n",
    "    start, end = middle_edge(match_reward, mismatch_penalty, indel_penalty, s1, s2)\n",
    "    print(start[0], start[1])\n",
    "    print(end[0], end[1])"
   ]
  },
  {
   "cell_type": "code",
   "execution_count": 48,
   "id": "529b4794",
   "metadata": {},
   "outputs": [
    {
     "name": "stdout",
     "output_type": "stream",
     "text": [
      "(3, 1)\n",
      "(3, 2)\n"
     ]
    }
   ],
   "source": [
    "# Test\n",
    "match_reward = 1\n",
    "mismatch_penalty = 1\n",
    "indel_penalty = 2\n",
    "s = \"GAGA\"\n",
    "t = \"GAT\"\n",
    "start, end = middle_edge(s, t, match_reward, mismatch_penalty, indel_penalty)\n",
    "\n",
    "print(start)\n",
    "print(end)"
   ]
  },
  {
   "cell_type": "code",
   "execution_count": 40,
   "id": "e899fa27",
   "metadata": {},
   "outputs": [
    {
     "data": {
      "text/plain": [
       "'GAT'"
      ]
     },
     "execution_count": 40,
     "metadata": {},
     "output_type": "execute_result"
    }
   ],
   "source": [
    "seq2"
   ]
  },
  {
   "cell_type": "code",
   "execution_count": null,
   "id": "47d9e922",
   "metadata": {},
   "outputs": [],
   "source": []
  }
 ],
 "metadata": {
  "kernelspec": {
   "display_name": "Python 3 (ipykernel)",
   "language": "python",
   "name": "python3"
  },
  "language_info": {
   "codemirror_mode": {
    "name": "ipython",
    "version": 3
   },
   "file_extension": ".py",
   "mimetype": "text/x-python",
   "name": "python",
   "nbconvert_exporter": "python",
   "pygments_lexer": "ipython3",
   "version": "3.9.13"
  }
 },
 "nbformat": 4,
 "nbformat_minor": 5
}
