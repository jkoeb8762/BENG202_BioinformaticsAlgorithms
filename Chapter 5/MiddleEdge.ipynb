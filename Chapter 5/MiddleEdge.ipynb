{
 "cells": [
  {
   "cell_type": "code",
   "execution_count": 34,
   "id": "82fb7cc0",
   "metadata": {},
   "outputs": [],
   "source": [
    "#Note: passed by chance. IMPLEMENTATION DOES NOT WORK AS INTENDED\n",
    "#Might be problem seq2ith test dataset. \n",
    "def MiddleColumn(seq1, seq2, match, mismatch, penalty):\n",
    "    n = len(seq1)\n",
    "    m = len(seq2)\n",
    "    s = [[i * j * penalty for i in range(-1, 1)] for j in range(n + 1)]\n",
    "    s[0][1] = -penalty\n",
    "    backtrack = [0] * (n + 1)\n",
    "    for j in range(1, m // 2 + 1):\n",
    "        for i in range(0, n + 1):\n",
    "            if i == 0:\n",
    "                s[i][1] = -j * penalty\n",
    "            else:\n",
    "                if seq1[i-1] == seq2[j-1]:\n",
    "                    working = match \n",
    "                else:\n",
    "                    working = -mismatch\n",
    "                scores = [s[i - 1][0] + working, s[i][0] - penalty, s[i - 1][1] - penalty]\n",
    "                s[i][1] = max(scores)\n",
    "                backtrack[i] = scores.index(s[i][1])\n",
    "        if j != m // 2:\n",
    "            s = [[row[1]] * 2 for row in s]\n",
    "    return [i[1] for i in s], backtrack\n",
    "\n",
    "\n",
    "def MiddleEdge (seq1, seq2, match, mismatch, penalty):\n",
    "    source = MiddleColumn(seq1, seq2, match, mismatch, penalty)[0]\n",
    "    MiddleToSink, backtrack = list(map(lambda l: l[::-1], MiddleColumn(seq1[::-1], seq2[::-1] + ['', ''][\n",
    "        len(seq2) % 2 == 1 and len(seq2) > 1], match, mismatch, penalty)))\n",
    "    scores = list(map(sum, zip(source, MiddleToSink)))\n",
    "    max_mid = max(range(len(scores)), key = lambda i: scores[i])\n",
    "    if max_mid != len(scores) - 1:\n",
    "        next_node = [(max_mid + 1, len(seq2) // 2 + 1), (max_mid, len(seq2) // 2 + 1), (max_mid + 1, len(seq2) // 2)][backtrack[max_mid]]\n",
    "    else:\n",
    "        next_node = (max_mid, len(seq2) // 2 + 1)\n",
    "    return (max_mid, len(seq2) // 2), next_node\n"
   ]
  },
  {
   "cell_type": "code",
   "execution_count": 25,
   "id": "bbfd1d09",
   "metadata": {},
   "outputs": [
    {
     "name": "stdout",
     "output_type": "stream",
     "text": [
      "0 0 1 0\n"
     ]
    }
   ],
   "source": [
    "with open(\"MiddleEdge\\outputs\\output_7.txt\") as f:\n",
    "    lines = f.read().splitlines()\n",
    "    print(lines[0], lines[1])"
   ]
  },
  {
   "cell_type": "code",
   "execution_count": 35,
   "id": "95af33e5",
   "metadata": {},
   "outputs": [
    {
     "name": "stdout",
     "output_type": "stream",
     "text": [
      "((462, 450), (463, 451))\n"
     ]
    }
   ],
   "source": [
    "import io\n",
    "#with open(\"MiddleEdge\\inputs\\input_7.txt\") as f:\n",
    "with open(\"dataset_865692_12.txt\") as f:\n",
    "    lines = f.read().splitlines()\n",
    "    match_reward, mismatch_penalty, gap_opening_penalty = [int(x) for x in lines[0].split()]\n",
    "    seq1 = lines[1].strip()\n",
    "    seq2 = lines[2].strip()\n",
    "    print(mid_edge(seq2, seq1, match_reward, mismatch_penalty, gap_opening_penalty))"
   ]
  },
  {
   "cell_type": "code",
   "execution_count": null,
   "id": "db8e6169",
   "metadata": {},
   "outputs": [],
   "source": []
  }
 ],
 "metadata": {
  "kernelspec": {
   "display_name": "Python 3 (ipykernel)",
   "language": "python",
   "name": "python3"
  },
  "language_info": {
   "codemirror_mode": {
    "name": "ipython",
    "version": 3
   },
   "file_extension": ".py",
   "mimetype": "text/x-python",
   "name": "python",
   "nbconvert_exporter": "python",
   "pygments_lexer": "ipython3",
   "version": "3.9.12"
  }
 },
 "nbformat": 4,
 "nbformat_minor": 5
}
