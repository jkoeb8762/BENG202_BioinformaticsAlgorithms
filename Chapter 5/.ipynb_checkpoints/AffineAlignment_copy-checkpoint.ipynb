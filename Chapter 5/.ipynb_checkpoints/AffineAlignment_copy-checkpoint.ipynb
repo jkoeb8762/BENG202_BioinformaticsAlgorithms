{
 "cells": [
  {
   "cell_type": "code",
   "execution_count": 46,
   "id": "9c9b713f",
   "metadata": {},
   "outputs": [],
   "source": [
    "def backtrackstring(v,w,s,backtrack):\n",
    "    n = len(v)\n",
    "    m = len(w)\n",
    "    \n",
    "    i = n-1\n",
    "    j = m-1\n",
    "    \n",
    "    vv=[]\n",
    "    ww=[]\n",
    "    while i>=0 and j>=0:\n",
    "        if backtrack[i][j] == 'g':\n",
    "            vv.append(v[i])\n",
    "            ww.append(w[j])\n",
    "            i-=1\n",
    "            j-=1\n",
    "        elif backtrack[i][j] == 'd':\n",
    "            vv.append(v[i])\n",
    "            ww.append(\"-\")\n",
    "            i-=1\n",
    "        elif backtrack[i][j] == 'r':\n",
    "            vv.append(\"-\")\n",
    "            ww.append(w[j])\n",
    "            j-=1\n",
    "                \n",
    "    return s[n][m],''.join(reversed(vv)),''.join(reversed(ww))\n",
    "\n",
    "def affineAllign(v,w, match, mismatch, epsilon = 1,sigma = 11):\n",
    "    n = len(v)\n",
    "    m=  len(w)\n",
    "    \n",
    "    s_low = [[0 for j in range(m+1)] for i in range(n+1)]\n",
    "    s_mid = [[0 for j in range(m+1)] for i in range(n+1)]\n",
    "    s_up = [[0 for j in range(m+1)] for i in range(n+1)]\n",
    "    \n",
    "    backtrack=[['' for j in range(m)] for i in range(n)]\n",
    "    \n",
    "    for i in range(1,n+1):\n",
    "        for j in range(1,m+1):\n",
    "            s_low[i][j] = max(s_low[i-1][j] - epsilon,s_mid[i-1][j] - sigma)\n",
    "            s_up[i][j] = max(s_up[i][j-1] - epsilon,s_mid[i][j-1] - sigma)\n",
    "            \n",
    "            sd = s_low[i][j]\n",
    "            sr = s_up[i][j]\n",
    "            if v[i-1] == w[j-1]:\n",
    "                diag = s_mid[i-1][j-1] + match\n",
    "            else: \n",
    "                diag = s_mid[i-1][j-1] - mismatch\n",
    "            sg = diag\n",
    "            \n",
    "            s_mid[i][j] = max(sd,sr,sg)\n",
    "            \n",
    "            if s_mid[i][j] == sd:\n",
    "                backtrack[i-1][j-1]='d'\n",
    "            elif s_mid[i][j] == sr:\n",
    "                backtrack[i-1][j-1] = 'r'\n",
    "            else:\n",
    "                backtrack[i-1][j-1] = 'g'\n",
    "            \n",
    "    \n",
    "    return backtrackstring(v, w, s_mid, backtrack)"
   ]
  },
  {
   "cell_type": "code",
   "execution_count": 48,
   "id": "8777703e",
   "metadata": {},
   "outputs": [
    {
     "ename": "NameError",
     "evalue": "name 'matrix' is not defined",
     "output_type": "error",
     "traceback": [
      "\u001b[1;31m---------------------------------------------------------------------------\u001b[0m",
      "\u001b[1;31mNameError\u001b[0m                                 Traceback (most recent call last)",
      "Input \u001b[1;32mIn [48]\u001b[0m, in \u001b[0;36m<cell line: 2>\u001b[1;34m()\u001b[0m\n\u001b[0;32m      6\u001b[0m seq1 \u001b[38;5;241m=\u001b[39m lines[\u001b[38;5;241m1\u001b[39m]\u001b[38;5;241m.\u001b[39mstrip()\n\u001b[0;32m      7\u001b[0m seq2 \u001b[38;5;241m=\u001b[39m lines[\u001b[38;5;241m2\u001b[39m]\u001b[38;5;241m.\u001b[39mstrip()\n\u001b[1;32m----> 8\u001b[0m \u001b[38;5;28mprint\u001b[39m(\u001b[43mAffineAlignment\u001b[49m\u001b[43m(\u001b[49m\u001b[43mseq1\u001b[49m\u001b[43m,\u001b[49m\u001b[43m \u001b[49m\u001b[43mseq2\u001b[49m\u001b[43m,\u001b[49m\u001b[43m  \u001b[49m\u001b[43mmatch_reward\u001b[49m\u001b[43m,\u001b[49m\u001b[43m \u001b[49m\u001b[43mmismatch_penalty\u001b[49m\u001b[43m,\u001b[49m\u001b[43m \u001b[49m\u001b[43mgap_opening_penalty\u001b[49m\u001b[43m,\u001b[49m\u001b[43m \u001b[49m\u001b[43mgap_extension_penalty\u001b[49m\u001b[43m)\u001b[49m)\n",
      "Input \u001b[1;32mIn [46]\u001b[0m, in \u001b[0;36mAffineAlignment\u001b[1;34m(v, w, match, mismatch, gap_open, gap_extension)\u001b[0m\n\u001b[0;32m     71\u001b[0m \u001b[38;5;28;01melif\u001b[39;00m middle[i][j] \u001b[38;5;241m==\u001b[39m upper[i][j]:\n\u001b[0;32m     72\u001b[0m \tbacktrack[i][j] \u001b[38;5;241m=\u001b[39m \u001b[38;5;124m\"\u001b[39m\u001b[38;5;124mh\u001b[39m\u001b[38;5;124m\"\u001b[39m\n\u001b[1;32m---> 73\u001b[0m \u001b[38;5;28;01melif\u001b[39;00m middle[i][j] \u001b[38;5;241m==\u001b[39m middle[i\u001b[38;5;241m-\u001b[39m\u001b[38;5;241m1\u001b[39m][j\u001b[38;5;241m-\u001b[39m\u001b[38;5;241m1\u001b[39m]\u001b[38;5;241m+\u001b[39m\u001b[43mmatrix\u001b[49m[v[i\u001b[38;5;241m-\u001b[39m\u001b[38;5;241m1\u001b[39m]][w[j\u001b[38;5;241m-\u001b[39m\u001b[38;5;241m1\u001b[39m]]:\n\u001b[0;32m     74\u001b[0m \tbacktrack[i][j] \u001b[38;5;241m=\u001b[39m \u001b[38;5;124m\"\u001b[39m\u001b[38;5;124md\u001b[39m\u001b[38;5;124m\"\u001b[39m\n\u001b[0;32m     75\u001b[0m \u001b[38;5;28;01melse\u001b[39;00m:\n",
      "\u001b[1;31mNameError\u001b[0m: name 'matrix' is not defined"
     ]
    }
   ],
   "source": [
    "import io\n",
    "with open(\"AffineAlignment\\inputs\\input_10.txt\") as f:\n",
    "#with open(\"dataset_865691_8.txt\") as f:    \n",
    "    lines = f.read().splitlines()\n",
    "    match_reward, mismatch_penalty, gap_opening_penalty, gap_extension_penalty = [int(x) for x in lines[0].split()]\n",
    "    seq1 = lines[1].strip()\n",
    "    seq2 = lines[2].strip()\n",
    "    print(AffineAlignment(seq1, seq2,  match_reward, mismatch_penalty, gap_opening_penalty, gap_extension_penalty))"
   ]
  },
  {
   "cell_type": "code",
   "execution_count": 40,
   "id": "af6910ab",
   "metadata": {},
   "outputs": [
    {
     "name": "stdout",
     "output_type": "stream",
     "text": [
      "8 ATCTTGTATAATAAAATCGAGATTGGGCGTG--GACAATACTCCTCGAAGAGACA-GCCA-ATTAC-C---CCTCTTC---G-CAGAACCAAG----CCTATTGGG ATCTTGTATAAT----TCGAGATTGTGCCTGCCGACAATACGCCTCGAAG-GACAAGCCAC--TACGCTATCCTCTTCCGTGTCAGATCCAAGAGTGCTTATTGGG\n"
     ]
    }
   ],
   "source": [
    "with open(\"AffineAlignment\\outputs\\output_10.txt\") as f:\n",
    "    lines = f.read().splitlines()\n",
    "    score = lines[0]\n",
    "    seq1 = lines[1].strip()\n",
    "    seq2 = lines[2].strip()\n",
    "    print(score, seq1,seq2)"
   ]
  },
  {
   "cell_type": "code",
   "execution_count": null,
   "id": "5e6011cd",
   "metadata": {},
   "outputs": [],
   "source": []
  }
 ],
 "metadata": {
  "kernelspec": {
   "display_name": "Python 3 (ipykernel)",
   "language": "python",
   "name": "python3"
  },
  "language_info": {
   "codemirror_mode": {
    "name": "ipython",
    "version": 3
   },
   "file_extension": ".py",
   "mimetype": "text/x-python",
   "name": "python",
   "nbconvert_exporter": "python",
   "pygments_lexer": "ipython3",
   "version": "3.9.12"
  }
 },
 "nbformat": 4,
 "nbformat_minor": 5
}
