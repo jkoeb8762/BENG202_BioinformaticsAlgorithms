{
 "cells": [
  {
   "cell_type": "code",
   "execution_count": 78,
   "id": "38584cd8",
   "metadata": {},
   "outputs": [
    {
     "name": "stdout",
     "output_type": "stream",
     "text": [
      "9 7 5 4 2 28 31 27 25 23 1 8 32 30 38 11 10 0 3 6 19 29 13 18 39 14 15 12 46 26 21 36 22 16 43 34 41 24 33 17 42 40 45 37 35 44 "
     ]
    }
   ],
   "source": [
    "#f = open('TopologicalOrdering\\inputs\\input_1.txt', 'r')\n",
    "f = open('dataset_865696_3.txt', 'r')\n",
    "line_list = f.readlines()\n",
    "\n",
    "def ParseGraph(lines):\n",
    "    graph = {}\n",
    "    for line in lines:\n",
    "        key, vals = line.split(': ')\n",
    "        graph[int(key)] = [int(val) for val in vals.split(' ')]\n",
    "    return graph\n",
    "\n",
    "G = ParseGraph(line_list)\n",
    "\n",
    "def DFS(graph, s, explored, distance, current_label):\n",
    "    explored.add(s)\n",
    "    if s in graph:\n",
    "        for v in graph[s]: # for every edge (s, v)\n",
    "            if v not in explored:\n",
    "                DFS(graph, v, explored, distance, current_label)\n",
    "    distance[current_label[0]] = s\n",
    "    current_label[0] -= 1\n",
    "\n",
    "\"\"\"Performs and outputs a topological sort of graph G using dfs\n",
    "    Input: G - the input graph in the adjacency list representation via a dictionary\n",
    "    distance - a dictionary representing the topological order of the vertices\"\"\"\n",
    "def TopologicalSort(graph, distance):\n",
    "    explored = set()\n",
    "    n = len(graph)\n",
    "    working = [n]\n",
    "    for v in graph.keys():\n",
    "        if v not in explored:\n",
    "            DFS(graph, v, explored, distance, working)\n",
    "            \n",
    "distance = {}\n",
    "TopologicalSort(G, distance)\n",
    "topo = iter(sorted(distance.items()))\n",
    "for _, vertex in topo:\n",
    "    print(str(vertex) + \"\", end = \" \")"
   ]
  },
  {
   "cell_type": "code",
   "execution_count": null,
   "id": "32c1b2dd",
   "metadata": {},
   "outputs": [],
   "source": []
  }
 ],
 "metadata": {
  "kernelspec": {
   "display_name": "Python 3 (ipykernel)",
   "language": "python",
   "name": "python3"
  },
  "language_info": {
   "codemirror_mode": {
    "name": "ipython",
    "version": 3
   },
   "file_extension": ".py",
   "mimetype": "text/x-python",
   "name": "python",
   "nbconvert_exporter": "python",
   "pygments_lexer": "ipython3",
   "version": "3.9.12"
  }
 },
 "nbformat": 4,
 "nbformat_minor": 5
}
