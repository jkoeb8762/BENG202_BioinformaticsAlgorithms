{
 "cells": [
  {
   "cell_type": "code",
   "execution_count": 36,
   "id": "82fb7cc0",
   "metadata": {},
   "outputs": [],
   "source": [
    "def middle_edge(seq1, seq2, match_reward, mismatch_penalty, indel_penalty):\n",
    "    middle = len(seq2) // 2\n",
    "    \n",
    "    # Helper function to calculate score\n",
    "    def score(x, y):\n",
    "        if x == y:\n",
    "            return match_reward\n",
    "        return -mismatch_penalty\n",
    "    \n",
    "    # Compute scores for the first half of seq2 (up to middle)\n",
    "    current = [(i * indel_penalty) for i in range(len(seq1) + 1)]\n",
    "    for j in range(1, middle + 1):\n",
    "        previous, current = current, [j * indel_penalty]\n",
    "        for i in range(1, len(seq1) + 1):\n",
    "            match = previous[i-1] + score(seq1[i-1], seq2[j-1])\n",
    "            delete = previous[i] - indel_penalty\n",
    "            insert = current[-1] - indel_penalty\n",
    "            current.append(max(match, delete, insert))\n",
    "\n",
    "    # Compute scores for the second half of seq2 (from end to middle)\n",
    "    current_reverse = [(i * indel_penalty) for i in range(len(seq1) + 1)]\n",
    "    for j in range(len(seq2), middle, -1):\n",
    "        previous_reverse, current_reverse = current_reverse, [(len(seq2) - j + 1) * indel_penalty]\n",
    "        for i in range(1, len(seq1) + 1):\n",
    "            match = previous_reverse[i-1] + score(seq1[-i], seq2[-(len(seq2) - j + 1)])\n",
    "            delete = previous_reverse[i] - indel_penalty\n",
    "            insert = current_reverse[-1] - indel_penalty\n",
    "            current_reverse.append(max(match, delete, insert))\n",
    "    \n",
    "    current_reverse = current_reverse[::-1]\n",
    "    \n",
    "    # Combine results to determine middle edge\n",
    "    total_scores = [c + cr for c, cr in zip(current, current_reverse)]\n",
    "    node_from = max(range(len(seq1) + 1), key=lambda i: total_scores[i])\n",
    "    \n",
    "    # Deciding next node (node_to)\n",
    "    options = []\n",
    "    if node_from > 0:\n",
    "        options.append(current[node_from-1] - indel_penalty + current_reverse[node_from-1])\n",
    "    else:\n",
    "        options.append(float('-inf'))\n",
    "        \n",
    "    options.append(current[node_from] - indel_penalty + current_reverse[node_from])\n",
    "    options.append(current[node_from] + score(seq1[node_from-1], seq2[middle]) + current_reverse[node_from - 1])\n",
    "    \n",
    "    direction = options.index(max(options))\n",
    "    \n",
    "    if direction == 0:\n",
    "        node_to = (node_from - 1, middle)\n",
    "    elif direction == 1:\n",
    "        node_to = (node_from, middle + 1)\n",
    "    else:\n",
    "        node_to = (node_from - 1, middle + 1)\n",
    "    \n",
    "    return (node_from, middle), node_to"
   ]
  },
  {
   "cell_type": "code",
   "execution_count": 22,
   "id": "95af33e5",
   "metadata": {},
   "outputs": [
    {
     "name": "stdout",
     "output_type": "stream",
     "text": [
      "2 1\n",
      "3 2\n"
     ]
    }
   ],
   "source": [
    "import io\n",
    "#with open(\"MiddleEdge\\inputs\\input_7.txt\") as f:\n",
    "with open(\"test\\MiddleEdge\\inputs\\input_6.txt\") as f:\n",
    "    lines = f.read().splitlines()\n",
    "    match_reward, mismatch_penalty, gap_opening_penalty = [int(x) for x in lines[0].split()]\n",
    "    s1 = lines[1].strip()\n",
    "    s2 = lines[2].strip()\n",
    "    start, end = middle_edge(match_reward, mismatch_penalty, indel_penalty, s1, s2)\n",
    "    print(start[0], start[1])\n",
    "    print(end[0], end[1])"
   ]
  },
  {
   "cell_type": "code",
   "execution_count": 38,
   "id": "082964ee",
   "metadata": {},
   "outputs": [
    {
     "name": "stdout",
     "output_type": "stream",
     "text": [
      "(0, 2)\n",
      "(-1, 3)\n"
     ]
    }
   ],
   "source": [
    "# Test\n",
    "input_data = \"1 1 2\\nGAGA\\nGAT\"\n",
    "lines = input_data.strip().split(\"\\n\")\n",
    "match_reward, mismatch_penalty, indel_penalty = map(int, lines[0].split())\n",
    "seq1 = lines[1]\n",
    "seq2 = lines[2]\n",
    "start, end = middle_edge(seq1, seq2, match_reward, mismatch_penalty, indel_penalty)\n",
    "\n",
    "print(start)\n",
    "print(end)"
   ]
  },
  {
   "cell_type": "code",
   "execution_count": 40,
   "id": "d86f6cb3",
   "metadata": {},
   "outputs": [
    {
     "data": {
      "text/plain": [
       "'GAT'"
      ]
     },
     "execution_count": 40,
     "metadata": {},
     "output_type": "execute_result"
    }
   ],
   "source": [
    "seq2"
   ]
  },
  {
   "cell_type": "code",
   "execution_count": null,
   "id": "7ab35948",
   "metadata": {},
   "outputs": [],
   "source": []
  }
 ],
 "metadata": {
  "kernelspec": {
   "display_name": "Python 3 (ipykernel)",
   "language": "python",
   "name": "python3"
  },
  "language_info": {
   "codemirror_mode": {
    "name": "ipython",
    "version": 3
   },
   "file_extension": ".py",
   "mimetype": "text/x-python",
   "name": "python",
   "nbconvert_exporter": "python",
   "pygments_lexer": "ipython3",
   "version": "3.9.13"
  }
 },
 "nbformat": 4,
 "nbformat_minor": 5
}
