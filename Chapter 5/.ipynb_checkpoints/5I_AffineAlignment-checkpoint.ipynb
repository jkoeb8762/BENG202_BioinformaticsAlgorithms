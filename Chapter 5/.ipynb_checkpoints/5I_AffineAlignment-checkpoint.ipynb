{
 "cells": [
  {
   "cell_type": "code",
   "execution_count": 15,
   "id": "5d0d895e",
   "metadata": {},
   "outputs": [],
   "source": [
    "def matrix_helper(x, y):\n",
    "    return [[0]*y for i in range(x)]\n",
    "\n",
    "def AffineAlignment(match_reward, mismatch_penalty, gap_opening_penalty, gap_extension_penalty, seq1, seq2):\n",
    "    n = len(seq1)\n",
    "    m = len(seq2)\n",
    "    \n",
    "    # Three matrices for lower, middle, and upper\n",
    "    lower = matrix_helper(n+1, m+1)\n",
    "    middle = matrix_helper(n+1, m+1)\n",
    "    upper = matrix_helper(n+1, m+1)\n",
    "    backtrack = [[[0 for j in range(m+1)] for i in range(n+1)] for k in range(3)]\n",
    "    \n",
    "    for i in range(1, n+1):\n",
    "        lower[i][0] = -gap_opening_penalty - gap_extension_penalty * (i-1)\n",
    "        middle[i][0] = -gap_opening_penalty - gap_extension_penalty * (i-1)\n",
    "        upper[i][0] = -10*gap_opening_penalty\n",
    "    for j in range(1, m+1):\n",
    "        lower[0][j] = -10*gap_opening_penalty\n",
    "        middle[0][j] = -gap_opening_penalty - gap_extension_penalty * (j-1)\n",
    "        upper[0][j] = -gap_opening_penalty - gap_extension_penalty * (j-1)\n",
    "    \n",
    "    for i in range(1, n+1):\n",
    "        for j in range(1, m+1):\n",
    "            lower[i][j] = max(lower[i-1][j] - gap_extension_penalty, middle[i-1][j] - gap_opening_penalty)\n",
    "            upper[i][j] = max(upper[i][j-1] - gap_extension_penalty, middle[i][j-1] - gap_opening_penalty)\n",
    "            \n",
    "            if seq1[i-1] == seq2[j-1]:\n",
    "                diag = middle[i - 1][j - 1] + match_reward\n",
    "            else: \n",
    "                diag = middle[i - 1][j - 1] - mismatch_penalty\n",
    "            \n",
    "            middle_scores = [lower[i][j], diag, upper[i][j]]\n",
    "            middle[i][j] = max(middle_scores)\n",
    "            backtrack[1][i][j] = middle_scores.index(middle[i][j])\n",
    "            backtrack[0][i][j] = [lower[i-1][j] - gap_extension_penalty, middle[i-1][j] - gap_opening_penalty].index(lower[i][j])\n",
    "            backtrack[2][i][j] = [upper[i][j-1] - gap_extension_penalty, middle[i][j-1] - gap_opening_penalty].index(upper[i][j])\n",
    "\n",
    "    # Initialize the aligned sequences\n",
    "    i, j = n, m\n",
    "    v_aligned, w_aligned = seq1, seq2\n",
    "    matrix_scores = [lower[i][j], middle[i][j], upper[i][j]]\n",
    "    backtrack_matrix = matrix_scores.index(max(matrix_scores))\n",
    "    \n",
    "    insert_indel = lambda word, i: word[:i] + '-' + word[i:]\n",
    "\n",
    "    while i*j != 0:\n",
    "        if backtrack_matrix == 0:\n",
    "            if backtrack[0][i][j] == 1:\n",
    "                backtrack_matrix = 1\n",
    "            i -= 1\n",
    "            w_aligned = insert_indel(w_aligned, j)\n",
    "        elif backtrack_matrix == 1:\n",
    "            if backtrack[1][i][j] == 0:\n",
    "                backtrack_matrix = 0\n",
    "            elif backtrack[1][i][j] == 2:\n",
    "                backtrack_matrix = 2\n",
    "            else:\n",
    "                i -= 1\n",
    "                j -= 1\n",
    "        else:\n",
    "            if backtrack[2][i][j] == 1:\n",
    "                backtrack_matrix = 1\n",
    "            j -= 1\n",
    "            v_aligned = insert_indel(v_aligned, i)\n",
    "    \n",
    "    for _ in range(i):\n",
    "        w_aligned = insert_indel(w_aligned, 0)\n",
    "    for _ in range(j):\n",
    "        v_aligned = insert_indel(v_aligned, 0)\n",
    "\n",
    "    return middle[n][m], v_aligned, w_aligned"
   ]
  },
  {
   "cell_type": "code",
   "execution_count": 16,
   "id": "163c4f98",
   "metadata": {},
   "outputs": [
    {
     "data": {
      "text/plain": [
       "(-1, 'G--A', 'GTTA')"
      ]
     },
     "execution_count": 16,
     "metadata": {},
     "output_type": "execute_result"
    }
   ],
   "source": [
    "seq1 = \"GA\"\n",
    "seq2 = \"GTTA\"\n",
    "AffineAlignment(1,3,2,1, seq1,seq2)"
   ]
  },
  {
   "cell_type": "code",
   "execution_count": 17,
   "id": "75b4cfc5",
   "metadata": {},
   "outputs": [
    {
     "name": "stdout",
     "output_type": "stream",
     "text": [
      "(-21, 'GGGTCCT--TAAAC--A---GACATGGCACCCGTCGACGAAGTGGGAGAGTTGCTCGAGCTCGTG-G-------CGCTTATGCTAATTTACTGCGC--T-T-GTCACAT', 'GG---CTCA-AAACTTATTGGACATG--ACCC--CG--------GGAGAGTTGCT---GCT--TGTGAAACTAACGCTTATGCTAGTTTACAGC-CCATGTCGTC-CAT')\n"
     ]
    }
   ],
   "source": [
    "import io\n",
    "with open(\"test\\dataset_865691_8.txt\") as f:    \n",
    "    lines = f.read().splitlines()\n",
    "    match, mismatch, opening, extension = [int(x) for x in lines[0].split()]\n",
    "    seq1 = lines[1].strip()\n",
    "    seq2 = lines[2].strip()\n",
    "    print(AffineAlignment(match, mismatch, opening, extension, seq1, seq2))"
   ]
  }
 ],
 "metadata": {
  "kernelspec": {
   "display_name": "Python 3 (ipykernel)",
   "language": "python",
   "name": "python3"
  },
  "language_info": {
   "codemirror_mode": {
    "name": "ipython",
    "version": 3
   },
   "file_extension": ".py",
   "mimetype": "text/x-python",
   "name": "python",
   "nbconvert_exporter": "python",
   "pygments_lexer": "ipython3",
   "version": "3.9.13"
  }
 },
 "nbformat": 4,
 "nbformat_minor": 5
}
