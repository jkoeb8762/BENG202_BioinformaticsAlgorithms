{
 "cells": [
  {
   "cell_type": "code",
   "execution_count": 6,
   "id": "a0fa1600",
   "metadata": {},
   "outputs": [],
   "source": [
    "def global_alignment_affine_gap_penalty(v, w, match, mismatch, sigma, epsilon):\n",
    "    '''Returns the global alignment score of v and w with constant gap peantaly sigma subject to the scoring_matrix.'''\n",
    "    # Initialize the matrices.\n",
    "    S = [[[0 for j in range(len(w)+1)] for i in range(len(v)+1)] for k in range(3)]\n",
    "    backtrack = [[[0 for j in range(len(w)+1)] for i in range(len(v)+1)] for k in range(3)]\n",
    "\n",
    "    # Initialize the edges with the given penalties.\n",
    "    for i in range(1, len(v)+1):\n",
    "        S[0][i][0] = -sigma - (i-1)*epsilon\n",
    "        S[1][i][0] = -sigma - (i-1)*epsilon\n",
    "        S[2][i][0] = -10*sigma\n",
    "    for j in range(1, len(w)+1):\n",
    "        S[2][0][j] = -sigma - (j-1)*epsilon\n",
    "        S[1][0][j] = -sigma - (j-1)*epsilon\n",
    "        S[0][0][j] = -10*sigma\n",
    "\n",
    "    # Fill in the scores for the lower, middle, upper, and backtrack matrices.\n",
    "    for i in range(1, len(v)+1):\n",
    "        for j in range(1, len(w)+1):\n",
    "            lower_scores = [S[0][i-1][j] - epsilon, S[1][i-1][j] - sigma]\n",
    "            S[0][i][j] = max(lower_scores)\n",
    "            backtrack[0][i][j] = lower_scores.index(S[0][i][j])\n",
    "\n",
    "            upper_scores = [S[2][i][j-1] - epsilon, S[1][i][j-1] - sigma]\n",
    "            S[2][i][j] = max(upper_scores)\n",
    "            backtrack[2][i][j] = upper_scores.index(S[2][i][j])\n",
    "\n",
    "            if v[i-1] == w[j-1]:\n",
    "                diag = S[1][i-1][j-1] + match\n",
    "            else:\n",
    "                diag = S[1][i-1][j-1] - mismatch\n",
    "            middle_scores = [S[0][i][j], diag, S[2][i][j]]\n",
    "            S[1][i][j] = max(middle_scores)\n",
    "            backtrack[1][i][j] = middle_scores.index(S[1][i][j])\n",
    "\n",
    "   # Initialize the values of i, j and the aligned sequences.\n",
    "    i,j = len(v), len(w)\n",
    "    v_aligned, w_aligned = v, w\n",
    "\n",
    "    # Get the maximum score, and the corresponding backtrack starting position.\n",
    "    matrix_scores = [S[0][i][j], S[1][i][j], S[2][i][j]]\n",
    "    max_score = max(matrix_scores)\n",
    "    backtrack_matrix = matrix_scores.index(max_score)\n",
    "\n",
    "    # Quick lambda function to insert indels.\n",
    "    insert_indel = lambda word, i: word[:i] + '-' + word[i:]\n",
    "\n",
    "    # Backtrack to the edge of the matrix starting bottom right.\n",
    "    while i*j != 0:\n",
    "        if backtrack_matrix == 0:  # Lower backtrack matrix conditions.\n",
    "            if backtrack[0][i][j] == 1:\n",
    "                backtrack_matrix = 1\n",
    "            i -= 1\n",
    "            w_aligned = insert_indel(w_aligned, j)\n",
    "\n",
    "        elif backtrack_matrix == 1:  # Middle backtrack matrix conditions.\n",
    "            if backtrack[1][i][j] == 0:\n",
    "                backtrack_matrix = 0\n",
    "            elif backtrack[1][i][j] == 2:\n",
    "                backtrack_matrix = 2\n",
    "            else:\n",
    "                i -= 1\n",
    "                j -= 1\n",
    "\n",
    "        else:  # Upper backtrack matrix conditions.\n",
    "            if backtrack[2][i][j] == 1:\n",
    "                backtrack_matrix = 1\n",
    "            j -= 1\n",
    "            v_aligned = insert_indel(v_aligned, i)\n",
    "\n",
    "    # Prepend the necessary preceeding indels to get to (0,0).\n",
    "    for _ in range(i):\n",
    "        w_aligned = insert_indel(w_aligned, 0)\n",
    "    for _ in range(j):\n",
    "        v_aligned = insert_indel(v_aligned, 0)\n",
    "\n",
    "    return str(max_score), v_aligned, w_aligned\n"
   ]
  },
  {
   "cell_type": "code",
   "execution_count": 10,
   "id": "4e0f2d95",
   "metadata": {},
   "outputs": [
    {
     "name": "stdout",
     "output_type": "stream",
     "text": [
      "('-21', 'GGGTCCT--TAAAC--A---GACATGGCACCCGTCGACGAAGTGGGAGAGTTGCTCGAGCTCGTG-G-------CGCTTATGCTAATTTACTGCGC--T-T-GTCACAT', 'GG---CTCA-AAACTTATTGGACATG--ACCC--CG--------GGAGAGTTGCT---GCT--TGTGAAACTAACGCTTATGCTAGTTTACAGC-CCATGTCGTC-CAT')\n"
     ]
    }
   ],
   "source": [
    "import io\n",
    "#with open(\"AffineAlignment\\inputs\\input_9.txt\") as f:\n",
    "with open(\"dataset_865691_8.txt\") as f:    \n",
    "    lines = f.read().splitlines()\n",
    "    match, mismatch, opening, extension = [int(x) for x in lines[0].split()]\n",
    "    seq1 = lines[1].strip()\n",
    "    seq2 = lines[2].strip()\n",
    "    print(global_alignment_affine_gap_penalty(seq1, seq2, match, mismatch, opening, extension))"
   ]
  },
  {
   "cell_type": "code",
   "execution_count": 9,
   "id": "15b09078",
   "metadata": {},
   "outputs": [
    {
     "name": "stdout",
     "output_type": "stream",
     "text": [
      "-12 ACGTA ACT--\n"
     ]
    }
   ],
   "source": [
    "with open(\"AffineAlignment\\outputs\\output_9.txt\") as f:\n",
    "    lines = f.read().splitlines()\n",
    "    score = lines[0]\n",
    "    seq1 = lines[1].strip()\n",
    "    seq2 = lines[2].strip()\n",
    "    print(score, seq1,seq2)"
   ]
  },
  {
   "cell_type": "code",
   "execution_count": null,
   "id": "c1483e24",
   "metadata": {},
   "outputs": [],
   "source": []
  }
 ],
 "metadata": {
  "kernelspec": {
   "display_name": "Python 3 (ipykernel)",
   "language": "python",
   "name": "python3"
  },
  "language_info": {
   "codemirror_mode": {
    "name": "ipython",
    "version": 3
   },
   "file_extension": ".py",
   "mimetype": "text/x-python",
   "name": "python",
   "nbconvert_exporter": "python",
   "pygments_lexer": "ipython3",
   "version": "3.9.12"
  }
 },
 "nbformat": 4,
 "nbformat_minor": 5
}
