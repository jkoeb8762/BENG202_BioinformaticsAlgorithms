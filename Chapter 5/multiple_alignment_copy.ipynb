{
 "cells": [
  {
   "cell_type": "code",
   "execution_count": 1,
   "id": "e7a61bea",
   "metadata": {},
   "outputs": [],
   "source": [
    "from itertools import product\n",
    "\n",
    "def multiple_alignment(str_list):\n",
    "    str_list = [\"-\" + string for string in str_list]\n",
    "\n",
    "    score_mat = {}\n",
    "    backtrack_mat = {}\n",
    "\n",
    "    def add_tuples_elemwise(t1, t2):\n",
    "        return tuple(sum(x) for x in zip(t1, t2))\n",
    "\n",
    "    # all possible \"moves\"\n",
    "    perm_list = list(product([0, -1], repeat=len(str_list)))[1:]\n",
    "\n",
    "    # fill n-dimensional score and backtrack matrices\n",
    "    for index in product(*map(range, map(lambda s: len(s) + 1, str_list))):\n",
    "        if index.count(0) >= len(str_list) - 1:\n",
    "            if sum(index) == 0:\n",
    "                score_mat[index] = 0\n",
    "            else:\n",
    "                score_mat[index] = 0\n",
    "                move = tuple(0 if id == 0 else -1 for id in index)\n",
    "                bck = -1\n",
    "                for idx, perm in enumerate(perm_list):\n",
    "                    if perm == move:\n",
    "                        bck = idx\n",
    "                        break\n",
    "                backtrack_mat[index] = bck\n",
    "        else:\n",
    "            possible_scores = []\n",
    "            for perm_idx, move in enumerate(perm_list):\n",
    "                prev_idx = add_tuples_elemwise(index, move)\n",
    "                if -1 not in prev_idx:\n",
    "                    prev_score = score_mat[prev_idx]\n",
    "                    chars = [str_list[i][index[i] - 1] if val == -1 else \"-\" for i, val in enumerate(move)]\n",
    "                    # score of an alignment column is 1 if all three symbols are identical and 0 otherwise\n",
    "\n",
    "                    current = 1 if all(elem == chars[0] for elem in chars) and chars[0] != \"-\" else 0\n",
    "                    possible_scores.append((prev_score + current, perm_idx))\n",
    "            score_mat[index], backtrack_mat[index] = max(possible_scores, key=lambda p: p[0])\n",
    "\n",
    "    # backtrack\n",
    "    alignment = [\"\" for _ in str_list]\n",
    "    current_index = list(map(len, str_list))\n",
    "    max_score = score_mat[tuple(current_index)]\n",
    "\n",
    "    while sum(current_index) != 0:\n",
    "        back_perm_idx = backtrack_mat[tuple(current_index)]\n",
    "        permutation = perm_list[back_perm_idx]\n",
    "        for i, perm_value in enumerate(permutation):\n",
    "            if perm_value == 0:\n",
    "                alignment[i] = \"-\" + alignment[i]\n",
    "            else:\n",
    "                alignment[i] = str_list[i][current_index[i] - 1] + alignment[i]\n",
    "\n",
    "        current_index = add_tuples_elemwise(tuple(current_index), permutation)\n",
    "\n",
    "    # remove all \"-\" columns\n",
    "    to_rm_idx = []\n",
    "    for pos in range(len(alignment[0])):\n",
    "        temp = [x[pos] for x in alignment]\n",
    "        if all(x == \"-\" for x in temp):\n",
    "            to_rm_idx.append(pos)\n",
    "\n",
    "    for i in range(len(alignment)):\n",
    "        alignment[i] = \"\".join([char for idx, char in enumerate(alignment[i]) if idx not in to_rm_idx])\n",
    "\n",
    "    return max_score, alignment"
   ]
  },
  {
   "cell_type": "code",
   "execution_count": 12,
   "id": "f23dbfe4",
   "metadata": {},
   "outputs": [
    {
     "name": "stdout",
     "output_type": "stream",
     "text": [
      "5 ['G--T--C-GGAC---TCG--', '---TT-C-G-A-CAAT--T-', '-AGT-ACTG-A----T---C']\n"
     ]
    }
   ],
   "source": [
    "#with open(\"MultipleAlignment\\inputs\\input_4.txt\") as f:\n",
    "with open(\"dataset_865693_5.txt\") as f:\n",
    "    lines = f.read().splitlines()\n",
    "    seq1 = lines[0].strip()\n",
    "    seq2 = lines[1].strip()\n",
    "    seq3 = lines[2].strip()\n",
    "    str_list = [seq1, seq2, seq3]\n",
    "    print(*multiple_alignment(str_list))"
   ]
  },
  {
   "cell_type": "code",
   "execution_count": 10,
   "id": "cafe776c",
   "metadata": {},
   "outputs": [
    {
     "name": "stdout",
     "output_type": "stream",
     "text": [
      "['2', 'A------T', 'A----CCT', 'AGGGG--T']\n"
     ]
    }
   ],
   "source": [
    "with open(\"MultipleAlignment\\outputs\\output_4.txt\") as f:\n",
    "    lines = f.read().splitlines()\n",
    "    print(lines)"
   ]
  },
  {
   "cell_type": "code",
   "execution_count": null,
   "id": "7721809e",
   "metadata": {},
   "outputs": [],
   "source": []
  }
 ],
 "metadata": {
  "kernelspec": {
   "display_name": "Python 3 (ipykernel)",
   "language": "python",
   "name": "python3"
  },
  "language_info": {
   "codemirror_mode": {
    "name": "ipython",
    "version": 3
   },
   "file_extension": ".py",
   "mimetype": "text/x-python",
   "name": "python",
   "nbconvert_exporter": "python",
   "pygments_lexer": "ipython3",
   "version": "3.9.12"
  }
 },
 "nbformat": 4,
 "nbformat_minor": 5
}
