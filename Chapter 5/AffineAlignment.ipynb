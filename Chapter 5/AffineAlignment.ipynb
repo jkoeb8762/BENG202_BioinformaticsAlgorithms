{
 "cells": [
  {
   "cell_type": "code",
   "execution_count": 201,
   "id": "5d0d895e",
   "metadata": {},
   "outputs": [],
   "source": [
    "def matrix_helper(x, y):\n",
    "    return [[0]*y for i in range(x)]\n",
    "def AffineAlignment(match_reward, mismatch_penalty, gap_opening_penalty, gap_extension_penalty, seq1, seq2):\n",
    "    n = len(seq1)\n",
    "    m = len(seq2)\n",
    "    lower = matrix_helper(n+1, m+1)\n",
    "    middle = matrix_helper(n+1, m+1)\n",
    "    upper = matrix_helper(n+1, m+1)\n",
    "    backtrack = matrix_helper(n+1, m+1)\n",
    "    \n",
    "    for i in range(1, n+1):\n",
    "        lower[i][0] = -gap_opening_penalty - gap_extension_penalty * (i-1)\n",
    "        middle[i][0] = -gap_opening_penalty - gap_extension_penalty * (i-1)\n",
    "        upper[i][0] = -10*gap_extension_penalty\n",
    "    for j in range(1, m+1):\n",
    "        lower[0][j] = -10*gap_extension_penalty\n",
    "        middle[0][j] = -gap_opening_penalty - gap_extension_penalty * (j-1)\n",
    "        upper[0][j] = -gap_opening_penalty - gap_extension_penalty * (j-1)\n",
    "    \n",
    "    for i in range(1, n+1):\n",
    "        for j in range(1, m+1):\n",
    "            lower[i][j] = max(lower[i-1][j] - gap_extension_penalty, middle[i-1][j] - gap_opening_penalty)\n",
    "            upper[i][j] = max(upper[i][j-1] - gap_extension_penalty, middle[i][j-1] - gap_opening_penalty)\n",
    "            \n",
    "            if seq1[i-1] == seq2[j-1]:\n",
    "                diag = middle[i - 1][j - 1] + match_reward\n",
    "            else: \n",
    "                diag = middle[i - 1][j - 1] - mismatch_penalty\n",
    "            middle_scores = [lower[i][j], diag, upper[i][j]]\n",
    "            middle[i][j] = max(middle_scores)\n",
    "            \n",
    "            backtrack[i][j] = middle_scores.index(middle[i][j]) + 1\n",
    "    best = middle[n][m]\n",
    "    a1 = seq1\n",
    "    a2 = seq2\n",
    "    x = n\n",
    "    y = m     \n",
    "    working = backtrack[x][y]\n",
    "    while x*y != 0:\n",
    "        if working == 1:\n",
    "            #print(a2[y:])\n",
    "            x -= 1\n",
    "            #a2 = a2 + '-'\n",
    "            a2 = a2[:y] + '-' + a2[y:] \n",
    "        elif working == 2: \n",
    "            x -= 1\n",
    "            y -= 1\n",
    "            #a1 = seq1[x] + a1\n",
    "            #a2 = seq2[y] + a2\n",
    "        elif working == 3:\n",
    "            y -= 1\n",
    "            a1 = a1[:x] + '-' + a1[x:]\n",
    "        working = backtrack[x][y]\n",
    "    \n",
    "    for i in range(x):\n",
    "        a2 = '-' + a2\n",
    "    for j in range(y):\n",
    "        a1 = '-' + a1\n",
    "    \n",
    "    return best, a1, a2"
   ]
  },
  {
   "cell_type": "code",
   "execution_count": 197,
   "id": "163c4f98",
   "metadata": {},
   "outputs": [
    {
     "data": {
      "text/plain": [
       "[[0, 0, 0, 0, 0], [0, 2, 3, 3, 3], [0, 1, 2, 1, 2]]"
      ]
     },
     "execution_count": 197,
     "metadata": {},
     "output_type": "execute_result"
    }
   ],
   "source": [
    "seq1 = \"GA\"\n",
    "seq2 = \"GTTA\"\n",
    "AffineAlignment(1,3,2,1, seq1,seq2)"
   ]
  },
  {
   "cell_type": "code",
   "execution_count": 202,
   "id": "90e05904",
   "metadata": {},
   "outputs": [
    {
     "name": "stdout",
     "output_type": "stream",
     "text": [
      "(-7, 'AGCTAGCCTAG', '-G-T-------')\n"
     ]
    }
   ],
   "source": [
    "import io\n",
    "with open(\"AffineAlignment\\inputs\\input_7.txt\") as f:\n",
    "#with open(\"dataset_865691_8.txt\") as f:    \n",
    "    lines = f.read().splitlines()\n",
    "    match_reward, mismatch_penalty, gap_opening_penalty, gap_extension_penalty = [int(x) for x in lines[0].split()]\n",
    "    seq1 = lines[1].strip()\n",
    "    seq2 = lines[2].strip()\n",
    "    print(AffineAlignment(match_reward, mismatch_penalty, gap_opening_penalty, gap_extension_penalty, seq1,seq2))"
   ]
  },
  {
   "cell_type": "code",
   "execution_count": 203,
   "id": "46cbd85c",
   "metadata": {},
   "outputs": [
    {
     "name": "stdout",
     "output_type": "stream",
     "text": [
      "-7 AGCTAGCCTAG -G-T-------\n"
     ]
    }
   ],
   "source": [
    "with open(\"AffineAlignment\\outputs\\output_7.txt\") as f:\n",
    "    lines = f.read().splitlines()\n",
    "    score = lines[0]\n",
    "    seq1 = lines[1].strip()\n",
    "    seq2 = lines[2].strip()\n",
    "    print(score, seq1,seq2)"
   ]
  },
  {
   "cell_type": "code",
   "execution_count": null,
   "id": "75b4cfc5",
   "metadata": {},
   "outputs": [],
   "source": []
  }
 ],
 "metadata": {
  "kernelspec": {
   "display_name": "Python 3 (ipykernel)",
   "language": "python",
   "name": "python3"
  },
  "language_info": {
   "codemirror_mode": {
    "name": "ipython",
    "version": 3
   },
   "file_extension": ".py",
   "mimetype": "text/x-python",
   "name": "python",
   "nbconvert_exporter": "python",
   "pygments_lexer": "ipython3",
   "version": "3.9.12"
  }
 },
 "nbformat": 4,
 "nbformat_minor": 5
}
