{
 "cells": [
  {
   "cell_type": "code",
   "execution_count": null,
   "id": "ccb8e501",
   "metadata": {},
   "outputs": [],
   "source": [
    "def MiddleEdge(match, mismatch, indel, seq1, seq2):\n",
    "    \n",
    "    "
   ]
  },
  {
   "cell_type": "code",
   "execution_count": null,
   "id": "8747bf51",
   "metadata": {},
   "outputs": [],
   "source": [
    "import io\n",
    "with open(\"MiddleEdge\\inputs\\input_2.txt\") as f:\n",
    "#with open(\"dataset_865692_12.txt\") as f:\n",
    "    lines = f.read().splitlines()\n",
    "    match_reward, mismatch_penalty, gap_opening_penalty = [int(x) for x in lines[0].split()]\n",
    "    seq1 = lines[1].strip()\n",
    "    seq2 = lines[2].strip()\n",
    "    print(mid_edge(seq1, seq2, match_reward, mismatch_penalty, gap_opening_penalty))"
   ]
  },
  {
   "cell_type": "code",
   "execution_count": 31,
   "id": "9d7e3a84",
   "metadata": {},
   "outputs": [
    {
     "ename": "ValueError",
     "evalue": "not enough values to unpack (expected 3, got 2)",
     "output_type": "error",
     "traceback": [
      "\u001b[1;31m---------------------------------------------------------------------------\u001b[0m",
      "\u001b[1;31mValueError\u001b[0m                                Traceback (most recent call last)",
      "Input \u001b[1;32mIn [31]\u001b[0m, in \u001b[0;36m<cell line: 1>\u001b[1;34m()\u001b[0m\n\u001b[1;32m----> 1\u001b[0m _, mid_edge_from, mid_edge_to \u001b[38;5;241m=\u001b[39m middle_edge(seq1, seq2, match_reward, mismatch_penalty, gap_opening_penalty)\n\u001b[0;32m      3\u001b[0m \u001b[38;5;28mprint\u001b[39m(\u001b[38;5;124mf\u001b[39m\u001b[38;5;124m\"\u001b[39m\u001b[38;5;124m(\u001b[39m\u001b[38;5;132;01m{\u001b[39;00mmid_edge_from[\u001b[38;5;241m0\u001b[39m]\u001b[38;5;132;01m}\u001b[39;00m\u001b[38;5;124m, \u001b[39m\u001b[38;5;132;01m{\u001b[39;00mmid_edge_from[\u001b[38;5;241m1\u001b[39m]\u001b[38;5;132;01m}\u001b[39;00m\u001b[38;5;124m) (\u001b[39m\u001b[38;5;132;01m{\u001b[39;00mmid_edge_to[\u001b[38;5;241m0\u001b[39m]\u001b[38;5;132;01m}\u001b[39;00m\u001b[38;5;124m, \u001b[39m\u001b[38;5;132;01m{\u001b[39;00mmid_edge_to[\u001b[38;5;241m1\u001b[39m]\u001b[38;5;132;01m}\u001b[39;00m\u001b[38;5;124m)\u001b[39m\u001b[38;5;124m\"\u001b[39m)\n",
      "\u001b[1;31mValueError\u001b[0m: not enough values to unpack (expected 3, got 2)"
     ]
    }
   ],
   "source": [
    "_, mid_edge_from, mid_edge_to = middle_edge(seq1, seq2, match_reward, mismatch_penalty, gap_opening_penalty)\n",
    "\n",
    "print(f\"({mid_edge_from[0]}, {mid_edge_from[1]}) ({mid_edge_to[0]}, {mid_edge_to[1]})\")"
   ]
  },
  {
   "cell_type": "code",
   "execution_count": 37,
   "id": "24758282",
   "metadata": {},
   "outputs": [
    {
     "name": "stdout",
     "output_type": "stream",
     "text": [
      "1 3 1 4\n"
     ]
    }
   ],
   "source": [
    "with open(\"MiddleEdge\\outputs\\output_5.txt\") as f:\n",
    "    lines = f.read().splitlines()\n",
    "    print(lines[0], lines[1])"
   ]
  },
  {
   "cell_type": "code",
   "execution_count": null,
   "id": "97b57c09",
   "metadata": {},
   "outputs": [],
   "source": []
  }
 ],
 "metadata": {
  "kernelspec": {
   "display_name": "Python 3 (ipykernel)",
   "language": "python",
   "name": "python3"
  },
  "language_info": {
   "codemirror_mode": {
    "name": "ipython",
    "version": 3
   },
   "file_extension": ".py",
   "mimetype": "text/x-python",
   "name": "python",
   "nbconvert_exporter": "python",
   "pygments_lexer": "ipython3",
   "version": "3.9.12"
  }
 },
 "nbformat": 4,
 "nbformat_minor": 5
}
